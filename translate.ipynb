{
 "cells": [
  {
   "cell_type": "code",
   "execution_count": 2,
   "metadata": {},
   "outputs": [
    {
     "name": "stdout",
     "output_type": "stream",
     "text": [
      "Conversion terminée. Le fichier a été sauvegardé sous : roe_results_tab.csv\n"
     ]
    }
   ],
   "source": [
    "import pandas as pd\n",
    "\n",
    "# Chemin vers le fichier CSV existant\n",
    "input_file = \"roe_results.csv\"\n",
    "output_file = \"roe_results_tab.csv\"\n",
    "\n",
    "# Lire le fichier CSV existant\n",
    "df = pd.read_csv(input_file)\n",
    "\n",
    "# Sauvegarder avec un nouveau délimiteur (tabulation)\n",
    "df.to_csv(output_file, sep='\\t', index=False)\n",
    "\n",
    "print(f\"Conversion terminée. Le fichier a été sauvegardé sous : {output_file}\")\n"
   ]
  }
 ],
 "metadata": {
  "kernelspec": {
   "display_name": ".venv",
   "language": "python",
   "name": "python3"
  },
  "language_info": {
   "codemirror_mode": {
    "name": "ipython",
    "version": 3
   },
   "file_extension": ".py",
   "mimetype": "text/x-python",
   "name": "python",
   "nbconvert_exporter": "python",
   "pygments_lexer": "ipython3",
   "version": "3.13.0"
  }
 },
 "nbformat": 4,
 "nbformat_minor": 2
}
