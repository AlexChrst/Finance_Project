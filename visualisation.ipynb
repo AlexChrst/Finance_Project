{
 "cells": [
  {
   "cell_type": "code",
<<<<<<< HEAD
   "execution_count": 1,
=======
   "execution_count": 2,
>>>>>>> 49d27d7048e76aefd1fd9b8a21e56644e9e14c22
   "metadata": {},
   "outputs": [],
   "source": [
    "import pandas as pd\n",
<<<<<<< HEAD
    "import plotly.express as px"
   ]
  },
  {
   "cell_type": "code",
   "execution_count": 2,
   "metadata": {},
   "outputs": [
    {
     "data": {
      "text/html": [
       "<div>\n",
       "<style scoped>\n",
       "    .dataframe tbody tr th:only-of-type {\n",
       "        vertical-align: middle;\n",
       "    }\n",
       "\n",
       "    .dataframe tbody tr th {\n",
       "        vertical-align: top;\n",
       "    }\n",
       "\n",
       "    .dataframe thead th {\n",
       "        text-align: right;\n",
       "    }\n",
       "</style>\n",
       "<table border=\"1\" class=\"dataframe\">\n",
       "  <thead>\n",
       "    <tr style=\"text-align: right;\">\n",
       "      <th></th>\n",
       "      <th>name</th>\n",
       "      <th>grade</th>\n",
       "      <th>country</th>\n",
       "      <th>date</th>\n",
       "      <th>industry</th>\n",
       "      <th>employees</th>\n",
       "    </tr>\n",
       "  </thead>\n",
       "  <tbody>\n",
       "    <tr>\n",
       "      <th>0</th>\n",
       "      <td>1-800-FLOWERS.COM, Inc.</td>\n",
       "      <td>22.6</td>\n",
       "      <td>United States of America</td>\n",
       "      <td>Apr 8, 2024</td>\n",
       "      <td>Retailing</td>\n",
       "      <td>4,000</td>\n",
       "    </tr>\n",
       "    <tr>\n",
       "      <th>1</th>\n",
       "      <td>1&amp;1 AG</td>\n",
       "      <td>27.7</td>\n",
       "      <td>Germany</td>\n",
       "      <td>Oct 14, 2024</td>\n",
       "      <td>Telecommunication Services</td>\n",
       "      <td>3,280</td>\n",
       "    </tr>\n",
       "    <tr>\n",
       "      <th>2</th>\n",
       "      <td>10X Genomics, Inc.</td>\n",
       "      <td>22.5</td>\n",
       "      <td>United States of America</td>\n",
       "      <td>Apr 10, 2024</td>\n",
       "      <td>Pharmaceuticals</td>\n",
       "      <td>1,259</td>\n",
       "    </tr>\n",
       "    <tr>\n",
       "      <th>3</th>\n",
       "      <td>11 Bit Studios SA</td>\n",
       "      <td>16.3</td>\n",
       "      <td>Poland</td>\n",
       "      <td>Jan 31, 2023</td>\n",
       "      <td>Software &amp; Services</td>\n",
       "      <td>299</td>\n",
       "    </tr>\n",
       "    <tr>\n",
       "      <th>4</th>\n",
       "      <td>1st Source Corp.</td>\n",
       "      <td>35.0</td>\n",
       "      <td>United States of America</td>\n",
       "      <td>Oct 1, 2024</td>\n",
       "      <td>Banks</td>\n",
       "      <td>1,170</td>\n",
       "    </tr>\n",
       "    <tr>\n",
       "      <th>...</th>\n",
       "      <td>...</td>\n",
       "      <td>...</td>\n",
       "      <td>...</td>\n",
       "      <td>...</td>\n",
       "      <td>...</td>\n",
       "      <td>...</td>\n",
       "    </tr>\n",
       "    <tr>\n",
       "      <th>13862</th>\n",
       "      <td>Zydus Wellness Ltd.</td>\n",
       "      <td>27.9</td>\n",
       "      <td>India</td>\n",
       "      <td>Dec 23, 2024</td>\n",
       "      <td>Food Products</td>\n",
       "      <td>1,008</td>\n",
       "    </tr>\n",
       "    <tr>\n",
       "      <th>13863</th>\n",
       "      <td>Zylox-Tonbridge Medical Technology Co., Ltd.</td>\n",
       "      <td>25.6</td>\n",
       "      <td>China</td>\n",
       "      <td>Mar 20, 2024</td>\n",
       "      <td>Healthcare</td>\n",
       "      <td>756</td>\n",
       "    </tr>\n",
       "    <tr>\n",
       "      <th>13864</th>\n",
       "      <td>Zymeworks, Inc.</td>\n",
       "      <td>29.0</td>\n",
       "      <td>United States of America</td>\n",
       "      <td>Mar 19, 2024</td>\n",
       "      <td>Pharmaceuticals</td>\n",
       "      <td>290</td>\n",
       "    </tr>\n",
       "    <tr>\n",
       "      <th>13865</th>\n",
       "      <td>Zynex, Inc.</td>\n",
       "      <td>32.0</td>\n",
       "      <td>United States of America</td>\n",
       "      <td>Aug 15, 2023</td>\n",
       "      <td>Healthcare</td>\n",
       "      <td>1,100</td>\n",
       "    </tr>\n",
       "    <tr>\n",
       "      <th>13866</th>\n",
       "      <td>Zyxel Group Corp.</td>\n",
       "      <td>12.5</td>\n",
       "      <td>Taiwan</td>\n",
       "      <td>Apr 18, 2023</td>\n",
       "      <td>Technology Hardware</td>\n",
       "      <td>78</td>\n",
       "    </tr>\n",
       "  </tbody>\n",
       "</table>\n",
       "<p>13867 rows × 6 columns</p>\n",
       "</div>"
      ],
      "text/plain": [
       "                                               name  grade  \\\n",
       "0                           1-800-FLOWERS.COM, Inc.   22.6   \n",
       "1                                            1&1 AG   27.7   \n",
       "2                                10X Genomics, Inc.   22.5   \n",
       "3                                 11 Bit Studios SA   16.3   \n",
       "4                                  1st Source Corp.   35.0   \n",
       "...                                             ...    ...   \n",
       "13862                           Zydus Wellness Ltd.   27.9   \n",
       "13863  Zylox-Tonbridge Medical Technology Co., Ltd.   25.6   \n",
       "13864                               Zymeworks, Inc.   29.0   \n",
       "13865                                   Zynex, Inc.   32.0   \n",
       "13866                             Zyxel Group Corp.   12.5   \n",
       "\n",
       "                        country          date                    industry  \\\n",
       "0      United States of America   Apr 8, 2024                   Retailing   \n",
       "1                       Germany  Oct 14, 2024  Telecommunication Services   \n",
       "2      United States of America  Apr 10, 2024             Pharmaceuticals   \n",
       "3                        Poland  Jan 31, 2023         Software & Services   \n",
       "4      United States of America   Oct 1, 2024                       Banks   \n",
       "...                         ...           ...                         ...   \n",
       "13862                     India  Dec 23, 2024               Food Products   \n",
       "13863                     China  Mar 20, 2024                  Healthcare   \n",
       "13864  United States of America  Mar 19, 2024             Pharmaceuticals   \n",
       "13865  United States of America  Aug 15, 2023                  Healthcare   \n",
       "13866                    Taiwan  Apr 18, 2023         Technology Hardware   \n",
       "\n",
       "      employees  \n",
       "0         4,000  \n",
       "1         3,280  \n",
       "2         1,259  \n",
       "3           299  \n",
       "4         1,170  \n",
       "...         ...  \n",
       "13862     1,008  \n",
       "13863       756  \n",
       "13864       290  \n",
       "13865     1,100  \n",
       "13866        78  \n",
       "\n",
       "[13867 rows x 6 columns]"
      ]
     },
     "execution_count": 2,
     "metadata": {},
     "output_type": "execute_result"
    }
   ],
   "source": [
    "esg_df = pd.read_csv('./real_tabulation_scraped_data.csv', sep = '\\t')\n",
    "esg_df"
   ]
  },
  {
   "cell_type": "code",
   "execution_count": 3,
   "metadata": {},
   "outputs": [
    {
     "name": "stdout",
     "output_type": "stream",
     "text": [
      "Sur les 13867 entreprises de notre base, 0 n'ont pas de pays renseigné.\n",
      "Notre base contient 103 pays.\n",
      "En ne gardant que ceux disposant de plus de 10 entreprises, il en reste 54.\n"
     ]
    }
   ],
   "source": [
    "missing_country = esg_df['country'].isnull().sum()\n",
    "print(f\"Sur les {len(esg_df)} entreprises de notre base, {missing_country} n'ont pas de pays renseigné.\")\n",
    "country_counts = esg_df['country'].value_counts()\n",
    "country_counts_filtered = country_counts[country_counts > 10]\n",
    "\n",
    "countries_big_enough = country_counts[country_counts >= 10].index\n",
    "filtered_esg_df = esg_df[esg_df['country'].isin(countries_big_enough)]\n",
    "\n",
    "country_dict_filtered = country_counts_filtered.to_dict()\n",
    "print(f\"Notre base contient {len(country_counts)} pays.\\n\"\n",
    "      f\"En ne gardant que ceux disposant de plus de 10 entreprises, il en reste {len(country_dict_filtered)}.\")"
   ]
  },
  {
   "cell_type": "code",
   "execution_count": 4,
   "metadata": {},
   "outputs": [
    {
     "data": {
      "application/vnd.plotly.v1+json": {
       "config": {
        "plotlyServerURL": "https://plot.ly"
       },
       "data": [
        {
         "alignmentgroup": "True",
         "hovertemplate": "Country=%{x}<br>Count=%{y}<extra></extra>",
         "legendgroup": "United States of America",
         "marker": {
          "color": "#636efa",
          "pattern": {
           "shape": ""
          }
         },
         "name": "United States of America",
         "offsetgroup": "United States of America",
         "orientation": "v",
         "showlegend": true,
         "textposition": "auto",
         "type": "bar",
         "x": [
          "United States of America"
         ],
         "xaxis": "x",
         "y": [
          3171
         ],
         "yaxis": "y"
        },
        {
         "alignmentgroup": "True",
         "hovertemplate": "Country=%{x}<br>Count=%{y}<extra></extra>",
         "legendgroup": "China",
         "marker": {
          "color": "#EF553B",
          "pattern": {
           "shape": ""
          }
         },
         "name": "China",
         "offsetgroup": "China",
         "orientation": "v",
         "showlegend": true,
         "textposition": "auto",
         "type": "bar",
         "x": [
          "China"
         ],
         "xaxis": "x",
         "y": [
          1944
         ],
         "yaxis": "y"
        },
        {
         "alignmentgroup": "True",
         "hovertemplate": "Country=%{x}<br>Count=%{y}<extra></extra>",
         "legendgroup": "Japan",
         "marker": {
          "color": "#00cc96",
          "pattern": {
           "shape": ""
          }
         },
         "name": "Japan",
         "offsetgroup": "Japan",
         "orientation": "v",
         "showlegend": true,
         "textposition": "auto",
         "type": "bar",
         "x": [
          "Japan"
         ],
         "xaxis": "x",
         "y": [
          1465
         ],
         "yaxis": "y"
        },
        {
         "alignmentgroup": "True",
         "hovertemplate": "Country=%{x}<br>Count=%{y}<extra></extra>",
         "legendgroup": "India",
         "marker": {
          "color": "#ab63fa",
          "pattern": {
           "shape": ""
          }
         },
         "name": "India",
         "offsetgroup": "India",
         "orientation": "v",
         "showlegend": true,
         "textposition": "auto",
         "type": "bar",
         "x": [
          "India"
         ],
         "xaxis": "x",
         "y": [
          657
         ],
         "yaxis": "y"
        },
        {
         "alignmentgroup": "True",
         "hovertemplate": "Country=%{x}<br>Count=%{y}<extra></extra>",
         "legendgroup": "United Kingdom",
         "marker": {
          "color": "#FFA15A",
          "pattern": {
           "shape": ""
          }
         },
         "name": "United Kingdom",
         "offsetgroup": "United Kingdom",
         "orientation": "v",
         "showlegend": true,
         "textposition": "auto",
         "type": "bar",
         "x": [
          "United Kingdom"
         ],
         "xaxis": "x",
         "y": [
          601
         ],
         "yaxis": "y"
        },
        {
         "alignmentgroup": "True",
         "hovertemplate": "Country=%{x}<br>Count=%{y}<extra></extra>",
         "legendgroup": "Taiwan",
         "marker": {
          "color": "#19d3f3",
          "pattern": {
           "shape": ""
          }
         },
         "name": "Taiwan",
         "offsetgroup": "Taiwan",
         "orientation": "v",
         "showlegend": true,
         "textposition": "auto",
         "type": "bar",
         "x": [
          "Taiwan"
         ],
         "xaxis": "x",
         "y": [
          555
         ],
         "yaxis": "y"
        },
        {
         "alignmentgroup": "True",
         "hovertemplate": "Country=%{x}<br>Count=%{y}<extra></extra>",
         "legendgroup": "South Korea",
         "marker": {
          "color": "#FF6692",
          "pattern": {
           "shape": ""
          }
         },
         "name": "South Korea",
         "offsetgroup": "South Korea",
         "orientation": "v",
         "showlegend": true,
         "textposition": "auto",
         "type": "bar",
         "x": [
          "South Korea"
         ],
         "xaxis": "x",
         "y": [
          550
         ],
         "yaxis": "y"
        },
        {
         "alignmentgroup": "True",
         "hovertemplate": "Country=%{x}<br>Count=%{y}<extra></extra>",
         "legendgroup": "Canada",
         "marker": {
          "color": "#B6E880",
          "pattern": {
           "shape": ""
          }
         },
         "name": "Canada",
         "offsetgroup": "Canada",
         "orientation": "v",
         "showlegend": true,
         "textposition": "auto",
         "type": "bar",
         "x": [
          "Canada"
         ],
         "xaxis": "x",
         "y": [
          494
         ],
         "yaxis": "y"
        },
        {
         "alignmentgroup": "True",
         "hovertemplate": "Country=%{x}<br>Count=%{y}<extra></extra>",
         "legendgroup": "Sweden",
         "marker": {
          "color": "#FF97FF",
          "pattern": {
           "shape": ""
          }
         },
         "name": "Sweden",
         "offsetgroup": "Sweden",
         "orientation": "v",
         "showlegend": true,
         "textposition": "auto",
         "type": "bar",
         "x": [
          "Sweden"
         ],
         "xaxis": "x",
         "y": [
          358
         ],
         "yaxis": "y"
        },
        {
         "alignmentgroup": "True",
         "hovertemplate": "Country=%{x}<br>Count=%{y}<extra></extra>",
         "legendgroup": "Australia",
         "marker": {
          "color": "#FECB52",
          "pattern": {
           "shape": ""
          }
         },
         "name": "Australia",
         "offsetgroup": "Australia",
         "orientation": "v",
         "showlegend": true,
         "textposition": "auto",
         "type": "bar",
         "x": [
          "Australia"
         ],
         "xaxis": "x",
         "y": [
          348
         ],
         "yaxis": "y"
        }
       ],
       "layout": {
        "barmode": "relative",
        "legend": {
         "title": {
          "text": "Country"
         },
         "tracegroupgap": 0
        },
        "showlegend": false,
        "template": {
         "data": {
          "bar": [
           {
            "error_x": {
             "color": "#2a3f5f"
            },
            "error_y": {
             "color": "#2a3f5f"
            },
            "marker": {
             "line": {
              "color": "#E5ECF6",
              "width": 0.5
             },
             "pattern": {
              "fillmode": "overlay",
              "size": 10,
              "solidity": 0.2
             }
            },
            "type": "bar"
           }
          ],
          "barpolar": [
           {
            "marker": {
             "line": {
              "color": "#E5ECF6",
              "width": 0.5
             },
             "pattern": {
              "fillmode": "overlay",
              "size": 10,
              "solidity": 0.2
             }
            },
            "type": "barpolar"
           }
          ],
          "carpet": [
           {
            "aaxis": {
             "endlinecolor": "#2a3f5f",
             "gridcolor": "white",
             "linecolor": "white",
             "minorgridcolor": "white",
             "startlinecolor": "#2a3f5f"
            },
            "baxis": {
             "endlinecolor": "#2a3f5f",
             "gridcolor": "white",
             "linecolor": "white",
             "minorgridcolor": "white",
             "startlinecolor": "#2a3f5f"
            },
            "type": "carpet"
           }
          ],
          "choropleth": [
           {
            "colorbar": {
             "outlinewidth": 0,
             "ticks": ""
            },
            "type": "choropleth"
           }
          ],
          "contour": [
           {
            "colorbar": {
             "outlinewidth": 0,
             "ticks": ""
            },
            "colorscale": [
             [
              0,
              "#0d0887"
             ],
             [
              0.1111111111111111,
              "#46039f"
             ],
             [
              0.2222222222222222,
              "#7201a8"
             ],
             [
              0.3333333333333333,
              "#9c179e"
             ],
             [
              0.4444444444444444,
              "#bd3786"
             ],
             [
              0.5555555555555556,
              "#d8576b"
             ],
             [
              0.6666666666666666,
              "#ed7953"
             ],
             [
              0.7777777777777778,
              "#fb9f3a"
             ],
             [
              0.8888888888888888,
              "#fdca26"
             ],
             [
              1,
              "#f0f921"
             ]
            ],
            "type": "contour"
           }
          ],
          "contourcarpet": [
           {
            "colorbar": {
             "outlinewidth": 0,
             "ticks": ""
            },
            "type": "contourcarpet"
           }
          ],
          "heatmap": [
           {
            "colorbar": {
             "outlinewidth": 0,
             "ticks": ""
            },
            "colorscale": [
             [
              0,
              "#0d0887"
             ],
             [
              0.1111111111111111,
              "#46039f"
             ],
             [
              0.2222222222222222,
              "#7201a8"
             ],
             [
              0.3333333333333333,
              "#9c179e"
             ],
             [
              0.4444444444444444,
              "#bd3786"
             ],
             [
              0.5555555555555556,
              "#d8576b"
             ],
             [
              0.6666666666666666,
              "#ed7953"
             ],
             [
              0.7777777777777778,
              "#fb9f3a"
             ],
             [
              0.8888888888888888,
              "#fdca26"
             ],
             [
              1,
              "#f0f921"
             ]
            ],
            "type": "heatmap"
           }
          ],
          "heatmapgl": [
           {
            "colorbar": {
             "outlinewidth": 0,
             "ticks": ""
            },
            "colorscale": [
             [
              0,
              "#0d0887"
             ],
             [
              0.1111111111111111,
              "#46039f"
             ],
             [
              0.2222222222222222,
              "#7201a8"
             ],
             [
              0.3333333333333333,
              "#9c179e"
             ],
             [
              0.4444444444444444,
              "#bd3786"
             ],
             [
              0.5555555555555556,
              "#d8576b"
             ],
             [
              0.6666666666666666,
              "#ed7953"
             ],
             [
              0.7777777777777778,
              "#fb9f3a"
             ],
             [
              0.8888888888888888,
              "#fdca26"
             ],
             [
              1,
              "#f0f921"
             ]
            ],
            "type": "heatmapgl"
           }
          ],
          "histogram": [
           {
            "marker": {
             "pattern": {
              "fillmode": "overlay",
              "size": 10,
              "solidity": 0.2
             }
            },
            "type": "histogram"
           }
          ],
          "histogram2d": [
           {
            "colorbar": {
             "outlinewidth": 0,
             "ticks": ""
            },
            "colorscale": [
             [
              0,
              "#0d0887"
             ],
             [
              0.1111111111111111,
              "#46039f"
             ],
             [
              0.2222222222222222,
              "#7201a8"
             ],
             [
              0.3333333333333333,
              "#9c179e"
             ],
             [
              0.4444444444444444,
              "#bd3786"
             ],
             [
              0.5555555555555556,
              "#d8576b"
             ],
             [
              0.6666666666666666,
              "#ed7953"
             ],
             [
              0.7777777777777778,
              "#fb9f3a"
             ],
             [
              0.8888888888888888,
              "#fdca26"
             ],
             [
              1,
              "#f0f921"
             ]
            ],
            "type": "histogram2d"
           }
          ],
          "histogram2dcontour": [
           {
            "colorbar": {
             "outlinewidth": 0,
             "ticks": ""
            },
            "colorscale": [
             [
              0,
              "#0d0887"
             ],
             [
              0.1111111111111111,
              "#46039f"
             ],
             [
              0.2222222222222222,
              "#7201a8"
             ],
             [
              0.3333333333333333,
              "#9c179e"
             ],
             [
              0.4444444444444444,
              "#bd3786"
             ],
             [
              0.5555555555555556,
              "#d8576b"
             ],
             [
              0.6666666666666666,
              "#ed7953"
             ],
             [
              0.7777777777777778,
              "#fb9f3a"
             ],
             [
              0.8888888888888888,
              "#fdca26"
             ],
             [
              1,
              "#f0f921"
             ]
            ],
            "type": "histogram2dcontour"
           }
          ],
          "mesh3d": [
           {
            "colorbar": {
             "outlinewidth": 0,
             "ticks": ""
            },
            "type": "mesh3d"
           }
          ],
          "parcoords": [
           {
            "line": {
             "colorbar": {
              "outlinewidth": 0,
              "ticks": ""
             }
            },
            "type": "parcoords"
           }
          ],
          "pie": [
           {
            "automargin": true,
            "type": "pie"
           }
          ],
          "scatter": [
           {
            "fillpattern": {
             "fillmode": "overlay",
             "size": 10,
             "solidity": 0.2
            },
            "type": "scatter"
           }
          ],
          "scatter3d": [
           {
            "line": {
             "colorbar": {
              "outlinewidth": 0,
              "ticks": ""
             }
            },
            "marker": {
             "colorbar": {
              "outlinewidth": 0,
              "ticks": ""
             }
            },
            "type": "scatter3d"
           }
          ],
          "scattercarpet": [
           {
            "marker": {
             "colorbar": {
              "outlinewidth": 0,
              "ticks": ""
             }
            },
            "type": "scattercarpet"
           }
          ],
          "scattergeo": [
           {
            "marker": {
             "colorbar": {
              "outlinewidth": 0,
              "ticks": ""
             }
            },
            "type": "scattergeo"
           }
          ],
          "scattergl": [
           {
            "marker": {
             "colorbar": {
              "outlinewidth": 0,
              "ticks": ""
             }
            },
            "type": "scattergl"
           }
          ],
          "scattermapbox": [
           {
            "marker": {
             "colorbar": {
              "outlinewidth": 0,
              "ticks": ""
             }
            },
            "type": "scattermapbox"
           }
          ],
          "scatterpolar": [
           {
            "marker": {
             "colorbar": {
              "outlinewidth": 0,
              "ticks": ""
             }
            },
            "type": "scatterpolar"
           }
          ],
          "scatterpolargl": [
           {
            "marker": {
             "colorbar": {
              "outlinewidth": 0,
              "ticks": ""
             }
            },
            "type": "scatterpolargl"
           }
          ],
          "scatterternary": [
           {
            "marker": {
             "colorbar": {
              "outlinewidth": 0,
              "ticks": ""
             }
            },
            "type": "scatterternary"
           }
          ],
          "surface": [
           {
            "colorbar": {
             "outlinewidth": 0,
             "ticks": ""
            },
            "colorscale": [
             [
              0,
              "#0d0887"
             ],
             [
              0.1111111111111111,
              "#46039f"
             ],
             [
              0.2222222222222222,
              "#7201a8"
             ],
             [
              0.3333333333333333,
              "#9c179e"
             ],
             [
              0.4444444444444444,
              "#bd3786"
             ],
             [
              0.5555555555555556,
              "#d8576b"
             ],
             [
              0.6666666666666666,
              "#ed7953"
             ],
             [
              0.7777777777777778,
              "#fb9f3a"
             ],
             [
              0.8888888888888888,
              "#fdca26"
             ],
             [
              1,
              "#f0f921"
             ]
            ],
            "type": "surface"
           }
          ],
          "table": [
           {
            "cells": {
             "fill": {
              "color": "#EBF0F8"
             },
             "line": {
              "color": "white"
             }
            },
            "header": {
             "fill": {
              "color": "#C8D4E3"
             },
             "line": {
              "color": "white"
             }
            },
            "type": "table"
           }
          ]
         },
         "layout": {
          "annotationdefaults": {
           "arrowcolor": "#2a3f5f",
           "arrowhead": 0,
           "arrowwidth": 1
          },
          "autotypenumbers": "strict",
          "coloraxis": {
           "colorbar": {
            "outlinewidth": 0,
            "ticks": ""
           }
          },
          "colorscale": {
           "diverging": [
            [
             0,
             "#8e0152"
            ],
            [
             0.1,
             "#c51b7d"
            ],
            [
             0.2,
             "#de77ae"
            ],
            [
             0.3,
             "#f1b6da"
            ],
            [
             0.4,
             "#fde0ef"
            ],
            [
             0.5,
             "#f7f7f7"
            ],
            [
             0.6,
             "#e6f5d0"
            ],
            [
             0.7,
             "#b8e186"
            ],
            [
             0.8,
             "#7fbc41"
            ],
            [
             0.9,
             "#4d9221"
            ],
            [
             1,
             "#276419"
            ]
           ],
           "sequential": [
            [
             0,
             "#0d0887"
            ],
            [
             0.1111111111111111,
             "#46039f"
            ],
            [
             0.2222222222222222,
             "#7201a8"
            ],
            [
             0.3333333333333333,
             "#9c179e"
            ],
            [
             0.4444444444444444,
             "#bd3786"
            ],
            [
             0.5555555555555556,
             "#d8576b"
            ],
            [
             0.6666666666666666,
             "#ed7953"
            ],
            [
             0.7777777777777778,
             "#fb9f3a"
            ],
            [
             0.8888888888888888,
             "#fdca26"
            ],
            [
             1,
             "#f0f921"
            ]
           ],
           "sequentialminus": [
            [
             0,
             "#0d0887"
            ],
            [
             0.1111111111111111,
             "#46039f"
            ],
            [
             0.2222222222222222,
             "#7201a8"
            ],
            [
             0.3333333333333333,
             "#9c179e"
            ],
            [
             0.4444444444444444,
             "#bd3786"
            ],
            [
             0.5555555555555556,
             "#d8576b"
            ],
            [
             0.6666666666666666,
             "#ed7953"
            ],
            [
             0.7777777777777778,
             "#fb9f3a"
            ],
            [
             0.8888888888888888,
             "#fdca26"
            ],
            [
             1,
             "#f0f921"
            ]
           ]
          },
          "colorway": [
           "#636efa",
           "#EF553B",
           "#00cc96",
           "#ab63fa",
           "#FFA15A",
           "#19d3f3",
           "#FF6692",
           "#B6E880",
           "#FF97FF",
           "#FECB52"
          ],
          "font": {
           "color": "#2a3f5f"
          },
          "geo": {
           "bgcolor": "white",
           "lakecolor": "white",
           "landcolor": "#E5ECF6",
           "showlakes": true,
           "showland": true,
           "subunitcolor": "white"
          },
          "hoverlabel": {
           "align": "left"
          },
          "hovermode": "closest",
          "mapbox": {
           "style": "light"
          },
          "paper_bgcolor": "white",
          "plot_bgcolor": "#E5ECF6",
          "polar": {
           "angularaxis": {
            "gridcolor": "white",
            "linecolor": "white",
            "ticks": ""
           },
           "bgcolor": "#E5ECF6",
           "radialaxis": {
            "gridcolor": "white",
            "linecolor": "white",
            "ticks": ""
           }
          },
          "scene": {
           "xaxis": {
            "backgroundcolor": "#E5ECF6",
            "gridcolor": "white",
            "gridwidth": 2,
            "linecolor": "white",
            "showbackground": true,
            "ticks": "",
            "zerolinecolor": "white"
           },
           "yaxis": {
            "backgroundcolor": "#E5ECF6",
            "gridcolor": "white",
            "gridwidth": 2,
            "linecolor": "white",
            "showbackground": true,
            "ticks": "",
            "zerolinecolor": "white"
           },
           "zaxis": {
            "backgroundcolor": "#E5ECF6",
            "gridcolor": "white",
            "gridwidth": 2,
            "linecolor": "white",
            "showbackground": true,
            "ticks": "",
            "zerolinecolor": "white"
           }
          },
          "shapedefaults": {
           "line": {
            "color": "#2a3f5f"
           }
          },
          "ternary": {
           "aaxis": {
            "gridcolor": "white",
            "linecolor": "white",
            "ticks": ""
           },
           "baxis": {
            "gridcolor": "white",
            "linecolor": "white",
            "ticks": ""
           },
           "bgcolor": "#E5ECF6",
           "caxis": {
            "gridcolor": "white",
            "linecolor": "white",
            "ticks": ""
           }
          },
          "title": {
           "x": 0.05
          },
          "xaxis": {
           "automargin": true,
           "gridcolor": "white",
           "linecolor": "white",
           "ticks": "",
           "title": {
            "standoff": 15
           },
           "zerolinecolor": "white",
           "zerolinewidth": 2
          },
          "yaxis": {
           "automargin": true,
           "gridcolor": "white",
           "linecolor": "white",
           "ticks": "",
           "title": {
            "standoff": 15
           },
           "zerolinecolor": "white",
           "zerolinewidth": 2
          }
         }
        },
        "title": {
         "text": "Nombre de firmes par pays"
        },
        "xaxis": {
         "anchor": "y",
         "categoryarray": [
          "United States of America",
          "China",
          "Japan",
          "India",
          "United Kingdom",
          "Taiwan",
          "South Korea",
          "Canada",
          "Sweden",
          "Australia"
         ],
         "categoryorder": "array",
         "domain": [
          0,
          1
         ],
         "tickangle": -45,
         "title": {
          "text": "Country"
         }
        },
        "yaxis": {
         "anchor": "x",
         "domain": [
          0,
          1
         ],
         "title": {
          "text": "Count"
         }
        }
       }
      }
     },
     "metadata": {},
     "output_type": "display_data"
    }
   ],
   "source": [
    "country_viz = pd.DataFrame(list(country_dict_filtered.items()), columns=['Country', 'Count'])\n",
    "top_countries = country_viz.sort_values(by='Count', ascending=False).head(10)\n",
    "fig = px.bar(top_countries, x='Country', y='Count', title='Nombre de firmes par pays', color = 'Country')\n",
    "fig.update_layout(xaxis_tickangle=-45,\n",
    "                  showlegend = False)\n",
    "fig.show()"
   ]
  },
  {
   "cell_type": "code",
   "execution_count": 5,
   "metadata": {},
   "outputs": [
    {
     "data": {
      "application/vnd.plotly.v1+json": {
       "config": {
        "plotlyServerURL": "https://plot.ly"
       },
       "data": [
        {
         "alignmentgroup": "True",
         "hovertemplate": "Year=%{x}<br>Count=%{y}<extra></extra>",
         "legendgroup": "2024",
         "marker": {
          "color": "#636efa",
          "pattern": {
           "shape": ""
          }
         },
         "name": "2024",
         "offsetgroup": "2024",
         "orientation": "v",
         "showlegend": true,
         "textposition": "auto",
         "type": "bar",
         "x": [
          "2024"
         ],
         "xaxis": "x",
         "y": [
          7641
         ],
         "yaxis": "y"
        },
        {
         "alignmentgroup": "True",
         "hovertemplate": "Year=%{x}<br>Count=%{y}<extra></extra>",
         "legendgroup": "2023",
         "marker": {
          "color": "#EF553B",
          "pattern": {
           "shape": ""
          }
         },
         "name": "2023",
         "offsetgroup": "2023",
         "orientation": "v",
         "showlegend": true,
         "textposition": "auto",
         "type": "bar",
         "x": [
          "2023"
         ],
         "xaxis": "x",
         "y": [
          5761
         ],
         "yaxis": "y"
        },
        {
         "alignmentgroup": "True",
         "hovertemplate": "Year=%{x}<br>Count=%{y}<extra></extra>",
         "legendgroup": "2022",
         "marker": {
          "color": "#00cc96",
          "pattern": {
           "shape": ""
          }
         },
         "name": "2022",
         "offsetgroup": "2022",
         "orientation": "v",
         "showlegend": true,
         "textposition": "auto",
         "type": "bar",
         "x": [
          "2022"
         ],
         "xaxis": "x",
         "y": [
          198
         ],
         "yaxis": "y"
        },
        {
         "alignmentgroup": "True",
         "hovertemplate": "Year=%{x}<br>Count=%{y}<extra></extra>",
         "legendgroup": "2025",
         "marker": {
          "color": "#ab63fa",
          "pattern": {
           "shape": ""
          }
         },
         "name": "2025",
         "offsetgroup": "2025",
         "orientation": "v",
         "showlegend": true,
         "textposition": "auto",
         "type": "bar",
         "x": [
          "2025"
         ],
         "xaxis": "x",
         "y": [
          68
         ],
         "yaxis": "y"
        }
       ],
       "layout": {
        "barmode": "relative",
        "legend": {
         "title": {
          "text": "Year"
         },
         "tracegroupgap": 0
        },
        "showlegend": false,
        "template": {
         "data": {
          "bar": [
           {
            "error_x": {
             "color": "#2a3f5f"
            },
            "error_y": {
             "color": "#2a3f5f"
            },
            "marker": {
             "line": {
              "color": "#E5ECF6",
              "width": 0.5
             },
             "pattern": {
              "fillmode": "overlay",
              "size": 10,
              "solidity": 0.2
             }
            },
            "type": "bar"
           }
          ],
          "barpolar": [
           {
            "marker": {
             "line": {
              "color": "#E5ECF6",
              "width": 0.5
             },
             "pattern": {
              "fillmode": "overlay",
              "size": 10,
              "solidity": 0.2
             }
            },
            "type": "barpolar"
           }
          ],
          "carpet": [
           {
            "aaxis": {
             "endlinecolor": "#2a3f5f",
             "gridcolor": "white",
             "linecolor": "white",
             "minorgridcolor": "white",
             "startlinecolor": "#2a3f5f"
            },
            "baxis": {
             "endlinecolor": "#2a3f5f",
             "gridcolor": "white",
             "linecolor": "white",
             "minorgridcolor": "white",
             "startlinecolor": "#2a3f5f"
            },
            "type": "carpet"
           }
          ],
          "choropleth": [
           {
            "colorbar": {
             "outlinewidth": 0,
             "ticks": ""
            },
            "type": "choropleth"
           }
          ],
          "contour": [
           {
            "colorbar": {
             "outlinewidth": 0,
             "ticks": ""
            },
            "colorscale": [
             [
              0,
              "#0d0887"
             ],
             [
              0.1111111111111111,
              "#46039f"
             ],
             [
              0.2222222222222222,
              "#7201a8"
             ],
             [
              0.3333333333333333,
              "#9c179e"
             ],
             [
              0.4444444444444444,
              "#bd3786"
             ],
             [
              0.5555555555555556,
              "#d8576b"
             ],
             [
              0.6666666666666666,
              "#ed7953"
             ],
             [
              0.7777777777777778,
              "#fb9f3a"
             ],
             [
              0.8888888888888888,
              "#fdca26"
             ],
             [
              1,
              "#f0f921"
             ]
            ],
            "type": "contour"
           }
          ],
          "contourcarpet": [
           {
            "colorbar": {
             "outlinewidth": 0,
             "ticks": ""
            },
            "type": "contourcarpet"
           }
          ],
          "heatmap": [
           {
            "colorbar": {
             "outlinewidth": 0,
             "ticks": ""
            },
            "colorscale": [
             [
              0,
              "#0d0887"
             ],
             [
              0.1111111111111111,
              "#46039f"
             ],
             [
              0.2222222222222222,
              "#7201a8"
             ],
             [
              0.3333333333333333,
              "#9c179e"
             ],
             [
              0.4444444444444444,
              "#bd3786"
             ],
             [
              0.5555555555555556,
              "#d8576b"
             ],
             [
              0.6666666666666666,
              "#ed7953"
             ],
             [
              0.7777777777777778,
              "#fb9f3a"
             ],
             [
              0.8888888888888888,
              "#fdca26"
             ],
             [
              1,
              "#f0f921"
             ]
            ],
            "type": "heatmap"
           }
          ],
          "heatmapgl": [
           {
            "colorbar": {
             "outlinewidth": 0,
             "ticks": ""
            },
            "colorscale": [
             [
              0,
              "#0d0887"
             ],
             [
              0.1111111111111111,
              "#46039f"
             ],
             [
              0.2222222222222222,
              "#7201a8"
             ],
             [
              0.3333333333333333,
              "#9c179e"
             ],
             [
              0.4444444444444444,
              "#bd3786"
             ],
             [
              0.5555555555555556,
              "#d8576b"
             ],
             [
              0.6666666666666666,
              "#ed7953"
             ],
             [
              0.7777777777777778,
              "#fb9f3a"
             ],
             [
              0.8888888888888888,
              "#fdca26"
             ],
             [
              1,
              "#f0f921"
             ]
            ],
            "type": "heatmapgl"
           }
          ],
          "histogram": [
           {
            "marker": {
             "pattern": {
              "fillmode": "overlay",
              "size": 10,
              "solidity": 0.2
             }
            },
            "type": "histogram"
           }
          ],
          "histogram2d": [
           {
            "colorbar": {
             "outlinewidth": 0,
             "ticks": ""
            },
            "colorscale": [
             [
              0,
              "#0d0887"
             ],
             [
              0.1111111111111111,
              "#46039f"
             ],
             [
              0.2222222222222222,
              "#7201a8"
             ],
             [
              0.3333333333333333,
              "#9c179e"
             ],
             [
              0.4444444444444444,
              "#bd3786"
             ],
             [
              0.5555555555555556,
              "#d8576b"
             ],
             [
              0.6666666666666666,
              "#ed7953"
             ],
             [
              0.7777777777777778,
              "#fb9f3a"
             ],
             [
              0.8888888888888888,
              "#fdca26"
             ],
             [
              1,
              "#f0f921"
             ]
            ],
            "type": "histogram2d"
           }
          ],
          "histogram2dcontour": [
           {
            "colorbar": {
             "outlinewidth": 0,
             "ticks": ""
            },
            "colorscale": [
             [
              0,
              "#0d0887"
             ],
             [
              0.1111111111111111,
              "#46039f"
             ],
             [
              0.2222222222222222,
              "#7201a8"
             ],
             [
              0.3333333333333333,
              "#9c179e"
             ],
             [
              0.4444444444444444,
              "#bd3786"
             ],
             [
              0.5555555555555556,
              "#d8576b"
             ],
             [
              0.6666666666666666,
              "#ed7953"
             ],
             [
              0.7777777777777778,
              "#fb9f3a"
             ],
             [
              0.8888888888888888,
              "#fdca26"
             ],
             [
              1,
              "#f0f921"
             ]
            ],
            "type": "histogram2dcontour"
           }
          ],
          "mesh3d": [
           {
            "colorbar": {
             "outlinewidth": 0,
             "ticks": ""
            },
            "type": "mesh3d"
           }
          ],
          "parcoords": [
           {
            "line": {
             "colorbar": {
              "outlinewidth": 0,
              "ticks": ""
             }
            },
            "type": "parcoords"
           }
          ],
          "pie": [
           {
            "automargin": true,
            "type": "pie"
           }
          ],
          "scatter": [
           {
            "fillpattern": {
             "fillmode": "overlay",
             "size": 10,
             "solidity": 0.2
            },
            "type": "scatter"
           }
          ],
          "scatter3d": [
           {
            "line": {
             "colorbar": {
              "outlinewidth": 0,
              "ticks": ""
             }
            },
            "marker": {
             "colorbar": {
              "outlinewidth": 0,
              "ticks": ""
             }
            },
            "type": "scatter3d"
           }
          ],
          "scattercarpet": [
           {
            "marker": {
             "colorbar": {
              "outlinewidth": 0,
              "ticks": ""
             }
            },
            "type": "scattercarpet"
           }
          ],
          "scattergeo": [
           {
            "marker": {
             "colorbar": {
              "outlinewidth": 0,
              "ticks": ""
             }
            },
            "type": "scattergeo"
           }
          ],
          "scattergl": [
           {
            "marker": {
             "colorbar": {
              "outlinewidth": 0,
              "ticks": ""
             }
            },
            "type": "scattergl"
           }
          ],
          "scattermapbox": [
           {
            "marker": {
             "colorbar": {
              "outlinewidth": 0,
              "ticks": ""
             }
            },
            "type": "scattermapbox"
           }
          ],
          "scatterpolar": [
           {
            "marker": {
             "colorbar": {
              "outlinewidth": 0,
              "ticks": ""
             }
            },
            "type": "scatterpolar"
           }
          ],
          "scatterpolargl": [
           {
            "marker": {
             "colorbar": {
              "outlinewidth": 0,
              "ticks": ""
             }
            },
            "type": "scatterpolargl"
           }
          ],
          "scatterternary": [
           {
            "marker": {
             "colorbar": {
              "outlinewidth": 0,
              "ticks": ""
             }
            },
            "type": "scatterternary"
           }
          ],
          "surface": [
           {
            "colorbar": {
             "outlinewidth": 0,
             "ticks": ""
            },
            "colorscale": [
             [
              0,
              "#0d0887"
             ],
             [
              0.1111111111111111,
              "#46039f"
             ],
             [
              0.2222222222222222,
              "#7201a8"
             ],
             [
              0.3333333333333333,
              "#9c179e"
             ],
             [
              0.4444444444444444,
              "#bd3786"
             ],
             [
              0.5555555555555556,
              "#d8576b"
             ],
             [
              0.6666666666666666,
              "#ed7953"
             ],
             [
              0.7777777777777778,
              "#fb9f3a"
             ],
             [
              0.8888888888888888,
              "#fdca26"
             ],
             [
              1,
              "#f0f921"
             ]
            ],
            "type": "surface"
           }
          ],
          "table": [
           {
            "cells": {
             "fill": {
              "color": "#EBF0F8"
             },
             "line": {
              "color": "white"
             }
            },
            "header": {
             "fill": {
              "color": "#C8D4E3"
             },
             "line": {
              "color": "white"
             }
            },
            "type": "table"
           }
          ]
         },
         "layout": {
          "annotationdefaults": {
           "arrowcolor": "#2a3f5f",
           "arrowhead": 0,
           "arrowwidth": 1
          },
          "autotypenumbers": "strict",
          "coloraxis": {
           "colorbar": {
            "outlinewidth": 0,
            "ticks": ""
           }
          },
          "colorscale": {
           "diverging": [
            [
             0,
             "#8e0152"
            ],
            [
             0.1,
             "#c51b7d"
            ],
            [
             0.2,
             "#de77ae"
            ],
            [
             0.3,
             "#f1b6da"
            ],
            [
             0.4,
             "#fde0ef"
            ],
            [
             0.5,
             "#f7f7f7"
            ],
            [
             0.6,
             "#e6f5d0"
            ],
            [
             0.7,
             "#b8e186"
            ],
            [
             0.8,
             "#7fbc41"
            ],
            [
             0.9,
             "#4d9221"
            ],
            [
             1,
             "#276419"
            ]
           ],
           "sequential": [
            [
             0,
             "#0d0887"
            ],
            [
             0.1111111111111111,
             "#46039f"
            ],
            [
             0.2222222222222222,
             "#7201a8"
            ],
            [
             0.3333333333333333,
             "#9c179e"
            ],
            [
             0.4444444444444444,
             "#bd3786"
            ],
            [
             0.5555555555555556,
             "#d8576b"
            ],
            [
             0.6666666666666666,
             "#ed7953"
            ],
            [
             0.7777777777777778,
             "#fb9f3a"
            ],
            [
             0.8888888888888888,
             "#fdca26"
            ],
            [
             1,
             "#f0f921"
            ]
           ],
           "sequentialminus": [
            [
             0,
             "#0d0887"
            ],
            [
             0.1111111111111111,
             "#46039f"
            ],
            [
             0.2222222222222222,
             "#7201a8"
            ],
            [
             0.3333333333333333,
             "#9c179e"
            ],
            [
             0.4444444444444444,
             "#bd3786"
            ],
            [
             0.5555555555555556,
             "#d8576b"
            ],
            [
             0.6666666666666666,
             "#ed7953"
            ],
            [
             0.7777777777777778,
             "#fb9f3a"
            ],
            [
             0.8888888888888888,
             "#fdca26"
            ],
            [
             1,
             "#f0f921"
            ]
           ]
          },
          "colorway": [
           "#636efa",
           "#EF553B",
           "#00cc96",
           "#ab63fa",
           "#FFA15A",
           "#19d3f3",
           "#FF6692",
           "#B6E880",
           "#FF97FF",
           "#FECB52"
          ],
          "font": {
           "color": "#2a3f5f"
          },
          "geo": {
           "bgcolor": "white",
           "lakecolor": "white",
           "landcolor": "#E5ECF6",
           "showlakes": true,
           "showland": true,
           "subunitcolor": "white"
          },
          "hoverlabel": {
           "align": "left"
          },
          "hovermode": "closest",
          "mapbox": {
           "style": "light"
          },
          "paper_bgcolor": "white",
          "plot_bgcolor": "#E5ECF6",
          "polar": {
           "angularaxis": {
            "gridcolor": "white",
            "linecolor": "white",
            "ticks": ""
           },
           "bgcolor": "#E5ECF6",
           "radialaxis": {
            "gridcolor": "white",
            "linecolor": "white",
            "ticks": ""
           }
          },
          "scene": {
           "xaxis": {
            "backgroundcolor": "#E5ECF6",
            "gridcolor": "white",
            "gridwidth": 2,
            "linecolor": "white",
            "showbackground": true,
            "ticks": "",
            "zerolinecolor": "white"
           },
           "yaxis": {
            "backgroundcolor": "#E5ECF6",
            "gridcolor": "white",
            "gridwidth": 2,
            "linecolor": "white",
            "showbackground": true,
            "ticks": "",
            "zerolinecolor": "white"
           },
           "zaxis": {
            "backgroundcolor": "#E5ECF6",
            "gridcolor": "white",
            "gridwidth": 2,
            "linecolor": "white",
            "showbackground": true,
            "ticks": "",
            "zerolinecolor": "white"
           }
          },
          "shapedefaults": {
           "line": {
            "color": "#2a3f5f"
           }
          },
          "ternary": {
           "aaxis": {
            "gridcolor": "white",
            "linecolor": "white",
            "ticks": ""
           },
           "baxis": {
            "gridcolor": "white",
            "linecolor": "white",
            "ticks": ""
           },
           "bgcolor": "#E5ECF6",
           "caxis": {
            "gridcolor": "white",
            "linecolor": "white",
            "ticks": ""
           }
          },
          "title": {
           "x": 0.05
          },
          "xaxis": {
           "automargin": true,
           "gridcolor": "white",
           "linecolor": "white",
           "ticks": "",
           "title": {
            "standoff": 15
           },
           "zerolinecolor": "white",
           "zerolinewidth": 2
          },
          "yaxis": {
           "automargin": true,
           "gridcolor": "white",
           "linecolor": "white",
           "ticks": "",
           "title": {
            "standoff": 15
           },
           "zerolinecolor": "white",
           "zerolinewidth": 2
          }
         }
        },
        "title": {
         "text": "Nombre d'entreprise analysée par année"
        },
        "xaxis": {
         "anchor": "y",
         "categoryarray": [
          "2024",
          "2023",
          "2022",
          "2025"
         ],
         "categoryorder": "array",
         "domain": [
          0,
          1
         ],
         "tickangle": -45,
         "title": {
          "text": "Year"
         }
        },
        "yaxis": {
         "anchor": "x",
         "domain": [
          0,
          1
         ],
         "title": {
          "text": "Count"
         }
        }
       }
      }
     },
     "metadata": {},
     "output_type": "display_data"
    }
   ],
   "source": [
    "date_year = filtered_esg_df['date'].str.extract(r'(\\d{4})')\n",
    "date_counts = date_year[0].value_counts()\n",
    "date_couts = date_counts.to_dict()\n",
    "date_counts = pd.DataFrame(list(date_couts.items()), columns=['Year', 'Count'])\n",
    "fig = px.bar(date_counts, x='Year', y='Count', title=\"Nombre d'entreprise analysée par année\", color = 'Year')\n",
    "fig.update_layout(xaxis_tickangle=-45,\n",
    "                  showlegend = False)\n",
    "fig.show()"
   ]
  },
  {
   "cell_type": "code",
   "execution_count": 6,
   "metadata": {},
   "outputs": [
    {
     "data": {
      "application/vnd.plotly.v1+json": {
       "config": {
        "plotlyServerURL": "https://plot.ly"
       },
       "data": [
        {
         "alignmentgroup": "True",
         "hovertemplate": "Industry=%{x}<br>Count=%{y}<extra></extra>",
         "legendgroup": "Real Estate",
         "marker": {
          "color": "#636efa",
          "pattern": {
           "shape": ""
          }
         },
         "name": "Real Estate",
         "offsetgroup": "Real Estate",
         "orientation": "v",
         "showlegend": true,
         "textposition": "auto",
         "type": "bar",
         "x": [
          "Real Estate"
         ],
         "xaxis": "x",
         "y": [
          930
         ],
         "yaxis": "y"
        },
        {
         "alignmentgroup": "True",
         "hovertemplate": "Industry=%{x}<br>Count=%{y}<extra></extra>",
         "legendgroup": "Banks",
         "marker": {
          "color": "#EF553B",
          "pattern": {
           "shape": ""
          }
         },
         "name": "Banks",
         "offsetgroup": "Banks",
         "orientation": "v",
         "showlegend": true,
         "textposition": "auto",
         "type": "bar",
         "x": [
          "Banks"
         ],
         "xaxis": "x",
         "y": [
          929
         ],
         "yaxis": "y"
        },
        {
         "alignmentgroup": "True",
         "hovertemplate": "Industry=%{x}<br>Count=%{y}<extra></extra>",
         "legendgroup": "Software & Services",
         "marker": {
          "color": "#00cc96",
          "pattern": {
           "shape": ""
          }
         },
         "name": "Software & Services",
         "offsetgroup": "Software & Services",
         "orientation": "v",
         "showlegend": true,
         "textposition": "auto",
         "type": "bar",
         "x": [
          "Software & Services"
         ],
         "xaxis": "x",
         "y": [
          901
         ],
         "yaxis": "y"
        },
        {
         "alignmentgroup": "True",
         "hovertemplate": "Industry=%{x}<br>Count=%{y}<extra></extra>",
         "legendgroup": "Pharmaceuticals",
         "marker": {
          "color": "#ab63fa",
          "pattern": {
           "shape": ""
          }
         },
         "name": "Pharmaceuticals",
         "offsetgroup": "Pharmaceuticals",
         "orientation": "v",
         "showlegend": true,
         "textposition": "auto",
         "type": "bar",
         "x": [
          "Pharmaceuticals"
         ],
         "xaxis": "x",
         "y": [
          827
         ],
         "yaxis": "y"
        },
        {
         "alignmentgroup": "True",
         "hovertemplate": "Industry=%{x}<br>Count=%{y}<extra></extra>",
         "legendgroup": "Diversified Financials",
         "marker": {
          "color": "#FFA15A",
          "pattern": {
           "shape": ""
          }
         },
         "name": "Diversified Financials",
         "offsetgroup": "Diversified Financials",
         "orientation": "v",
         "showlegend": true,
         "textposition": "auto",
         "type": "bar",
         "x": [
          "Diversified Financials"
         ],
         "xaxis": "x",
         "y": [
          722
         ],
         "yaxis": "y"
        },
        {
         "alignmentgroup": "True",
         "hovertemplate": "Industry=%{x}<br>Count=%{y}<extra></extra>",
         "legendgroup": "Technology Hardware",
         "marker": {
          "color": "#19d3f3",
          "pattern": {
           "shape": ""
          }
         },
         "name": "Technology Hardware",
         "offsetgroup": "Technology Hardware",
         "orientation": "v",
         "showlegend": true,
         "textposition": "auto",
         "type": "bar",
         "x": [
          "Technology Hardware"
         ],
         "xaxis": "x",
         "y": [
          603
         ],
         "yaxis": "y"
        },
        {
         "alignmentgroup": "True",
         "hovertemplate": "Industry=%{x}<br>Count=%{y}<extra></extra>",
         "legendgroup": "Utilities",
         "marker": {
          "color": "#FF6692",
          "pattern": {
           "shape": ""
          }
         },
         "name": "Utilities",
         "offsetgroup": "Utilities",
         "orientation": "v",
         "showlegend": true,
         "textposition": "auto",
         "type": "bar",
         "x": [
          "Utilities"
         ],
         "xaxis": "x",
         "y": [
          591
         ],
         "yaxis": "y"
        },
        {
         "alignmentgroup": "True",
         "hovertemplate": "Industry=%{x}<br>Count=%{y}<extra></extra>",
         "legendgroup": "Chemicals",
         "marker": {
          "color": "#B6E880",
          "pattern": {
           "shape": ""
          }
         },
         "name": "Chemicals",
         "offsetgroup": "Chemicals",
         "orientation": "v",
         "showlegend": true,
         "textposition": "auto",
         "type": "bar",
         "x": [
          "Chemicals"
         ],
         "xaxis": "x",
         "y": [
          549
         ],
         "yaxis": "y"
        },
        {
         "alignmentgroup": "True",
         "hovertemplate": "Industry=%{x}<br>Count=%{y}<extra></extra>",
         "legendgroup": "Machinery",
         "marker": {
          "color": "#FF97FF",
          "pattern": {
           "shape": ""
          }
         },
         "name": "Machinery",
         "offsetgroup": "Machinery",
         "orientation": "v",
         "showlegend": true,
         "textposition": "auto",
         "type": "bar",
         "x": [
          "Machinery"
         ],
         "xaxis": "x",
         "y": [
          531
         ],
         "yaxis": "y"
        },
        {
         "alignmentgroup": "True",
         "hovertemplate": "Industry=%{x}<br>Count=%{y}<extra></extra>",
         "legendgroup": "Healthcare",
         "marker": {
          "color": "#FECB52",
          "pattern": {
           "shape": ""
          }
         },
         "name": "Healthcare",
         "offsetgroup": "Healthcare",
         "orientation": "v",
         "showlegend": true,
         "textposition": "auto",
         "type": "bar",
         "x": [
          "Healthcare"
         ],
         "xaxis": "x",
         "y": [
          528
         ],
         "yaxis": "y"
        },
        {
         "alignmentgroup": "True",
         "hovertemplate": "Industry=%{x}<br>Count=%{y}<extra></extra>",
         "legendgroup": "Food Products",
         "marker": {
          "color": "#636efa",
          "pattern": {
           "shape": ""
          }
         },
         "name": "Food Products",
         "offsetgroup": "Food Products",
         "orientation": "v",
         "showlegend": true,
         "textposition": "auto",
         "type": "bar",
         "x": [
          "Food Products"
         ],
         "xaxis": "x",
         "y": [
          515
         ],
         "yaxis": "y"
        },
        {
         "alignmentgroup": "True",
         "hovertemplate": "Industry=%{x}<br>Count=%{y}<extra></extra>",
         "legendgroup": "Retailing",
         "marker": {
          "color": "#EF553B",
          "pattern": {
           "shape": ""
          }
         },
         "name": "Retailing",
         "offsetgroup": "Retailing",
         "orientation": "v",
         "showlegend": true,
         "textposition": "auto",
         "type": "bar",
         "x": [
          "Retailing"
         ],
         "xaxis": "x",
         "y": [
          431
         ],
         "yaxis": "y"
        },
        {
         "alignmentgroup": "True",
         "hovertemplate": "Industry=%{x}<br>Count=%{y}<extra></extra>",
         "legendgroup": "Consumer Services",
         "marker": {
          "color": "#00cc96",
          "pattern": {
           "shape": ""
          }
         },
         "name": "Consumer Services",
         "offsetgroup": "Consumer Services",
         "orientation": "v",
         "showlegend": true,
         "textposition": "auto",
         "type": "bar",
         "x": [
          "Consumer Services"
         ],
         "xaxis": "x",
         "y": [
          399
         ],
         "yaxis": "y"
        },
        {
         "alignmentgroup": "True",
         "hovertemplate": "Industry=%{x}<br>Count=%{y}<extra></extra>",
         "legendgroup": "Commercial Services",
         "marker": {
          "color": "#ab63fa",
          "pattern": {
           "shape": ""
          }
         },
         "name": "Commercial Services",
         "offsetgroup": "Commercial Services",
         "orientation": "v",
         "showlegend": true,
         "textposition": "auto",
         "type": "bar",
         "x": [
          "Commercial Services"
         ],
         "xaxis": "x",
         "y": [
          372
         ],
         "yaxis": "y"
        },
        {
         "alignmentgroup": "True",
         "hovertemplate": "Industry=%{x}<br>Count=%{y}<extra></extra>",
         "legendgroup": "Semiconductors",
         "marker": {
          "color": "#FFA15A",
          "pattern": {
           "shape": ""
          }
         },
         "name": "Semiconductors",
         "offsetgroup": "Semiconductors",
         "orientation": "v",
         "showlegend": true,
         "textposition": "auto",
         "type": "bar",
         "x": [
          "Semiconductors"
         ],
         "xaxis": "x",
         "y": [
          356
         ],
         "yaxis": "y"
        }
       ],
       "layout": {
        "barmode": "relative",
        "legend": {
         "title": {
          "text": "Industry"
         },
         "tracegroupgap": 0
        },
        "showlegend": false,
        "template": {
         "data": {
          "bar": [
           {
            "error_x": {
             "color": "#2a3f5f"
            },
            "error_y": {
             "color": "#2a3f5f"
            },
            "marker": {
             "line": {
              "color": "#E5ECF6",
              "width": 0.5
             },
             "pattern": {
              "fillmode": "overlay",
              "size": 10,
              "solidity": 0.2
             }
            },
            "type": "bar"
           }
          ],
          "barpolar": [
           {
            "marker": {
             "line": {
              "color": "#E5ECF6",
              "width": 0.5
             },
             "pattern": {
              "fillmode": "overlay",
              "size": 10,
              "solidity": 0.2
             }
            },
            "type": "barpolar"
           }
          ],
          "carpet": [
           {
            "aaxis": {
             "endlinecolor": "#2a3f5f",
             "gridcolor": "white",
             "linecolor": "white",
             "minorgridcolor": "white",
             "startlinecolor": "#2a3f5f"
            },
            "baxis": {
             "endlinecolor": "#2a3f5f",
             "gridcolor": "white",
             "linecolor": "white",
             "minorgridcolor": "white",
             "startlinecolor": "#2a3f5f"
            },
            "type": "carpet"
           }
          ],
          "choropleth": [
           {
            "colorbar": {
             "outlinewidth": 0,
             "ticks": ""
            },
            "type": "choropleth"
           }
          ],
          "contour": [
           {
            "colorbar": {
             "outlinewidth": 0,
             "ticks": ""
            },
            "colorscale": [
             [
              0,
              "#0d0887"
             ],
             [
              0.1111111111111111,
              "#46039f"
             ],
             [
              0.2222222222222222,
              "#7201a8"
             ],
             [
              0.3333333333333333,
              "#9c179e"
             ],
             [
              0.4444444444444444,
              "#bd3786"
             ],
             [
              0.5555555555555556,
              "#d8576b"
             ],
             [
              0.6666666666666666,
              "#ed7953"
             ],
             [
              0.7777777777777778,
              "#fb9f3a"
             ],
             [
              0.8888888888888888,
              "#fdca26"
             ],
             [
              1,
              "#f0f921"
             ]
            ],
            "type": "contour"
           }
          ],
          "contourcarpet": [
           {
            "colorbar": {
             "outlinewidth": 0,
             "ticks": ""
            },
            "type": "contourcarpet"
           }
          ],
          "heatmap": [
           {
            "colorbar": {
             "outlinewidth": 0,
             "ticks": ""
            },
            "colorscale": [
             [
              0,
              "#0d0887"
             ],
             [
              0.1111111111111111,
              "#46039f"
             ],
             [
              0.2222222222222222,
              "#7201a8"
             ],
             [
              0.3333333333333333,
              "#9c179e"
             ],
             [
              0.4444444444444444,
              "#bd3786"
             ],
             [
              0.5555555555555556,
              "#d8576b"
             ],
             [
              0.6666666666666666,
              "#ed7953"
             ],
             [
              0.7777777777777778,
              "#fb9f3a"
             ],
             [
              0.8888888888888888,
              "#fdca26"
             ],
             [
              1,
              "#f0f921"
             ]
            ],
            "type": "heatmap"
           }
          ],
          "heatmapgl": [
           {
            "colorbar": {
             "outlinewidth": 0,
             "ticks": ""
            },
            "colorscale": [
             [
              0,
              "#0d0887"
             ],
             [
              0.1111111111111111,
              "#46039f"
             ],
             [
              0.2222222222222222,
              "#7201a8"
             ],
             [
              0.3333333333333333,
              "#9c179e"
             ],
             [
              0.4444444444444444,
              "#bd3786"
             ],
             [
              0.5555555555555556,
              "#d8576b"
             ],
             [
              0.6666666666666666,
              "#ed7953"
             ],
             [
              0.7777777777777778,
              "#fb9f3a"
             ],
             [
              0.8888888888888888,
              "#fdca26"
             ],
             [
              1,
              "#f0f921"
             ]
            ],
            "type": "heatmapgl"
           }
          ],
          "histogram": [
           {
            "marker": {
             "pattern": {
              "fillmode": "overlay",
              "size": 10,
              "solidity": 0.2
             }
            },
            "type": "histogram"
           }
          ],
          "histogram2d": [
           {
            "colorbar": {
             "outlinewidth": 0,
             "ticks": ""
            },
            "colorscale": [
             [
              0,
              "#0d0887"
             ],
             [
              0.1111111111111111,
              "#46039f"
             ],
             [
              0.2222222222222222,
              "#7201a8"
             ],
             [
              0.3333333333333333,
              "#9c179e"
             ],
             [
              0.4444444444444444,
              "#bd3786"
             ],
             [
              0.5555555555555556,
              "#d8576b"
             ],
             [
              0.6666666666666666,
              "#ed7953"
             ],
             [
              0.7777777777777778,
              "#fb9f3a"
             ],
             [
              0.8888888888888888,
              "#fdca26"
             ],
             [
              1,
              "#f0f921"
             ]
            ],
            "type": "histogram2d"
           }
          ],
          "histogram2dcontour": [
           {
            "colorbar": {
             "outlinewidth": 0,
             "ticks": ""
            },
            "colorscale": [
             [
              0,
              "#0d0887"
             ],
             [
              0.1111111111111111,
              "#46039f"
             ],
             [
              0.2222222222222222,
              "#7201a8"
             ],
             [
              0.3333333333333333,
              "#9c179e"
             ],
             [
              0.4444444444444444,
              "#bd3786"
             ],
             [
              0.5555555555555556,
              "#d8576b"
             ],
             [
              0.6666666666666666,
              "#ed7953"
             ],
             [
              0.7777777777777778,
              "#fb9f3a"
             ],
             [
              0.8888888888888888,
              "#fdca26"
             ],
             [
              1,
              "#f0f921"
             ]
            ],
            "type": "histogram2dcontour"
           }
          ],
          "mesh3d": [
           {
            "colorbar": {
             "outlinewidth": 0,
             "ticks": ""
            },
            "type": "mesh3d"
           }
          ],
          "parcoords": [
           {
            "line": {
             "colorbar": {
              "outlinewidth": 0,
              "ticks": ""
             }
            },
            "type": "parcoords"
           }
          ],
          "pie": [
           {
            "automargin": true,
            "type": "pie"
           }
          ],
          "scatter": [
           {
            "fillpattern": {
             "fillmode": "overlay",
             "size": 10,
             "solidity": 0.2
            },
            "type": "scatter"
           }
          ],
          "scatter3d": [
           {
            "line": {
             "colorbar": {
              "outlinewidth": 0,
              "ticks": ""
             }
            },
            "marker": {
             "colorbar": {
              "outlinewidth": 0,
              "ticks": ""
             }
            },
            "type": "scatter3d"
           }
          ],
          "scattercarpet": [
           {
            "marker": {
             "colorbar": {
              "outlinewidth": 0,
              "ticks": ""
             }
            },
            "type": "scattercarpet"
           }
          ],
          "scattergeo": [
           {
            "marker": {
             "colorbar": {
              "outlinewidth": 0,
              "ticks": ""
             }
            },
            "type": "scattergeo"
           }
          ],
          "scattergl": [
           {
            "marker": {
             "colorbar": {
              "outlinewidth": 0,
              "ticks": ""
             }
            },
            "type": "scattergl"
           }
          ],
          "scattermapbox": [
           {
            "marker": {
             "colorbar": {
              "outlinewidth": 0,
              "ticks": ""
             }
            },
            "type": "scattermapbox"
           }
          ],
          "scatterpolar": [
           {
            "marker": {
             "colorbar": {
              "outlinewidth": 0,
              "ticks": ""
             }
            },
            "type": "scatterpolar"
           }
          ],
          "scatterpolargl": [
           {
            "marker": {
             "colorbar": {
              "outlinewidth": 0,
              "ticks": ""
             }
            },
            "type": "scatterpolargl"
           }
          ],
          "scatterternary": [
           {
            "marker": {
             "colorbar": {
              "outlinewidth": 0,
              "ticks": ""
             }
            },
            "type": "scatterternary"
           }
          ],
          "surface": [
           {
            "colorbar": {
             "outlinewidth": 0,
             "ticks": ""
            },
            "colorscale": [
             [
              0,
              "#0d0887"
             ],
             [
              0.1111111111111111,
              "#46039f"
             ],
             [
              0.2222222222222222,
              "#7201a8"
             ],
             [
              0.3333333333333333,
              "#9c179e"
             ],
             [
              0.4444444444444444,
              "#bd3786"
             ],
             [
              0.5555555555555556,
              "#d8576b"
             ],
             [
              0.6666666666666666,
              "#ed7953"
             ],
             [
              0.7777777777777778,
              "#fb9f3a"
             ],
             [
              0.8888888888888888,
              "#fdca26"
             ],
             [
              1,
              "#f0f921"
             ]
            ],
            "type": "surface"
           }
          ],
          "table": [
           {
            "cells": {
             "fill": {
              "color": "#EBF0F8"
             },
             "line": {
              "color": "white"
             }
            },
            "header": {
             "fill": {
              "color": "#C8D4E3"
             },
             "line": {
              "color": "white"
             }
            },
            "type": "table"
           }
          ]
         },
         "layout": {
          "annotationdefaults": {
           "arrowcolor": "#2a3f5f",
           "arrowhead": 0,
           "arrowwidth": 1
          },
          "autotypenumbers": "strict",
          "coloraxis": {
           "colorbar": {
            "outlinewidth": 0,
            "ticks": ""
           }
          },
          "colorscale": {
           "diverging": [
            [
             0,
             "#8e0152"
            ],
            [
             0.1,
             "#c51b7d"
            ],
            [
             0.2,
             "#de77ae"
            ],
            [
             0.3,
             "#f1b6da"
            ],
            [
             0.4,
             "#fde0ef"
            ],
            [
             0.5,
             "#f7f7f7"
            ],
            [
             0.6,
             "#e6f5d0"
            ],
            [
             0.7,
             "#b8e186"
            ],
            [
             0.8,
             "#7fbc41"
            ],
            [
             0.9,
             "#4d9221"
            ],
            [
             1,
             "#276419"
            ]
           ],
           "sequential": [
            [
             0,
             "#0d0887"
            ],
            [
             0.1111111111111111,
             "#46039f"
            ],
            [
             0.2222222222222222,
             "#7201a8"
            ],
            [
             0.3333333333333333,
             "#9c179e"
            ],
            [
             0.4444444444444444,
             "#bd3786"
            ],
            [
             0.5555555555555556,
             "#d8576b"
            ],
            [
             0.6666666666666666,
             "#ed7953"
            ],
            [
             0.7777777777777778,
             "#fb9f3a"
            ],
            [
             0.8888888888888888,
             "#fdca26"
            ],
            [
             1,
             "#f0f921"
            ]
           ],
           "sequentialminus": [
            [
             0,
             "#0d0887"
            ],
            [
             0.1111111111111111,
             "#46039f"
            ],
            [
             0.2222222222222222,
             "#7201a8"
            ],
            [
             0.3333333333333333,
             "#9c179e"
            ],
            [
             0.4444444444444444,
             "#bd3786"
            ],
            [
             0.5555555555555556,
             "#d8576b"
            ],
            [
             0.6666666666666666,
             "#ed7953"
            ],
            [
             0.7777777777777778,
             "#fb9f3a"
            ],
            [
             0.8888888888888888,
             "#fdca26"
            ],
            [
             1,
             "#f0f921"
            ]
           ]
          },
          "colorway": [
           "#636efa",
           "#EF553B",
           "#00cc96",
           "#ab63fa",
           "#FFA15A",
           "#19d3f3",
           "#FF6692",
           "#B6E880",
           "#FF97FF",
           "#FECB52"
          ],
          "font": {
           "color": "#2a3f5f"
          },
          "geo": {
           "bgcolor": "white",
           "lakecolor": "white",
           "landcolor": "#E5ECF6",
           "showlakes": true,
           "showland": true,
           "subunitcolor": "white"
          },
          "hoverlabel": {
           "align": "left"
          },
          "hovermode": "closest",
          "mapbox": {
           "style": "light"
          },
          "paper_bgcolor": "white",
          "plot_bgcolor": "#E5ECF6",
          "polar": {
           "angularaxis": {
            "gridcolor": "white",
            "linecolor": "white",
            "ticks": ""
           },
           "bgcolor": "#E5ECF6",
           "radialaxis": {
            "gridcolor": "white",
            "linecolor": "white",
            "ticks": ""
           }
          },
          "scene": {
           "xaxis": {
            "backgroundcolor": "#E5ECF6",
            "gridcolor": "white",
            "gridwidth": 2,
            "linecolor": "white",
            "showbackground": true,
            "ticks": "",
            "zerolinecolor": "white"
           },
           "yaxis": {
            "backgroundcolor": "#E5ECF6",
            "gridcolor": "white",
            "gridwidth": 2,
            "linecolor": "white",
            "showbackground": true,
            "ticks": "",
            "zerolinecolor": "white"
           },
           "zaxis": {
            "backgroundcolor": "#E5ECF6",
            "gridcolor": "white",
            "gridwidth": 2,
            "linecolor": "white",
            "showbackground": true,
            "ticks": "",
            "zerolinecolor": "white"
           }
          },
          "shapedefaults": {
           "line": {
            "color": "#2a3f5f"
           }
          },
          "ternary": {
           "aaxis": {
            "gridcolor": "white",
            "linecolor": "white",
            "ticks": ""
           },
           "baxis": {
            "gridcolor": "white",
            "linecolor": "white",
            "ticks": ""
           },
           "bgcolor": "#E5ECF6",
           "caxis": {
            "gridcolor": "white",
            "linecolor": "white",
            "ticks": ""
           }
          },
          "title": {
           "x": 0.05
          },
          "xaxis": {
           "automargin": true,
           "gridcolor": "white",
           "linecolor": "white",
           "ticks": "",
           "title": {
            "standoff": 15
           },
           "zerolinecolor": "white",
           "zerolinewidth": 2
          },
          "yaxis": {
           "automargin": true,
           "gridcolor": "white",
           "linecolor": "white",
           "ticks": "",
           "title": {
            "standoff": 15
           },
           "zerolinecolor": "white",
           "zerolinewidth": 2
          }
         }
        },
        "title": {
         "text": "Nombre de firmes par secteur"
        },
        "xaxis": {
         "anchor": "y",
         "categoryarray": [
          "Real Estate",
          "Banks",
          "Software & Services",
          "Pharmaceuticals",
          "Diversified Financials",
          "Technology Hardware",
          "Utilities",
          "Chemicals",
          "Machinery",
          "Healthcare",
          "Food Products",
          "Retailing",
          "Consumer Services",
          "Commercial Services",
          "Semiconductors"
         ],
         "categoryorder": "array",
         "domain": [
          0,
          1
         ],
         "tickangle": -45,
         "title": {
          "text": "Industry"
         }
        },
        "yaxis": {
         "anchor": "x",
         "domain": [
          0,
          1
         ],
         "title": {
          "text": "Count"
         }
        }
       }
      }
     },
     "metadata": {},
     "output_type": "display_data"
    }
   ],
   "source": [
    "industry = filtered_esg_df['industry']\n",
    "industry_counts = industry.value_counts()\n",
    "industry_counts = industry_counts.to_dict()\n",
    "industry_counts = pd.DataFrame(list(industry_counts.items()), columns=['Industry', 'Count'])\n",
    "top_industries = industry_counts.sort_values(by='Count', ascending=False).head(15)\n",
    "fig = px.bar(top_industries, x='Industry', y='Count', title='Nombre de firmes par secteur', color = 'Industry')\n",
    "fig.update_layout(xaxis_tickangle=-45,\n",
    "                  showlegend = False)\n",
    "fig.show()"
=======
    "# import plotly.express as px"
>>>>>>> 49d27d7048e76aefd1fd9b8a21e56644e9e14c22
   ]
  },
  {
   "cell_type": "code",
   "execution_count": 7,
   "metadata": {},
   "outputs": [
    {
<<<<<<< HEAD
     "data": {
      "application/vnd.plotly.v1+json": {
       "config": {
        "plotlyServerURL": "https://plot.ly"
       },
       "data": [
        {
         "alignmentgroup": "True",
         "hovertemplate": "Country=%{x}<br>Mean ESG=%{y}<extra></extra>",
         "legendgroup": "Finland",
         "marker": {
          "color": "#636efa",
          "pattern": {
           "shape": ""
          }
         },
         "name": "Finland",
         "offsetgroup": "Finland",
         "orientation": "v",
         "showlegend": true,
         "textposition": "auto",
         "type": "bar",
         "x": [
          "Finland"
         ],
         "xaxis": "x",
         "y": [
          17.9125
         ],
         "yaxis": "y"
        },
        {
         "alignmentgroup": "True",
         "hovertemplate": "Country=%{x}<br>Mean ESG=%{y}<extra></extra>",
         "legendgroup": "Spain",
         "marker": {
          "color": "#EF553B",
          "pattern": {
           "shape": ""
          }
         },
         "name": "Spain",
         "offsetgroup": "Spain",
         "orientation": "v",
         "showlegend": true,
         "textposition": "auto",
         "type": "bar",
         "x": [
          "Spain"
         ],
         "xaxis": "x",
         "y": [
          18.136633663366336
         ],
         "yaxis": "y"
        },
        {
         "alignmentgroup": "True",
         "hovertemplate": "Country=%{x}<br>Mean ESG=%{y}<extra></extra>",
         "legendgroup": "Italy",
         "marker": {
          "color": "#00cc96",
          "pattern": {
           "shape": ""
          }
         },
         "name": "Italy",
         "offsetgroup": "Italy",
         "orientation": "v",
         "showlegend": true,
         "textposition": "auto",
         "type": "bar",
         "x": [
          "Italy"
         ],
         "xaxis": "x",
         "y": [
          18.490845070422534
         ],
         "yaxis": "y"
        },
        {
         "alignmentgroup": "True",
         "hovertemplate": "Country=%{x}<br>Mean ESG=%{y}<extra></extra>",
         "legendgroup": "France",
         "marker": {
          "color": "#ab63fa",
          "pattern": {
           "shape": ""
          }
         },
         "name": "France",
         "offsetgroup": "France",
         "orientation": "v",
         "showlegend": true,
         "textposition": "auto",
         "type": "bar",
         "x": [
          "France"
         ],
         "xaxis": "x",
         "y": [
          19.207174887892375
         ],
         "yaxis": "y"
        },
        {
         "alignmentgroup": "True",
         "hovertemplate": "Country=%{x}<br>Mean ESG=%{y}<extra></extra>",
         "legendgroup": "Luxembourg",
         "marker": {
          "color": "#FFA15A",
          "pattern": {
           "shape": ""
          }
         },
         "name": "Luxembourg",
         "offsetgroup": "Luxembourg",
         "orientation": "v",
         "showlegend": true,
         "textposition": "auto",
         "type": "bar",
         "x": [
          "Luxembourg"
         ],
         "xaxis": "x",
         "y": [
          19.372340425531913
         ],
         "yaxis": "y"
        },
        {
         "alignmentgroup": "True",
         "hovertemplate": "Country=%{x}<br>Mean ESG=%{y}<extra></extra>",
         "legendgroup": "Netherlands",
         "marker": {
          "color": "#19d3f3",
          "pattern": {
           "shape": ""
          }
         },
         "name": "Netherlands",
         "offsetgroup": "Netherlands",
         "orientation": "v",
         "showlegend": true,
         "textposition": "auto",
         "type": "bar",
         "x": [
          "Netherlands"
         ],
         "xaxis": "x",
         "y": [
          19.39532710280374
         ],
         "yaxis": "y"
        },
        {
         "alignmentgroup": "True",
         "hovertemplate": "Country=%{x}<br>Mean ESG=%{y}<extra></extra>",
         "legendgroup": "Germany",
         "marker": {
          "color": "#FF6692",
          "pattern": {
           "shape": ""
          }
         },
         "name": "Germany",
         "offsetgroup": "Germany",
         "orientation": "v",
         "showlegend": true,
         "textposition": "auto",
         "type": "bar",
         "x": [
          "Germany"
         ],
         "xaxis": "x",
         "y": [
          20.418145161290322
         ],
         "yaxis": "y"
        },
        {
         "alignmentgroup": "True",
         "hovertemplate": "Country=%{x}<br>Mean ESG=%{y}<extra></extra>",
         "legendgroup": "Austria",
         "marker": {
          "color": "#B6E880",
          "pattern": {
           "shape": ""
          }
         },
         "name": "Austria",
         "offsetgroup": "Austria",
         "orientation": "v",
         "showlegend": true,
         "textposition": "auto",
         "type": "bar",
         "x": [
          "Austria"
         ],
         "xaxis": "x",
         "y": [
          20.44255319148936
         ],
         "yaxis": "y"
        },
        {
         "alignmentgroup": "True",
         "hovertemplate": "Country=%{x}<br>Mean ESG=%{y}<extra></extra>",
         "legendgroup": "United Kingdom",
         "marker": {
          "color": "#FF97FF",
          "pattern": {
           "shape": ""
          }
         },
         "name": "United Kingdom",
         "offsetgroup": "United Kingdom",
         "orientation": "v",
         "showlegend": true,
         "textposition": "auto",
         "type": "bar",
         "x": [
          "United Kingdom"
         ],
         "xaxis": "x",
         "y": [
          20.900332778702165
         ],
         "yaxis": "y"
        },
        {
         "alignmentgroup": "True",
         "hovertemplate": "Country=%{x}<br>Mean ESG=%{y}<extra></extra>",
         "legendgroup": "Portugal",
         "marker": {
          "color": "#FECB52",
          "pattern": {
           "shape": ""
          }
         },
         "name": "Portugal",
         "offsetgroup": "Portugal",
         "orientation": "v",
         "showlegend": true,
         "textposition": "auto",
         "type": "bar",
         "x": [
          "Portugal"
         ],
         "xaxis": "x",
         "y": [
          21.03333333333333
         ],
         "yaxis": "y"
        },
        {
         "alignmentgroup": "True",
         "hovertemplate": "Country=%{x}<br>Mean ESG=%{y}<extra></extra>",
         "legendgroup": "Denmark",
         "marker": {
          "color": "#636efa",
          "pattern": {
           "shape": ""
          }
         },
         "name": "Denmark",
         "offsetgroup": "Denmark",
         "orientation": "v",
         "showlegend": true,
         "textposition": "auto",
         "type": "bar",
         "x": [
          "Denmark"
         ],
         "xaxis": "x",
         "y": [
          21.25344827586207
         ],
         "yaxis": "y"
        },
        {
         "alignmentgroup": "True",
         "hovertemplate": "Country=%{x}<br>Mean ESG=%{y}<extra></extra>",
         "legendgroup": "Ireland",
         "marker": {
          "color": "#EF553B",
          "pattern": {
           "shape": ""
          }
         },
         "name": "Ireland",
         "offsetgroup": "Ireland",
         "orientation": "v",
         "showlegend": true,
         "textposition": "auto",
         "type": "bar",
         "x": [
          "Ireland"
         ],
         "xaxis": "x",
         "y": [
          21.25689655172414
         ],
         "yaxis": "y"
        },
        {
         "alignmentgroup": "True",
         "hovertemplate": "Country=%{x}<br>Mean ESG=%{y}<extra></extra>",
         "legendgroup": "Belgium",
         "marker": {
          "color": "#00cc96",
          "pattern": {
           "shape": ""
          }
         },
         "name": "Belgium",
         "offsetgroup": "Belgium",
         "orientation": "v",
         "showlegend": true,
         "textposition": "auto",
         "type": "bar",
         "x": [
          "Belgium"
         ],
         "xaxis": "x",
         "y": [
          21.29516129032258
         ],
         "yaxis": "y"
        },
        {
         "alignmentgroup": "True",
         "hovertemplate": "Country=%{x}<br>Mean ESG=%{y}<extra></extra>",
         "legendgroup": "Czech Republic",
         "marker": {
          "color": "#ab63fa",
          "pattern": {
           "shape": ""
          }
         },
         "name": "Czech Republic",
         "offsetgroup": "Czech Republic",
         "orientation": "v",
         "showlegend": true,
         "textposition": "auto",
         "type": "bar",
         "x": [
          "Czech Republic"
         ],
         "xaxis": "x",
         "y": [
          22.163636363636364
         ],
         "yaxis": "y"
        },
        {
         "alignmentgroup": "True",
         "hovertemplate": "Country=%{x}<br>Mean ESG=%{y}<extra></extra>",
         "legendgroup": "Switzerland",
         "marker": {
          "color": "#FFA15A",
          "pattern": {
           "shape": ""
          }
         },
         "name": "Switzerland",
         "offsetgroup": "Switzerland",
         "orientation": "v",
         "showlegend": true,
         "textposition": "auto",
         "type": "bar",
         "x": [
          "Switzerland"
         ],
         "xaxis": "x",
         "y": [
          22.182317073170733
         ],
         "yaxis": "y"
        }
       ],
       "layout": {
        "barmode": "relative",
        "legend": {
         "title": {
          "text": "Country"
         },
         "tracegroupgap": 0
        },
        "showlegend": false,
        "template": {
         "data": {
          "bar": [
           {
            "error_x": {
             "color": "#2a3f5f"
            },
            "error_y": {
             "color": "#2a3f5f"
            },
            "marker": {
             "line": {
              "color": "#E5ECF6",
              "width": 0.5
             },
             "pattern": {
              "fillmode": "overlay",
              "size": 10,
              "solidity": 0.2
             }
            },
            "type": "bar"
           }
          ],
          "barpolar": [
           {
            "marker": {
             "line": {
              "color": "#E5ECF6",
              "width": 0.5
             },
             "pattern": {
              "fillmode": "overlay",
              "size": 10,
              "solidity": 0.2
             }
            },
            "type": "barpolar"
           }
          ],
          "carpet": [
           {
            "aaxis": {
             "endlinecolor": "#2a3f5f",
             "gridcolor": "white",
             "linecolor": "white",
             "minorgridcolor": "white",
             "startlinecolor": "#2a3f5f"
            },
            "baxis": {
             "endlinecolor": "#2a3f5f",
             "gridcolor": "white",
             "linecolor": "white",
             "minorgridcolor": "white",
             "startlinecolor": "#2a3f5f"
            },
            "type": "carpet"
           }
          ],
          "choropleth": [
           {
            "colorbar": {
             "outlinewidth": 0,
             "ticks": ""
            },
            "type": "choropleth"
           }
          ],
          "contour": [
           {
            "colorbar": {
             "outlinewidth": 0,
             "ticks": ""
            },
            "colorscale": [
             [
              0,
              "#0d0887"
             ],
             [
              0.1111111111111111,
              "#46039f"
             ],
             [
              0.2222222222222222,
              "#7201a8"
             ],
             [
              0.3333333333333333,
              "#9c179e"
             ],
             [
              0.4444444444444444,
              "#bd3786"
             ],
             [
              0.5555555555555556,
              "#d8576b"
             ],
             [
              0.6666666666666666,
              "#ed7953"
             ],
             [
              0.7777777777777778,
              "#fb9f3a"
             ],
             [
              0.8888888888888888,
              "#fdca26"
             ],
             [
              1,
              "#f0f921"
             ]
            ],
            "type": "contour"
           }
          ],
          "contourcarpet": [
           {
            "colorbar": {
             "outlinewidth": 0,
             "ticks": ""
            },
            "type": "contourcarpet"
           }
          ],
          "heatmap": [
           {
            "colorbar": {
             "outlinewidth": 0,
             "ticks": ""
            },
            "colorscale": [
             [
              0,
              "#0d0887"
             ],
             [
              0.1111111111111111,
              "#46039f"
             ],
             [
              0.2222222222222222,
              "#7201a8"
             ],
             [
              0.3333333333333333,
              "#9c179e"
             ],
             [
              0.4444444444444444,
              "#bd3786"
             ],
             [
              0.5555555555555556,
              "#d8576b"
             ],
             [
              0.6666666666666666,
              "#ed7953"
             ],
             [
              0.7777777777777778,
              "#fb9f3a"
             ],
             [
              0.8888888888888888,
              "#fdca26"
             ],
             [
              1,
              "#f0f921"
             ]
            ],
            "type": "heatmap"
           }
          ],
          "heatmapgl": [
           {
            "colorbar": {
             "outlinewidth": 0,
             "ticks": ""
            },
            "colorscale": [
             [
              0,
              "#0d0887"
             ],
             [
              0.1111111111111111,
              "#46039f"
             ],
             [
              0.2222222222222222,
              "#7201a8"
             ],
             [
              0.3333333333333333,
              "#9c179e"
             ],
             [
              0.4444444444444444,
              "#bd3786"
             ],
             [
              0.5555555555555556,
              "#d8576b"
             ],
             [
              0.6666666666666666,
              "#ed7953"
             ],
             [
              0.7777777777777778,
              "#fb9f3a"
             ],
             [
              0.8888888888888888,
              "#fdca26"
             ],
             [
              1,
              "#f0f921"
             ]
            ],
            "type": "heatmapgl"
           }
          ],
          "histogram": [
           {
            "marker": {
             "pattern": {
              "fillmode": "overlay",
              "size": 10,
              "solidity": 0.2
             }
            },
            "type": "histogram"
           }
          ],
          "histogram2d": [
           {
            "colorbar": {
             "outlinewidth": 0,
             "ticks": ""
            },
            "colorscale": [
             [
              0,
              "#0d0887"
             ],
             [
              0.1111111111111111,
              "#46039f"
             ],
             [
              0.2222222222222222,
              "#7201a8"
             ],
             [
              0.3333333333333333,
              "#9c179e"
             ],
             [
              0.4444444444444444,
              "#bd3786"
             ],
             [
              0.5555555555555556,
              "#d8576b"
             ],
             [
              0.6666666666666666,
              "#ed7953"
             ],
             [
              0.7777777777777778,
              "#fb9f3a"
             ],
             [
              0.8888888888888888,
              "#fdca26"
             ],
             [
              1,
              "#f0f921"
             ]
            ],
            "type": "histogram2d"
           }
          ],
          "histogram2dcontour": [
           {
            "colorbar": {
             "outlinewidth": 0,
             "ticks": ""
            },
            "colorscale": [
             [
              0,
              "#0d0887"
             ],
             [
              0.1111111111111111,
              "#46039f"
             ],
             [
              0.2222222222222222,
              "#7201a8"
             ],
             [
              0.3333333333333333,
              "#9c179e"
             ],
             [
              0.4444444444444444,
              "#bd3786"
             ],
             [
              0.5555555555555556,
              "#d8576b"
             ],
             [
              0.6666666666666666,
              "#ed7953"
             ],
             [
              0.7777777777777778,
              "#fb9f3a"
             ],
             [
              0.8888888888888888,
              "#fdca26"
             ],
             [
              1,
              "#f0f921"
             ]
            ],
            "type": "histogram2dcontour"
           }
          ],
          "mesh3d": [
           {
            "colorbar": {
             "outlinewidth": 0,
             "ticks": ""
            },
            "type": "mesh3d"
           }
          ],
          "parcoords": [
           {
            "line": {
             "colorbar": {
              "outlinewidth": 0,
              "ticks": ""
             }
            },
            "type": "parcoords"
           }
          ],
          "pie": [
           {
            "automargin": true,
            "type": "pie"
           }
          ],
          "scatter": [
           {
            "fillpattern": {
             "fillmode": "overlay",
             "size": 10,
             "solidity": 0.2
            },
            "type": "scatter"
           }
          ],
          "scatter3d": [
           {
            "line": {
             "colorbar": {
              "outlinewidth": 0,
              "ticks": ""
             }
            },
            "marker": {
             "colorbar": {
              "outlinewidth": 0,
              "ticks": ""
             }
            },
            "type": "scatter3d"
           }
          ],
          "scattercarpet": [
           {
            "marker": {
             "colorbar": {
              "outlinewidth": 0,
              "ticks": ""
             }
            },
            "type": "scattercarpet"
           }
          ],
          "scattergeo": [
           {
            "marker": {
             "colorbar": {
              "outlinewidth": 0,
              "ticks": ""
             }
            },
            "type": "scattergeo"
           }
          ],
          "scattergl": [
           {
            "marker": {
             "colorbar": {
              "outlinewidth": 0,
              "ticks": ""
             }
            },
            "type": "scattergl"
           }
          ],
          "scattermapbox": [
           {
            "marker": {
             "colorbar": {
              "outlinewidth": 0,
              "ticks": ""
             }
            },
            "type": "scattermapbox"
           }
          ],
          "scatterpolar": [
           {
            "marker": {
             "colorbar": {
              "outlinewidth": 0,
              "ticks": ""
             }
            },
            "type": "scatterpolar"
           }
          ],
          "scatterpolargl": [
           {
            "marker": {
             "colorbar": {
              "outlinewidth": 0,
              "ticks": ""
             }
            },
            "type": "scatterpolargl"
           }
          ],
          "scatterternary": [
           {
            "marker": {
             "colorbar": {
              "outlinewidth": 0,
              "ticks": ""
             }
            },
            "type": "scatterternary"
           }
          ],
          "surface": [
           {
            "colorbar": {
             "outlinewidth": 0,
             "ticks": ""
            },
            "colorscale": [
             [
              0,
              "#0d0887"
             ],
             [
              0.1111111111111111,
              "#46039f"
             ],
             [
              0.2222222222222222,
              "#7201a8"
             ],
             [
              0.3333333333333333,
              "#9c179e"
             ],
             [
              0.4444444444444444,
              "#bd3786"
             ],
             [
              0.5555555555555556,
              "#d8576b"
             ],
             [
              0.6666666666666666,
              "#ed7953"
             ],
             [
              0.7777777777777778,
              "#fb9f3a"
             ],
             [
              0.8888888888888888,
              "#fdca26"
             ],
             [
              1,
              "#f0f921"
             ]
            ],
            "type": "surface"
           }
          ],
          "table": [
           {
            "cells": {
             "fill": {
              "color": "#EBF0F8"
             },
             "line": {
              "color": "white"
             }
            },
            "header": {
             "fill": {
              "color": "#C8D4E3"
             },
             "line": {
              "color": "white"
             }
            },
            "type": "table"
           }
          ]
         },
         "layout": {
          "annotationdefaults": {
           "arrowcolor": "#2a3f5f",
           "arrowhead": 0,
           "arrowwidth": 1
          },
          "autotypenumbers": "strict",
          "coloraxis": {
           "colorbar": {
            "outlinewidth": 0,
            "ticks": ""
           }
          },
          "colorscale": {
           "diverging": [
            [
             0,
             "#8e0152"
            ],
            [
             0.1,
             "#c51b7d"
            ],
            [
             0.2,
             "#de77ae"
            ],
            [
             0.3,
             "#f1b6da"
            ],
            [
             0.4,
             "#fde0ef"
            ],
            [
             0.5,
             "#f7f7f7"
            ],
            [
             0.6,
             "#e6f5d0"
            ],
            [
             0.7,
             "#b8e186"
            ],
            [
             0.8,
             "#7fbc41"
            ],
            [
             0.9,
             "#4d9221"
            ],
            [
             1,
             "#276419"
            ]
           ],
           "sequential": [
            [
             0,
             "#0d0887"
            ],
            [
             0.1111111111111111,
             "#46039f"
            ],
            [
             0.2222222222222222,
             "#7201a8"
            ],
            [
             0.3333333333333333,
             "#9c179e"
            ],
            [
             0.4444444444444444,
             "#bd3786"
            ],
            [
             0.5555555555555556,
             "#d8576b"
            ],
            [
             0.6666666666666666,
             "#ed7953"
            ],
            [
             0.7777777777777778,
             "#fb9f3a"
            ],
            [
             0.8888888888888888,
             "#fdca26"
            ],
            [
             1,
             "#f0f921"
            ]
           ],
           "sequentialminus": [
            [
             0,
             "#0d0887"
            ],
            [
             0.1111111111111111,
             "#46039f"
            ],
            [
             0.2222222222222222,
             "#7201a8"
            ],
            [
             0.3333333333333333,
             "#9c179e"
            ],
            [
             0.4444444444444444,
             "#bd3786"
            ],
            [
             0.5555555555555556,
             "#d8576b"
            ],
            [
             0.6666666666666666,
             "#ed7953"
            ],
            [
             0.7777777777777778,
             "#fb9f3a"
            ],
            [
             0.8888888888888888,
             "#fdca26"
            ],
            [
             1,
             "#f0f921"
            ]
           ]
          },
          "colorway": [
           "#636efa",
           "#EF553B",
           "#00cc96",
           "#ab63fa",
           "#FFA15A",
           "#19d3f3",
           "#FF6692",
           "#B6E880",
           "#FF97FF",
           "#FECB52"
          ],
          "font": {
           "color": "#2a3f5f"
          },
          "geo": {
           "bgcolor": "white",
           "lakecolor": "white",
           "landcolor": "#E5ECF6",
           "showlakes": true,
           "showland": true,
           "subunitcolor": "white"
          },
          "hoverlabel": {
           "align": "left"
          },
          "hovermode": "closest",
          "mapbox": {
           "style": "light"
          },
          "paper_bgcolor": "white",
          "plot_bgcolor": "#E5ECF6",
          "polar": {
           "angularaxis": {
            "gridcolor": "white",
            "linecolor": "white",
            "ticks": ""
           },
           "bgcolor": "#E5ECF6",
           "radialaxis": {
            "gridcolor": "white",
            "linecolor": "white",
            "ticks": ""
           }
          },
          "scene": {
           "xaxis": {
            "backgroundcolor": "#E5ECF6",
            "gridcolor": "white",
            "gridwidth": 2,
            "linecolor": "white",
            "showbackground": true,
            "ticks": "",
            "zerolinecolor": "white"
           },
           "yaxis": {
            "backgroundcolor": "#E5ECF6",
            "gridcolor": "white",
            "gridwidth": 2,
            "linecolor": "white",
            "showbackground": true,
            "ticks": "",
            "zerolinecolor": "white"
           },
           "zaxis": {
            "backgroundcolor": "#E5ECF6",
            "gridcolor": "white",
            "gridwidth": 2,
            "linecolor": "white",
            "showbackground": true,
            "ticks": "",
            "zerolinecolor": "white"
           }
          },
          "shapedefaults": {
           "line": {
            "color": "#2a3f5f"
           }
          },
          "ternary": {
           "aaxis": {
            "gridcolor": "white",
            "linecolor": "white",
            "ticks": ""
           },
           "baxis": {
            "gridcolor": "white",
            "linecolor": "white",
            "ticks": ""
           },
           "bgcolor": "#E5ECF6",
           "caxis": {
            "gridcolor": "white",
            "linecolor": "white",
            "ticks": ""
           }
          },
          "title": {
           "x": 0.05
          },
          "xaxis": {
           "automargin": true,
           "gridcolor": "white",
           "linecolor": "white",
           "ticks": "",
           "title": {
            "standoff": 15
           },
           "zerolinecolor": "white",
           "zerolinewidth": 2
          },
          "yaxis": {
           "automargin": true,
           "gridcolor": "white",
           "linecolor": "white",
           "ticks": "",
           "title": {
            "standoff": 15
           },
           "zerolinecolor": "white",
           "zerolinewidth": 2
          }
         }
        },
        "title": {
         "text": "Mean ESG Score by Country"
        },
        "xaxis": {
         "anchor": "y",
         "categoryarray": [
          "Finland",
          "Spain",
          "Italy",
          "France",
          "Luxembourg",
          "Netherlands",
          "Germany",
          "Austria",
          "United Kingdom",
          "Portugal",
          "Denmark",
          "Ireland",
          "Belgium",
          "Czech Republic",
          "Switzerland"
         ],
         "categoryorder": "array",
         "domain": [
          0,
          1
         ],
         "tickangle": -45,
         "title": {
          "text": "Country"
         }
        },
        "yaxis": {
         "anchor": "x",
         "domain": [
          0,
          1
         ],
         "title": {
          "text": "Mean ESG"
         }
        }
       }
      }
     },
     "metadata": {},
     "output_type": "display_data"
    }
   ],
   "source": [
    "countries = filtered_esg_df.groupby('country')['grade'].mean().reset_index()\n",
    "countries.columns = ['Country', 'Mean ESG']\n",
    "top_countries = countries.sort_values(by='Mean ESG', ascending=True).head(15)\n",
    "fig = px.bar(top_countries, x='Country', y='Mean ESG', title='Mean ESG Score by Country', color='Country')\n",
    "fig.update_layout(xaxis_tickangle=-45,\n",
    "                  showlegend=False)\n",
    "fig.show()"
   ]
  },
  {
   "cell_type": "code",
   "execution_count": 8,
   "metadata": {},
   "outputs": [
    {
     "data": {
      "application/vnd.plotly.v1+json": {
       "config": {
        "plotlyServerURL": "https://plot.ly"
       },
       "data": [
        {
         "alignmentgroup": "True",
         "hovertemplate": "Industry=%{x}<br>Mean ESG=%{y}<extra></extra>",
         "legendgroup": "Media",
         "marker": {
          "color": "#636efa",
          "pattern": {
           "shape": ""
          }
         },
         "name": "Media",
         "offsetgroup": "Media",
         "orientation": "v",
         "showlegend": true,
         "textposition": "auto",
         "type": "bar",
         "x": [
          "Media"
         ],
         "xaxis": "x",
         "y": [
          16.37531914893617
         ],
         "yaxis": "y"
        },
        {
         "alignmentgroup": "True",
         "hovertemplate": "Industry=%{x}<br>Mean ESG=%{y}<extra></extra>",
         "legendgroup": "Transportation Infrastructure",
         "marker": {
          "color": "#EF553B",
          "pattern": {
           "shape": ""
          }
         },
         "name": "Transportation Infrastructure",
         "offsetgroup": "Transportation Infrastructure",
         "orientation": "v",
         "showlegend": true,
         "textposition": "auto",
         "type": "bar",
         "x": [
          "Transportation Infrastructure"
         ],
         "xaxis": "x",
         "y": [
          16.68027210884354
         ],
         "yaxis": "y"
        },
        {
         "alignmentgroup": "True",
         "hovertemplate": "Industry=%{x}<br>Mean ESG=%{y}<extra></extra>",
         "legendgroup": "Real Estate",
         "marker": {
          "color": "#00cc96",
          "pattern": {
           "shape": ""
          }
         },
         "name": "Real Estate",
         "offsetgroup": "Real Estate",
         "orientation": "v",
         "showlegend": true,
         "textposition": "auto",
         "type": "bar",
         "x": [
          "Real Estate"
         ],
         "xaxis": "x",
         "y": [
          17.37010752688172
         ],
         "yaxis": "y"
        },
        {
         "alignmentgroup": "True",
         "hovertemplate": "Industry=%{x}<br>Mean ESG=%{y}<extra></extra>",
         "legendgroup": "Containers & Packaging",
         "marker": {
          "color": "#ab63fa",
          "pattern": {
           "shape": ""
          }
         },
         "name": "Containers & Packaging",
         "offsetgroup": "Containers & Packaging",
         "orientation": "v",
         "showlegend": true,
         "textposition": "auto",
         "type": "bar",
         "x": [
          "Containers & Packaging"
         ],
         "xaxis": "x",
         "y": [
          18.544871794871796
         ],
         "yaxis": "y"
        },
        {
         "alignmentgroup": "True",
         "hovertemplate": "Industry=%{x}<br>Mean ESG=%{y}<extra></extra>",
         "legendgroup": "Commercial Services",
         "marker": {
          "color": "#FFA15A",
          "pattern": {
           "shape": ""
          }
         },
         "name": "Commercial Services",
         "offsetgroup": "Commercial Services",
         "orientation": "v",
         "showlegend": true,
         "textposition": "auto",
         "type": "bar",
         "x": [
          "Commercial Services"
         ],
         "xaxis": "x",
         "y": [
          18.573924731182796
         ],
         "yaxis": "y"
        },
        {
         "alignmentgroup": "True",
         "hovertemplate": "Industry=%{x}<br>Mean ESG=%{y}<extra></extra>",
         "legendgroup": "Textiles & Apparel",
         "marker": {
          "color": "#19d3f3",
          "pattern": {
           "shape": ""
          }
         },
         "name": "Textiles & Apparel",
         "offsetgroup": "Textiles & Apparel",
         "orientation": "v",
         "showlegend": true,
         "textposition": "auto",
         "type": "bar",
         "x": [
          "Textiles & Apparel"
         ],
         "xaxis": "x",
         "y": [
          18.617877094972066
         ],
         "yaxis": "y"
        },
        {
         "alignmentgroup": "True",
         "hovertemplate": "Industry=%{x}<br>Mean ESG=%{y}<extra></extra>",
         "legendgroup": "Retailing",
         "marker": {
          "color": "#FF6692",
          "pattern": {
           "shape": ""
          }
         },
         "name": "Retailing",
         "offsetgroup": "Retailing",
         "orientation": "v",
         "showlegend": true,
         "textposition": "auto",
         "type": "bar",
         "x": [
          "Retailing"
         ],
         "xaxis": "x",
         "y": [
          18.647099767981437
         ],
         "yaxis": "y"
        },
        {
         "alignmentgroup": "True",
         "hovertemplate": "Industry=%{x}<br>Mean ESG=%{y}<extra></extra>",
         "legendgroup": "Technology Hardware",
         "marker": {
          "color": "#B6E880",
          "pattern": {
           "shape": ""
          }
         },
         "name": "Technology Hardware",
         "offsetgroup": "Technology Hardware",
         "orientation": "v",
         "showlegend": true,
         "textposition": "auto",
         "type": "bar",
         "x": [
          "Technology Hardware"
         ],
         "xaxis": "x",
         "y": [
          18.906467661691543
         ],
         "yaxis": "y"
        },
        {
         "alignmentgroup": "True",
         "hovertemplate": "Industry=%{x}<br>Mean ESG=%{y}<extra></extra>",
         "legendgroup": "Consumer Durables",
         "marker": {
          "color": "#FF97FF",
          "pattern": {
           "shape": ""
          }
         },
         "name": "Consumer Durables",
         "offsetgroup": "Consumer Durables",
         "orientation": "v",
         "showlegend": true,
         "textposition": "auto",
         "type": "bar",
         "x": [
          "Consumer Durables"
         ],
         "xaxis": "x",
         "y": [
          19.27830687830688
         ],
         "yaxis": "y"
        },
        {
         "alignmentgroup": "True",
         "hovertemplate": "Industry=%{x}<br>Mean ESG=%{y}<extra></extra>",
         "legendgroup": "Homebuilders",
         "marker": {
          "color": "#FECB52",
          "pattern": {
           "shape": ""
          }
         },
         "name": "Homebuilders",
         "offsetgroup": "Homebuilders",
         "orientation": "v",
         "showlegend": true,
         "textposition": "auto",
         "type": "bar",
         "x": [
          "Homebuilders"
         ],
         "xaxis": "x",
         "y": [
          20.69324324324324
         ],
         "yaxis": "y"
        },
        {
         "alignmentgroup": "True",
         "hovertemplate": "Industry=%{x}<br>Mean ESG=%{y}<extra></extra>",
         "legendgroup": "Auto Components",
         "marker": {
          "color": "#636efa",
          "pattern": {
           "shape": ""
          }
         },
         "name": "Auto Components",
         "offsetgroup": "Auto Components",
         "orientation": "v",
         "showlegend": true,
         "textposition": "auto",
         "type": "bar",
         "x": [
          "Auto Components"
         ],
         "xaxis": "x",
         "y": [
          21.205333333333332
         ],
         "yaxis": "y"
        },
        {
         "alignmentgroup": "True",
         "hovertemplate": "Industry=%{x}<br>Mean ESG=%{y}<extra></extra>",
         "legendgroup": "Software & Services",
         "marker": {
          "color": "#EF553B",
          "pattern": {
           "shape": ""
          }
         },
         "name": "Software & Services",
         "offsetgroup": "Software & Services",
         "orientation": "v",
         "showlegend": true,
         "textposition": "auto",
         "type": "bar",
         "x": [
          "Software & Services"
         ],
         "xaxis": "x",
         "y": [
          21.501775804661484
         ],
         "yaxis": "y"
        },
        {
         "alignmentgroup": "True",
         "hovertemplate": "Industry=%{x}<br>Mean ESG=%{y}<extra></extra>",
         "legendgroup": "Traders & Distributors",
         "marker": {
          "color": "#00cc96",
          "pattern": {
           "shape": ""
          }
         },
         "name": "Traders & Distributors",
         "offsetgroup": "Traders & Distributors",
         "orientation": "v",
         "showlegend": true,
         "textposition": "auto",
         "type": "bar",
         "x": [
          "Traders & Distributors"
         ],
         "xaxis": "x",
         "y": [
          22.996407185628744
         ],
         "yaxis": "y"
        },
        {
         "alignmentgroup": "True",
         "hovertemplate": "Industry=%{x}<br>Mean ESG=%{y}<extra></extra>",
         "legendgroup": "Food Retailers",
         "marker": {
          "color": "#ab63fa",
          "pattern": {
           "shape": ""
          }
         },
         "name": "Food Retailers",
         "offsetgroup": "Food Retailers",
         "orientation": "v",
         "showlegend": true,
         "textposition": "auto",
         "type": "bar",
         "x": [
          "Food Retailers"
         ],
         "xaxis": "x",
         "y": [
          23.047191011235952
         ],
         "yaxis": "y"
        },
        {
         "alignmentgroup": "True",
         "hovertemplate": "Industry=%{x}<br>Mean ESG=%{y}<extra></extra>",
         "legendgroup": "Paper & Forestry",
         "marker": {
          "color": "#FFA15A",
          "pattern": {
           "shape": ""
          }
         },
         "name": "Paper & Forestry",
         "offsetgroup": "Paper & Forestry",
         "orientation": "v",
         "showlegend": true,
         "textposition": "auto",
         "type": "bar",
         "x": [
          "Paper & Forestry"
         ],
         "xaxis": "x",
         "y": [
          23.398591549295773
         ],
         "yaxis": "y"
        }
       ],
       "layout": {
        "barmode": "relative",
        "legend": {
         "title": {
          "text": "Industry"
         },
         "tracegroupgap": 0
        },
        "showlegend": false,
        "template": {
         "data": {
          "bar": [
           {
            "error_x": {
             "color": "#2a3f5f"
            },
            "error_y": {
             "color": "#2a3f5f"
            },
            "marker": {
             "line": {
              "color": "#E5ECF6",
              "width": 0.5
             },
             "pattern": {
              "fillmode": "overlay",
              "size": 10,
              "solidity": 0.2
             }
            },
            "type": "bar"
           }
          ],
          "barpolar": [
           {
            "marker": {
             "line": {
              "color": "#E5ECF6",
              "width": 0.5
             },
             "pattern": {
              "fillmode": "overlay",
              "size": 10,
              "solidity": 0.2
             }
            },
            "type": "barpolar"
           }
          ],
          "carpet": [
           {
            "aaxis": {
             "endlinecolor": "#2a3f5f",
             "gridcolor": "white",
             "linecolor": "white",
             "minorgridcolor": "white",
             "startlinecolor": "#2a3f5f"
            },
            "baxis": {
             "endlinecolor": "#2a3f5f",
             "gridcolor": "white",
             "linecolor": "white",
             "minorgridcolor": "white",
             "startlinecolor": "#2a3f5f"
            },
            "type": "carpet"
           }
          ],
          "choropleth": [
           {
            "colorbar": {
             "outlinewidth": 0,
             "ticks": ""
            },
            "type": "choropleth"
           }
          ],
          "contour": [
           {
            "colorbar": {
             "outlinewidth": 0,
             "ticks": ""
            },
            "colorscale": [
             [
              0,
              "#0d0887"
             ],
             [
              0.1111111111111111,
              "#46039f"
             ],
             [
              0.2222222222222222,
              "#7201a8"
             ],
             [
              0.3333333333333333,
              "#9c179e"
             ],
             [
              0.4444444444444444,
              "#bd3786"
             ],
             [
              0.5555555555555556,
              "#d8576b"
             ],
             [
              0.6666666666666666,
              "#ed7953"
             ],
             [
              0.7777777777777778,
              "#fb9f3a"
             ],
             [
              0.8888888888888888,
              "#fdca26"
             ],
             [
              1,
              "#f0f921"
             ]
            ],
            "type": "contour"
           }
          ],
          "contourcarpet": [
           {
            "colorbar": {
             "outlinewidth": 0,
             "ticks": ""
            },
            "type": "contourcarpet"
           }
          ],
          "heatmap": [
           {
            "colorbar": {
             "outlinewidth": 0,
             "ticks": ""
            },
            "colorscale": [
             [
              0,
              "#0d0887"
             ],
             [
              0.1111111111111111,
              "#46039f"
             ],
             [
              0.2222222222222222,
              "#7201a8"
             ],
             [
              0.3333333333333333,
              "#9c179e"
             ],
             [
              0.4444444444444444,
              "#bd3786"
             ],
             [
              0.5555555555555556,
              "#d8576b"
             ],
             [
              0.6666666666666666,
              "#ed7953"
             ],
             [
              0.7777777777777778,
              "#fb9f3a"
             ],
             [
              0.8888888888888888,
              "#fdca26"
             ],
             [
              1,
              "#f0f921"
             ]
            ],
            "type": "heatmap"
           }
          ],
          "heatmapgl": [
           {
            "colorbar": {
             "outlinewidth": 0,
             "ticks": ""
            },
            "colorscale": [
             [
              0,
              "#0d0887"
             ],
             [
              0.1111111111111111,
              "#46039f"
             ],
             [
              0.2222222222222222,
              "#7201a8"
             ],
             [
              0.3333333333333333,
              "#9c179e"
             ],
             [
              0.4444444444444444,
              "#bd3786"
             ],
             [
              0.5555555555555556,
              "#d8576b"
             ],
             [
              0.6666666666666666,
              "#ed7953"
             ],
             [
              0.7777777777777778,
              "#fb9f3a"
             ],
             [
              0.8888888888888888,
              "#fdca26"
             ],
             [
              1,
              "#f0f921"
             ]
            ],
            "type": "heatmapgl"
           }
          ],
          "histogram": [
           {
            "marker": {
             "pattern": {
              "fillmode": "overlay",
              "size": 10,
              "solidity": 0.2
             }
            },
            "type": "histogram"
           }
          ],
          "histogram2d": [
           {
            "colorbar": {
             "outlinewidth": 0,
             "ticks": ""
            },
            "colorscale": [
             [
              0,
              "#0d0887"
             ],
             [
              0.1111111111111111,
              "#46039f"
             ],
             [
              0.2222222222222222,
              "#7201a8"
             ],
             [
              0.3333333333333333,
              "#9c179e"
             ],
             [
              0.4444444444444444,
              "#bd3786"
             ],
             [
              0.5555555555555556,
              "#d8576b"
             ],
             [
              0.6666666666666666,
              "#ed7953"
             ],
             [
              0.7777777777777778,
              "#fb9f3a"
             ],
             [
              0.8888888888888888,
              "#fdca26"
             ],
             [
              1,
              "#f0f921"
             ]
            ],
            "type": "histogram2d"
           }
          ],
          "histogram2dcontour": [
           {
            "colorbar": {
             "outlinewidth": 0,
             "ticks": ""
            },
            "colorscale": [
             [
              0,
              "#0d0887"
             ],
             [
              0.1111111111111111,
              "#46039f"
             ],
             [
              0.2222222222222222,
              "#7201a8"
             ],
             [
              0.3333333333333333,
              "#9c179e"
             ],
             [
              0.4444444444444444,
              "#bd3786"
             ],
             [
              0.5555555555555556,
              "#d8576b"
             ],
             [
              0.6666666666666666,
              "#ed7953"
             ],
             [
              0.7777777777777778,
              "#fb9f3a"
             ],
             [
              0.8888888888888888,
              "#fdca26"
             ],
             [
              1,
              "#f0f921"
             ]
            ],
            "type": "histogram2dcontour"
           }
          ],
          "mesh3d": [
           {
            "colorbar": {
             "outlinewidth": 0,
             "ticks": ""
            },
            "type": "mesh3d"
           }
          ],
          "parcoords": [
           {
            "line": {
             "colorbar": {
              "outlinewidth": 0,
              "ticks": ""
             }
            },
            "type": "parcoords"
           }
          ],
          "pie": [
           {
            "automargin": true,
            "type": "pie"
           }
          ],
          "scatter": [
           {
            "fillpattern": {
             "fillmode": "overlay",
             "size": 10,
             "solidity": 0.2
            },
            "type": "scatter"
           }
          ],
          "scatter3d": [
           {
            "line": {
             "colorbar": {
              "outlinewidth": 0,
              "ticks": ""
             }
            },
            "marker": {
             "colorbar": {
              "outlinewidth": 0,
              "ticks": ""
             }
            },
            "type": "scatter3d"
           }
          ],
          "scattercarpet": [
           {
            "marker": {
             "colorbar": {
              "outlinewidth": 0,
              "ticks": ""
             }
            },
            "type": "scattercarpet"
           }
          ],
          "scattergeo": [
           {
            "marker": {
             "colorbar": {
              "outlinewidth": 0,
              "ticks": ""
             }
            },
            "type": "scattergeo"
           }
          ],
          "scattergl": [
           {
            "marker": {
             "colorbar": {
              "outlinewidth": 0,
              "ticks": ""
             }
            },
            "type": "scattergl"
           }
          ],
          "scattermapbox": [
           {
            "marker": {
             "colorbar": {
              "outlinewidth": 0,
              "ticks": ""
             }
            },
            "type": "scattermapbox"
           }
          ],
          "scatterpolar": [
           {
            "marker": {
             "colorbar": {
              "outlinewidth": 0,
              "ticks": ""
             }
            },
            "type": "scatterpolar"
           }
          ],
          "scatterpolargl": [
           {
            "marker": {
             "colorbar": {
              "outlinewidth": 0,
              "ticks": ""
             }
            },
            "type": "scatterpolargl"
           }
          ],
          "scatterternary": [
           {
            "marker": {
             "colorbar": {
              "outlinewidth": 0,
              "ticks": ""
             }
            },
            "type": "scatterternary"
           }
          ],
          "surface": [
           {
            "colorbar": {
             "outlinewidth": 0,
             "ticks": ""
            },
            "colorscale": [
             [
              0,
              "#0d0887"
             ],
             [
              0.1111111111111111,
              "#46039f"
             ],
             [
              0.2222222222222222,
              "#7201a8"
             ],
             [
              0.3333333333333333,
              "#9c179e"
             ],
             [
              0.4444444444444444,
              "#bd3786"
             ],
             [
              0.5555555555555556,
              "#d8576b"
             ],
             [
              0.6666666666666666,
              "#ed7953"
             ],
             [
              0.7777777777777778,
              "#fb9f3a"
             ],
             [
              0.8888888888888888,
              "#fdca26"
             ],
             [
              1,
              "#f0f921"
             ]
            ],
            "type": "surface"
           }
          ],
          "table": [
           {
            "cells": {
             "fill": {
              "color": "#EBF0F8"
             },
             "line": {
              "color": "white"
             }
            },
            "header": {
             "fill": {
              "color": "#C8D4E3"
             },
             "line": {
              "color": "white"
             }
            },
            "type": "table"
           }
          ]
         },
         "layout": {
          "annotationdefaults": {
           "arrowcolor": "#2a3f5f",
           "arrowhead": 0,
           "arrowwidth": 1
          },
          "autotypenumbers": "strict",
          "coloraxis": {
           "colorbar": {
            "outlinewidth": 0,
            "ticks": ""
           }
          },
          "colorscale": {
           "diverging": [
            [
             0,
             "#8e0152"
            ],
            [
             0.1,
             "#c51b7d"
            ],
            [
             0.2,
             "#de77ae"
            ],
            [
             0.3,
             "#f1b6da"
            ],
            [
             0.4,
             "#fde0ef"
            ],
            [
             0.5,
             "#f7f7f7"
            ],
            [
             0.6,
             "#e6f5d0"
            ],
            [
             0.7,
             "#b8e186"
            ],
            [
             0.8,
             "#7fbc41"
            ],
            [
             0.9,
             "#4d9221"
            ],
            [
             1,
             "#276419"
            ]
           ],
           "sequential": [
            [
             0,
             "#0d0887"
            ],
            [
             0.1111111111111111,
             "#46039f"
            ],
            [
             0.2222222222222222,
             "#7201a8"
            ],
            [
             0.3333333333333333,
             "#9c179e"
            ],
            [
             0.4444444444444444,
             "#bd3786"
            ],
            [
             0.5555555555555556,
             "#d8576b"
            ],
            [
             0.6666666666666666,
             "#ed7953"
            ],
            [
             0.7777777777777778,
             "#fb9f3a"
            ],
            [
             0.8888888888888888,
             "#fdca26"
            ],
            [
             1,
             "#f0f921"
            ]
           ],
           "sequentialminus": [
            [
             0,
             "#0d0887"
            ],
            [
             0.1111111111111111,
             "#46039f"
            ],
            [
             0.2222222222222222,
             "#7201a8"
            ],
            [
             0.3333333333333333,
             "#9c179e"
            ],
            [
             0.4444444444444444,
             "#bd3786"
            ],
            [
             0.5555555555555556,
             "#d8576b"
            ],
            [
             0.6666666666666666,
             "#ed7953"
            ],
            [
             0.7777777777777778,
             "#fb9f3a"
            ],
            [
             0.8888888888888888,
             "#fdca26"
            ],
            [
             1,
             "#f0f921"
            ]
           ]
          },
          "colorway": [
           "#636efa",
           "#EF553B",
           "#00cc96",
           "#ab63fa",
           "#FFA15A",
           "#19d3f3",
           "#FF6692",
           "#B6E880",
           "#FF97FF",
           "#FECB52"
          ],
          "font": {
           "color": "#2a3f5f"
          },
          "geo": {
           "bgcolor": "white",
           "lakecolor": "white",
           "landcolor": "#E5ECF6",
           "showlakes": true,
           "showland": true,
           "subunitcolor": "white"
          },
          "hoverlabel": {
           "align": "left"
          },
          "hovermode": "closest",
          "mapbox": {
           "style": "light"
          },
          "paper_bgcolor": "white",
          "plot_bgcolor": "#E5ECF6",
          "polar": {
           "angularaxis": {
            "gridcolor": "white",
            "linecolor": "white",
            "ticks": ""
           },
           "bgcolor": "#E5ECF6",
           "radialaxis": {
            "gridcolor": "white",
            "linecolor": "white",
            "ticks": ""
           }
          },
          "scene": {
           "xaxis": {
            "backgroundcolor": "#E5ECF6",
            "gridcolor": "white",
            "gridwidth": 2,
            "linecolor": "white",
            "showbackground": true,
            "ticks": "",
            "zerolinecolor": "white"
           },
           "yaxis": {
            "backgroundcolor": "#E5ECF6",
            "gridcolor": "white",
            "gridwidth": 2,
            "linecolor": "white",
            "showbackground": true,
            "ticks": "",
            "zerolinecolor": "white"
           },
           "zaxis": {
            "backgroundcolor": "#E5ECF6",
            "gridcolor": "white",
            "gridwidth": 2,
            "linecolor": "white",
            "showbackground": true,
            "ticks": "",
            "zerolinecolor": "white"
           }
          },
          "shapedefaults": {
           "line": {
            "color": "#2a3f5f"
           }
          },
          "ternary": {
           "aaxis": {
            "gridcolor": "white",
            "linecolor": "white",
            "ticks": ""
           },
           "baxis": {
            "gridcolor": "white",
            "linecolor": "white",
            "ticks": ""
           },
           "bgcolor": "#E5ECF6",
           "caxis": {
            "gridcolor": "white",
            "linecolor": "white",
            "ticks": ""
           }
          },
          "title": {
           "x": 0.05
          },
          "xaxis": {
           "automargin": true,
           "gridcolor": "white",
           "linecolor": "white",
           "ticks": "",
           "title": {
            "standoff": 15
           },
           "zerolinecolor": "white",
           "zerolinewidth": 2
          },
          "yaxis": {
           "automargin": true,
           "gridcolor": "white",
           "linecolor": "white",
           "ticks": "",
           "title": {
            "standoff": 15
           },
           "zerolinecolor": "white",
           "zerolinewidth": 2
          }
         }
        },
        "title": {
         "text": "Mean ESG Score by Industry"
        },
        "xaxis": {
         "anchor": "y",
         "categoryarray": [
          "Media",
          "Transportation Infrastructure",
          "Real Estate",
          "Containers & Packaging",
          "Commercial Services",
          "Textiles & Apparel",
          "Retailing",
          "Technology Hardware",
          "Consumer Durables",
          "Homebuilders",
          "Auto Components",
          "Software & Services",
          "Traders & Distributors",
          "Food Retailers",
          "Paper & Forestry"
         ],
         "categoryorder": "array",
         "domain": [
          0,
          1
         ],
         "tickangle": -45,
         "title": {
          "text": "Industry"
         }
        },
        "yaxis": {
         "anchor": "x",
         "domain": [
          0,
          1
         ],
         "title": {
          "text": "Mean ESG"
         }
        }
       }
      }
     },
     "metadata": {},
     "output_type": "display_data"
    }
   ],
   "source": [
    "indutries = filtered_esg_df.groupby('industry')['grade'].mean().reset_index()\n",
    "indutries.columns = ['Industry', 'Mean ESG']\n",
    "top_indutries = indutries.sort_values(by='Mean ESG', ascending=True).head(15)\n",
    "fig = px.bar(top_indutries, x='Industry', y='Mean ESG', title='Mean ESG Score by Industry', color='Industry')\n",
    "fig.update_layout(xaxis_tickangle=-45,\n",
    "                  showlegend=False)\n",
    "fig.show()"
   ]
  },
  {
   "cell_type": "code",
   "execution_count": 18,
   "metadata": {},
   "outputs": [
    {
     "data": {
      "text/plain": [
       "Index(['United States of America', 'China', 'Japan', 'India', 'United Kingdom',\n",
       "       'Canada', 'South Korea', 'Taiwan', 'Australia', 'Sweden', 'Brazil',\n",
       "       'Germany', 'Thailand', 'France', 'Hong Kong', 'Saudi Arabia', 'Turkey',\n",
       "       'Israel', 'Malaysia', 'Indonesia', 'South Africa', 'Singapore',\n",
       "       'Switzerland', 'Mexico', 'Spain', 'Netherlands', 'Italy', 'Norway',\n",
       "       'Poland', 'Bermuda', 'United Arab Emirates', 'Ireland', 'Qatar',\n",
       "       'Chile', 'Belgium', 'Egypt', 'Denmark', 'Philippines', 'Greece',\n",
       "       'Kuwait', 'New Zealand', 'Finland', 'Austria', 'Luxembourg',\n",
       "       'Colombia'],\n",
       "      dtype='object', name='country')"
      ]
     },
     "execution_count": 18,
     "metadata": {},
     "output_type": "execute_result"
    }
   ],
   "source": [
    "countries_big_enough"
   ]
  },
  {
   "cell_type": "code",
   "execution_count": 25,
   "metadata": {},
   "outputs": [
    {
     "name": "stdout",
     "output_type": "stream",
     "text": [
      "9 pays retiré(s) : \n",
      "['Cayman Islands', 'Pakistan', 'Peru', 'Czech Republic', 'Romania', 'Vietnam', 'Iceland', 'Cyprus', 'Portugal']\n",
      "0 secteur(s) retiré(s) : \n",
      "[]\n",
      "8 pays retiré(s) : \n",
      "['Iceland', 'Cayman Islands', 'Vietnam', 'Cyprus', 'Romania', 'Egypt', 'Czech Republic', 'Pakistan']\n",
      "0 secteur(s) retiré(s) : \n",
      "[]\n"
=======
     "ename": "FileNotFoundError",
     "evalue": "[Errno 2] No such file or directory: 'Finance_Project/real_tabulation_scraped_data.csv'",
     "output_type": "error",
     "traceback": [
      "\u001b[1;31m---------------------------------------------------------------------------\u001b[0m",
      "\u001b[1;31mFileNotFoundError\u001b[0m                         Traceback (most recent call last)",
      "Cell \u001b[1;32mIn[7], line 1\u001b[0m\n\u001b[1;32m----> 1\u001b[0m esg_df \u001b[38;5;241m=\u001b[39m \u001b[43mpd\u001b[49m\u001b[38;5;241;43m.\u001b[39;49m\u001b[43mread_csv\u001b[49m\u001b[43m(\u001b[49m\u001b[38;5;124;43m'\u001b[39;49m\u001b[38;5;124;43mFinance_Project/real_tabulation_scraped_data.csv\u001b[39;49m\u001b[38;5;124;43m'\u001b[39;49m\u001b[43m)\u001b[49m\n\u001b[0;32m      2\u001b[0m esg_df\n",
      "File \u001b[1;32mc:\\Users\\PC\\Desktop\\Test_Selenium\\.venv\\Lib\\site-packages\\pandas\\io\\parsers\\readers.py:1026\u001b[0m, in \u001b[0;36mread_csv\u001b[1;34m(filepath_or_buffer, sep, delimiter, header, names, index_col, usecols, dtype, engine, converters, true_values, false_values, skipinitialspace, skiprows, skipfooter, nrows, na_values, keep_default_na, na_filter, verbose, skip_blank_lines, parse_dates, infer_datetime_format, keep_date_col, date_parser, date_format, dayfirst, cache_dates, iterator, chunksize, compression, thousands, decimal, lineterminator, quotechar, quoting, doublequote, escapechar, comment, encoding, encoding_errors, dialect, on_bad_lines, delim_whitespace, low_memory, memory_map, float_precision, storage_options, dtype_backend)\u001b[0m\n\u001b[0;32m   1013\u001b[0m kwds_defaults \u001b[38;5;241m=\u001b[39m _refine_defaults_read(\n\u001b[0;32m   1014\u001b[0m     dialect,\n\u001b[0;32m   1015\u001b[0m     delimiter,\n\u001b[1;32m   (...)\u001b[0m\n\u001b[0;32m   1022\u001b[0m     dtype_backend\u001b[38;5;241m=\u001b[39mdtype_backend,\n\u001b[0;32m   1023\u001b[0m )\n\u001b[0;32m   1024\u001b[0m kwds\u001b[38;5;241m.\u001b[39mupdate(kwds_defaults)\n\u001b[1;32m-> 1026\u001b[0m \u001b[38;5;28;01mreturn\u001b[39;00m \u001b[43m_read\u001b[49m\u001b[43m(\u001b[49m\u001b[43mfilepath_or_buffer\u001b[49m\u001b[43m,\u001b[49m\u001b[43m \u001b[49m\u001b[43mkwds\u001b[49m\u001b[43m)\u001b[49m\n",
      "File \u001b[1;32mc:\\Users\\PC\\Desktop\\Test_Selenium\\.venv\\Lib\\site-packages\\pandas\\io\\parsers\\readers.py:620\u001b[0m, in \u001b[0;36m_read\u001b[1;34m(filepath_or_buffer, kwds)\u001b[0m\n\u001b[0;32m    617\u001b[0m _validate_names(kwds\u001b[38;5;241m.\u001b[39mget(\u001b[38;5;124m\"\u001b[39m\u001b[38;5;124mnames\u001b[39m\u001b[38;5;124m\"\u001b[39m, \u001b[38;5;28;01mNone\u001b[39;00m))\n\u001b[0;32m    619\u001b[0m \u001b[38;5;66;03m# Create the parser.\u001b[39;00m\n\u001b[1;32m--> 620\u001b[0m parser \u001b[38;5;241m=\u001b[39m \u001b[43mTextFileReader\u001b[49m\u001b[43m(\u001b[49m\u001b[43mfilepath_or_buffer\u001b[49m\u001b[43m,\u001b[49m\u001b[43m \u001b[49m\u001b[38;5;241;43m*\u001b[39;49m\u001b[38;5;241;43m*\u001b[39;49m\u001b[43mkwds\u001b[49m\u001b[43m)\u001b[49m\n\u001b[0;32m    622\u001b[0m \u001b[38;5;28;01mif\u001b[39;00m chunksize \u001b[38;5;129;01mor\u001b[39;00m iterator:\n\u001b[0;32m    623\u001b[0m     \u001b[38;5;28;01mreturn\u001b[39;00m parser\n",
      "File \u001b[1;32mc:\\Users\\PC\\Desktop\\Test_Selenium\\.venv\\Lib\\site-packages\\pandas\\io\\parsers\\readers.py:1620\u001b[0m, in \u001b[0;36mTextFileReader.__init__\u001b[1;34m(self, f, engine, **kwds)\u001b[0m\n\u001b[0;32m   1617\u001b[0m     \u001b[38;5;28mself\u001b[39m\u001b[38;5;241m.\u001b[39moptions[\u001b[38;5;124m\"\u001b[39m\u001b[38;5;124mhas_index_names\u001b[39m\u001b[38;5;124m\"\u001b[39m] \u001b[38;5;241m=\u001b[39m kwds[\u001b[38;5;124m\"\u001b[39m\u001b[38;5;124mhas_index_names\u001b[39m\u001b[38;5;124m\"\u001b[39m]\n\u001b[0;32m   1619\u001b[0m \u001b[38;5;28mself\u001b[39m\u001b[38;5;241m.\u001b[39mhandles: IOHandles \u001b[38;5;241m|\u001b[39m \u001b[38;5;28;01mNone\u001b[39;00m \u001b[38;5;241m=\u001b[39m \u001b[38;5;28;01mNone\u001b[39;00m\n\u001b[1;32m-> 1620\u001b[0m \u001b[38;5;28mself\u001b[39m\u001b[38;5;241m.\u001b[39m_engine \u001b[38;5;241m=\u001b[39m \u001b[38;5;28;43mself\u001b[39;49m\u001b[38;5;241;43m.\u001b[39;49m\u001b[43m_make_engine\u001b[49m\u001b[43m(\u001b[49m\u001b[43mf\u001b[49m\u001b[43m,\u001b[49m\u001b[43m \u001b[49m\u001b[38;5;28;43mself\u001b[39;49m\u001b[38;5;241;43m.\u001b[39;49m\u001b[43mengine\u001b[49m\u001b[43m)\u001b[49m\n",
      "File \u001b[1;32mc:\\Users\\PC\\Desktop\\Test_Selenium\\.venv\\Lib\\site-packages\\pandas\\io\\parsers\\readers.py:1880\u001b[0m, in \u001b[0;36mTextFileReader._make_engine\u001b[1;34m(self, f, engine)\u001b[0m\n\u001b[0;32m   1878\u001b[0m     \u001b[38;5;28;01mif\u001b[39;00m \u001b[38;5;124m\"\u001b[39m\u001b[38;5;124mb\u001b[39m\u001b[38;5;124m\"\u001b[39m \u001b[38;5;129;01mnot\u001b[39;00m \u001b[38;5;129;01min\u001b[39;00m mode:\n\u001b[0;32m   1879\u001b[0m         mode \u001b[38;5;241m+\u001b[39m\u001b[38;5;241m=\u001b[39m \u001b[38;5;124m\"\u001b[39m\u001b[38;5;124mb\u001b[39m\u001b[38;5;124m\"\u001b[39m\n\u001b[1;32m-> 1880\u001b[0m \u001b[38;5;28mself\u001b[39m\u001b[38;5;241m.\u001b[39mhandles \u001b[38;5;241m=\u001b[39m \u001b[43mget_handle\u001b[49m\u001b[43m(\u001b[49m\n\u001b[0;32m   1881\u001b[0m \u001b[43m    \u001b[49m\u001b[43mf\u001b[49m\u001b[43m,\u001b[49m\n\u001b[0;32m   1882\u001b[0m \u001b[43m    \u001b[49m\u001b[43mmode\u001b[49m\u001b[43m,\u001b[49m\n\u001b[0;32m   1883\u001b[0m \u001b[43m    \u001b[49m\u001b[43mencoding\u001b[49m\u001b[38;5;241;43m=\u001b[39;49m\u001b[38;5;28;43mself\u001b[39;49m\u001b[38;5;241;43m.\u001b[39;49m\u001b[43moptions\u001b[49m\u001b[38;5;241;43m.\u001b[39;49m\u001b[43mget\u001b[49m\u001b[43m(\u001b[49m\u001b[38;5;124;43m\"\u001b[39;49m\u001b[38;5;124;43mencoding\u001b[39;49m\u001b[38;5;124;43m\"\u001b[39;49m\u001b[43m,\u001b[49m\u001b[43m \u001b[49m\u001b[38;5;28;43;01mNone\u001b[39;49;00m\u001b[43m)\u001b[49m\u001b[43m,\u001b[49m\n\u001b[0;32m   1884\u001b[0m \u001b[43m    \u001b[49m\u001b[43mcompression\u001b[49m\u001b[38;5;241;43m=\u001b[39;49m\u001b[38;5;28;43mself\u001b[39;49m\u001b[38;5;241;43m.\u001b[39;49m\u001b[43moptions\u001b[49m\u001b[38;5;241;43m.\u001b[39;49m\u001b[43mget\u001b[49m\u001b[43m(\u001b[49m\u001b[38;5;124;43m\"\u001b[39;49m\u001b[38;5;124;43mcompression\u001b[39;49m\u001b[38;5;124;43m\"\u001b[39;49m\u001b[43m,\u001b[49m\u001b[43m \u001b[49m\u001b[38;5;28;43;01mNone\u001b[39;49;00m\u001b[43m)\u001b[49m\u001b[43m,\u001b[49m\n\u001b[0;32m   1885\u001b[0m \u001b[43m    \u001b[49m\u001b[43mmemory_map\u001b[49m\u001b[38;5;241;43m=\u001b[39;49m\u001b[38;5;28;43mself\u001b[39;49m\u001b[38;5;241;43m.\u001b[39;49m\u001b[43moptions\u001b[49m\u001b[38;5;241;43m.\u001b[39;49m\u001b[43mget\u001b[49m\u001b[43m(\u001b[49m\u001b[38;5;124;43m\"\u001b[39;49m\u001b[38;5;124;43mmemory_map\u001b[39;49m\u001b[38;5;124;43m\"\u001b[39;49m\u001b[43m,\u001b[49m\u001b[43m \u001b[49m\u001b[38;5;28;43;01mFalse\u001b[39;49;00m\u001b[43m)\u001b[49m\u001b[43m,\u001b[49m\n\u001b[0;32m   1886\u001b[0m \u001b[43m    \u001b[49m\u001b[43mis_text\u001b[49m\u001b[38;5;241;43m=\u001b[39;49m\u001b[43mis_text\u001b[49m\u001b[43m,\u001b[49m\n\u001b[0;32m   1887\u001b[0m \u001b[43m    \u001b[49m\u001b[43merrors\u001b[49m\u001b[38;5;241;43m=\u001b[39;49m\u001b[38;5;28;43mself\u001b[39;49m\u001b[38;5;241;43m.\u001b[39;49m\u001b[43moptions\u001b[49m\u001b[38;5;241;43m.\u001b[39;49m\u001b[43mget\u001b[49m\u001b[43m(\u001b[49m\u001b[38;5;124;43m\"\u001b[39;49m\u001b[38;5;124;43mencoding_errors\u001b[39;49m\u001b[38;5;124;43m\"\u001b[39;49m\u001b[43m,\u001b[49m\u001b[43m \u001b[49m\u001b[38;5;124;43m\"\u001b[39;49m\u001b[38;5;124;43mstrict\u001b[39;49m\u001b[38;5;124;43m\"\u001b[39;49m\u001b[43m)\u001b[49m\u001b[43m,\u001b[49m\n\u001b[0;32m   1888\u001b[0m \u001b[43m    \u001b[49m\u001b[43mstorage_options\u001b[49m\u001b[38;5;241;43m=\u001b[39;49m\u001b[38;5;28;43mself\u001b[39;49m\u001b[38;5;241;43m.\u001b[39;49m\u001b[43moptions\u001b[49m\u001b[38;5;241;43m.\u001b[39;49m\u001b[43mget\u001b[49m\u001b[43m(\u001b[49m\u001b[38;5;124;43m\"\u001b[39;49m\u001b[38;5;124;43mstorage_options\u001b[39;49m\u001b[38;5;124;43m\"\u001b[39;49m\u001b[43m,\u001b[49m\u001b[43m \u001b[49m\u001b[38;5;28;43;01mNone\u001b[39;49;00m\u001b[43m)\u001b[49m\u001b[43m,\u001b[49m\n\u001b[0;32m   1889\u001b[0m \u001b[43m\u001b[49m\u001b[43m)\u001b[49m\n\u001b[0;32m   1890\u001b[0m \u001b[38;5;28;01massert\u001b[39;00m \u001b[38;5;28mself\u001b[39m\u001b[38;5;241m.\u001b[39mhandles \u001b[38;5;129;01mis\u001b[39;00m \u001b[38;5;129;01mnot\u001b[39;00m \u001b[38;5;28;01mNone\u001b[39;00m\n\u001b[0;32m   1891\u001b[0m f \u001b[38;5;241m=\u001b[39m \u001b[38;5;28mself\u001b[39m\u001b[38;5;241m.\u001b[39mhandles\u001b[38;5;241m.\u001b[39mhandle\n",
      "File \u001b[1;32mc:\\Users\\PC\\Desktop\\Test_Selenium\\.venv\\Lib\\site-packages\\pandas\\io\\common.py:873\u001b[0m, in \u001b[0;36mget_handle\u001b[1;34m(path_or_buf, mode, encoding, compression, memory_map, is_text, errors, storage_options)\u001b[0m\n\u001b[0;32m    868\u001b[0m \u001b[38;5;28;01melif\u001b[39;00m \u001b[38;5;28misinstance\u001b[39m(handle, \u001b[38;5;28mstr\u001b[39m):\n\u001b[0;32m    869\u001b[0m     \u001b[38;5;66;03m# Check whether the filename is to be opened in binary mode.\u001b[39;00m\n\u001b[0;32m    870\u001b[0m     \u001b[38;5;66;03m# Binary mode does not support 'encoding' and 'newline'.\u001b[39;00m\n\u001b[0;32m    871\u001b[0m     \u001b[38;5;28;01mif\u001b[39;00m ioargs\u001b[38;5;241m.\u001b[39mencoding \u001b[38;5;129;01mand\u001b[39;00m \u001b[38;5;124m\"\u001b[39m\u001b[38;5;124mb\u001b[39m\u001b[38;5;124m\"\u001b[39m \u001b[38;5;129;01mnot\u001b[39;00m \u001b[38;5;129;01min\u001b[39;00m ioargs\u001b[38;5;241m.\u001b[39mmode:\n\u001b[0;32m    872\u001b[0m         \u001b[38;5;66;03m# Encoding\u001b[39;00m\n\u001b[1;32m--> 873\u001b[0m         handle \u001b[38;5;241m=\u001b[39m \u001b[38;5;28;43mopen\u001b[39;49m\u001b[43m(\u001b[49m\n\u001b[0;32m    874\u001b[0m \u001b[43m            \u001b[49m\u001b[43mhandle\u001b[49m\u001b[43m,\u001b[49m\n\u001b[0;32m    875\u001b[0m \u001b[43m            \u001b[49m\u001b[43mioargs\u001b[49m\u001b[38;5;241;43m.\u001b[39;49m\u001b[43mmode\u001b[49m\u001b[43m,\u001b[49m\n\u001b[0;32m    876\u001b[0m \u001b[43m            \u001b[49m\u001b[43mencoding\u001b[49m\u001b[38;5;241;43m=\u001b[39;49m\u001b[43mioargs\u001b[49m\u001b[38;5;241;43m.\u001b[39;49m\u001b[43mencoding\u001b[49m\u001b[43m,\u001b[49m\n\u001b[0;32m    877\u001b[0m \u001b[43m            \u001b[49m\u001b[43merrors\u001b[49m\u001b[38;5;241;43m=\u001b[39;49m\u001b[43merrors\u001b[49m\u001b[43m,\u001b[49m\n\u001b[0;32m    878\u001b[0m \u001b[43m            \u001b[49m\u001b[43mnewline\u001b[49m\u001b[38;5;241;43m=\u001b[39;49m\u001b[38;5;124;43m\"\u001b[39;49m\u001b[38;5;124;43m\"\u001b[39;49m\u001b[43m,\u001b[49m\n\u001b[0;32m    879\u001b[0m \u001b[43m        \u001b[49m\u001b[43m)\u001b[49m\n\u001b[0;32m    880\u001b[0m     \u001b[38;5;28;01melse\u001b[39;00m:\n\u001b[0;32m    881\u001b[0m         \u001b[38;5;66;03m# Binary mode\u001b[39;00m\n\u001b[0;32m    882\u001b[0m         handle \u001b[38;5;241m=\u001b[39m \u001b[38;5;28mopen\u001b[39m(handle, ioargs\u001b[38;5;241m.\u001b[39mmode)\n",
      "\u001b[1;31mFileNotFoundError\u001b[0m: [Errno 2] No such file or directory: 'Finance_Project/real_tabulation_scraped_data.csv'"
>>>>>>> 49d27d7048e76aefd1fd9b8a21e56644e9e14c22
     ]
    }
   ],
   "source": [
<<<<<<< HEAD
    "df_2023 = filtered_esg_df[filtered_esg_df['date'].str.contains('2023')]\n",
    "df_2024 = filtered_esg_df[filtered_esg_df['date'].str.contains('2024')]\n",
    "list_23_24 = [df_2023, df_2024]\n",
    "\n",
    "filtered_list_23_24 = []\n",
    "\n",
    "for df in list_23_24:\n",
    "    country_counts = df['country'].value_counts()\n",
    "    countries_big_enough = country_counts[country_counts >= 10].index\n",
    "    print(f\"{len(country_counts) - len(countries_big_enough)} pays retiré(s) : \\n\"\n",
    "          f\"{country_counts[country_counts < 10].index.to_list()}\")\n",
    "    \n",
    "    industry_counts = df['industry'].value_counts()\n",
    "    industries_big_enough = industry_counts[industry_counts >= 10].index\n",
    "    print(f\"{len(industry_counts) - len(industries_big_enough)} secteur(s) retiré(s) : \\n\"\n",
    "          f\"{industry_counts[industry_counts < 10].index.to_list()}\")\n",
    "\n",
    "    filtered_df = df[df['country'].isin(countries_big_enough)]\n",
    "    filtered_df = filtered_df[filtered_df['industry'].isin(industries_big_enough)]\n",
    "    filtered_list_23_24.append(filtered_df)\n",
    "                \n",
    "df_2023_filtered, df_2024_filtered = filtered_list_23_24"
=======
    "esg_df = pd.read_csv('Finance_Project/real_tabulation_scraped_data.csv')\n",
    "esg_df"
>>>>>>> 49d27d7048e76aefd1fd9b8a21e56644e9e14c22
   ]
  },
  {
   "cell_type": "code",
<<<<<<< HEAD
   "execution_count": 30,
   "metadata": {},
   "outputs": [
    {
     "data": {
      "application/vnd.plotly.v1+json": {
       "config": {
        "plotlyServerURL": "https://plot.ly"
       },
       "data": [
        {
         "alignmentgroup": "True",
         "hovertemplate": "Country=%{x}<br>Mean ESG=%{y}<extra></extra>",
         "legendgroup": "Italy",
         "marker": {
          "color": "#636efa",
          "pattern": {
           "shape": ""
          }
         },
         "name": "Italy",
         "offsetgroup": "Italy",
         "orientation": "v",
         "showlegend": true,
         "textposition": "auto",
         "type": "bar",
         "x": [
          "Italy"
         ],
         "xaxis": "x",
         "y": [
          16.892857142857142
         ],
         "yaxis": "y"
        },
        {
         "alignmentgroup": "True",
         "hovertemplate": "Country=%{x}<br>Mean ESG=%{y}<extra></extra>",
         "legendgroup": "Finland",
         "marker": {
          "color": "#EF553B",
          "pattern": {
           "shape": ""
          }
         },
         "name": "Finland",
         "offsetgroup": "Finland",
         "orientation": "v",
         "showlegend": true,
         "textposition": "auto",
         "type": "bar",
         "x": [
          "Finland"
         ],
         "xaxis": "x",
         "y": [
          17.93846153846154
         ],
         "yaxis": "y"
        },
        {
         "alignmentgroup": "True",
         "hovertemplate": "Country=%{x}<br>Mean ESG=%{y}<extra></extra>",
         "legendgroup": "Spain",
         "marker": {
          "color": "#00cc96",
          "pattern": {
           "shape": ""
          }
         },
         "name": "Spain",
         "offsetgroup": "Spain",
         "orientation": "v",
         "showlegend": true,
         "textposition": "auto",
         "type": "bar",
         "x": [
          "Spain"
         ],
         "xaxis": "x",
         "y": [
          18.626470588235293
         ],
         "yaxis": "y"
        },
        {
         "alignmentgroup": "True",
         "hovertemplate": "Country=%{x}<br>Mean ESG=%{y}<extra></extra>",
         "legendgroup": "Netherlands",
         "marker": {
          "color": "#ab63fa",
          "pattern": {
           "shape": ""
          }
         },
         "name": "Netherlands",
         "offsetgroup": "Netherlands",
         "orientation": "v",
         "showlegend": true,
         "textposition": "auto",
         "type": "bar",
         "x": [
          "Netherlands"
         ],
         "xaxis": "x",
         "y": [
          19.020689655172415
         ],
         "yaxis": "y"
        },
        {
         "alignmentgroup": "True",
         "hovertemplate": "Country=%{x}<br>Mean ESG=%{y}<extra></extra>",
         "legendgroup": "Germany",
         "marker": {
          "color": "#FFA15A",
          "pattern": {
           "shape": ""
          }
         },
         "name": "Germany",
         "offsetgroup": "Germany",
         "orientation": "v",
         "showlegend": true,
         "textposition": "auto",
         "type": "bar",
         "x": [
          "Germany"
         ],
         "xaxis": "x",
         "y": [
          19.240506329113924
         ],
         "yaxis": "y"
        },
        {
         "alignmentgroup": "True",
         "hovertemplate": "Country=%{x}<br>Mean ESG=%{y}<extra></extra>",
         "legendgroup": "France",
         "marker": {
          "color": "#19d3f3",
          "pattern": {
           "shape": ""
          }
         },
         "name": "France",
         "offsetgroup": "France",
         "orientation": "v",
         "showlegend": true,
         "textposition": "auto",
         "type": "bar",
         "x": [
          "France"
         ],
         "xaxis": "x",
         "y": [
          19.585714285714285
         ],
         "yaxis": "y"
        },
        {
         "alignmentgroup": "True",
         "hovertemplate": "Country=%{x}<br>Mean ESG=%{y}<extra></extra>",
         "legendgroup": "Luxembourg",
         "marker": {
          "color": "#FF6692",
          "pattern": {
           "shape": ""
          }
         },
         "name": "Luxembourg",
         "offsetgroup": "Luxembourg",
         "orientation": "v",
         "showlegend": true,
         "textposition": "auto",
         "type": "bar",
         "x": [
          "Luxembourg"
         ],
         "xaxis": "x",
         "y": [
          19.841666666666665
         ],
         "yaxis": "y"
        },
        {
         "alignmentgroup": "True",
         "hovertemplate": "Country=%{x}<br>Mean ESG=%{y}<extra></extra>",
         "legendgroup": "Belgium",
         "marker": {
          "color": "#B6E880",
          "pattern": {
           "shape": ""
          }
         },
         "name": "Belgium",
         "offsetgroup": "Belgium",
         "orientation": "v",
         "showlegend": true,
         "textposition": "auto",
         "type": "bar",
         "x": [
          "Belgium"
         ],
         "xaxis": "x",
         "y": [
          19.975
         ],
         "yaxis": "y"
        },
        {
         "alignmentgroup": "True",
         "hovertemplate": "Country=%{x}<br>Mean ESG=%{y}<extra></extra>",
         "legendgroup": "United Kingdom",
         "marker": {
          "color": "#FF97FF",
          "pattern": {
           "shape": ""
          }
         },
         "name": "United Kingdom",
         "offsetgroup": "United Kingdom",
         "orientation": "v",
         "showlegend": true,
         "textposition": "auto",
         "type": "bar",
         "x": [
          "United Kingdom"
         ],
         "xaxis": "x",
         "y": [
          20.757024793388428
         ],
         "yaxis": "y"
        },
        {
         "alignmentgroup": "True",
         "hovertemplate": "Country=%{x}<br>Mean ESG=%{y}<extra></extra>",
         "legendgroup": "Denmark",
         "marker": {
          "color": "#FECB52",
          "pattern": {
           "shape": ""
          }
         },
         "name": "Denmark",
         "offsetgroup": "Denmark",
         "orientation": "v",
         "showlegend": true,
         "textposition": "auto",
         "type": "bar",
         "x": [
          "Denmark"
         ],
         "xaxis": "x",
         "y": [
          20.79375
         ],
         "yaxis": "y"
        },
        {
         "alignmentgroup": "True",
         "hovertemplate": "Country=%{x}<br>Mean ESG=%{y}<extra></extra>",
         "legendgroup": "Norway",
         "marker": {
          "color": "#636efa",
          "pattern": {
           "shape": ""
          }
         },
         "name": "Norway",
         "offsetgroup": "Norway",
         "orientation": "v",
         "showlegend": true,
         "textposition": "auto",
         "type": "bar",
         "x": [
          "Norway"
         ],
         "xaxis": "x",
         "y": [
          20.925
         ],
         "yaxis": "y"
        },
        {
         "alignmentgroup": "True",
         "hovertemplate": "Country=%{x}<br>Mean ESG=%{y}<extra></extra>",
         "legendgroup": "Austria",
         "marker": {
          "color": "#EF553B",
          "pattern": {
           "shape": ""
          }
         },
         "name": "Austria",
         "offsetgroup": "Austria",
         "orientation": "v",
         "showlegend": true,
         "textposition": "auto",
         "type": "bar",
         "x": [
          "Austria"
         ],
         "xaxis": "x",
         "y": [
          20.933333333333334
         ],
         "yaxis": "y"
        },
        {
         "alignmentgroup": "True",
         "hovertemplate": "Country=%{x}<br>Mean ESG=%{y}<extra></extra>",
         "legendgroup": "Singapore",
         "marker": {
          "color": "#00cc96",
          "pattern": {
           "shape": ""
          }
         },
         "name": "Singapore",
         "offsetgroup": "Singapore",
         "orientation": "v",
         "showlegend": true,
         "textposition": "auto",
         "type": "bar",
         "x": [
          "Singapore"
         ],
         "xaxis": "x",
         "y": [
          22.15945945945946
         ],
         "yaxis": "y"
        },
        {
         "alignmentgroup": "True",
         "hovertemplate": "Country=%{x}<br>Mean ESG=%{y}<extra></extra>",
         "legendgroup": "New Zealand",
         "marker": {
          "color": "#ab63fa",
          "pattern": {
           "shape": ""
          }
         },
         "name": "New Zealand",
         "offsetgroup": "New Zealand",
         "orientation": "v",
         "showlegend": true,
         "textposition": "auto",
         "type": "bar",
         "x": [
          "New Zealand"
         ],
         "xaxis": "x",
         "y": [
          22.192857142857143
         ],
         "yaxis": "y"
        },
        {
         "alignmentgroup": "True",
         "hovertemplate": "Country=%{x}<br>Mean ESG=%{y}<extra></extra>",
         "legendgroup": "Ireland",
         "marker": {
          "color": "#FFA15A",
          "pattern": {
           "shape": ""
          }
         },
         "name": "Ireland",
         "offsetgroup": "Ireland",
         "orientation": "v",
         "showlegend": true,
         "textposition": "auto",
         "type": "bar",
         "x": [
          "Ireland"
         ],
         "xaxis": "x",
         "y": [
          22.23157894736842
         ],
         "yaxis": "y"
        }
       ],
       "layout": {
        "barmode": "relative",
        "legend": {
         "title": {
          "text": "Country"
         },
         "tracegroupgap": 0
        },
        "showlegend": false,
        "template": {
         "data": {
          "bar": [
           {
            "error_x": {
             "color": "#2a3f5f"
            },
            "error_y": {
             "color": "#2a3f5f"
            },
            "marker": {
             "line": {
              "color": "#E5ECF6",
              "width": 0.5
             },
             "pattern": {
              "fillmode": "overlay",
              "size": 10,
              "solidity": 0.2
             }
            },
            "type": "bar"
           }
          ],
          "barpolar": [
           {
            "marker": {
             "line": {
              "color": "#E5ECF6",
              "width": 0.5
             },
             "pattern": {
              "fillmode": "overlay",
              "size": 10,
              "solidity": 0.2
             }
            },
            "type": "barpolar"
           }
          ],
          "carpet": [
           {
            "aaxis": {
             "endlinecolor": "#2a3f5f",
             "gridcolor": "white",
             "linecolor": "white",
             "minorgridcolor": "white",
             "startlinecolor": "#2a3f5f"
            },
            "baxis": {
             "endlinecolor": "#2a3f5f",
             "gridcolor": "white",
             "linecolor": "white",
             "minorgridcolor": "white",
             "startlinecolor": "#2a3f5f"
            },
            "type": "carpet"
           }
          ],
          "choropleth": [
           {
            "colorbar": {
             "outlinewidth": 0,
             "ticks": ""
            },
            "type": "choropleth"
           }
          ],
          "contour": [
           {
            "colorbar": {
             "outlinewidth": 0,
             "ticks": ""
            },
            "colorscale": [
             [
              0,
              "#0d0887"
             ],
             [
              0.1111111111111111,
              "#46039f"
             ],
             [
              0.2222222222222222,
              "#7201a8"
             ],
             [
              0.3333333333333333,
              "#9c179e"
             ],
             [
              0.4444444444444444,
              "#bd3786"
             ],
             [
              0.5555555555555556,
              "#d8576b"
             ],
             [
              0.6666666666666666,
              "#ed7953"
             ],
             [
              0.7777777777777778,
              "#fb9f3a"
             ],
             [
              0.8888888888888888,
              "#fdca26"
             ],
             [
              1,
              "#f0f921"
             ]
            ],
            "type": "contour"
           }
          ],
          "contourcarpet": [
           {
            "colorbar": {
             "outlinewidth": 0,
             "ticks": ""
            },
            "type": "contourcarpet"
           }
          ],
          "heatmap": [
           {
            "colorbar": {
             "outlinewidth": 0,
             "ticks": ""
            },
            "colorscale": [
             [
              0,
              "#0d0887"
             ],
             [
              0.1111111111111111,
              "#46039f"
             ],
             [
              0.2222222222222222,
              "#7201a8"
             ],
             [
              0.3333333333333333,
              "#9c179e"
             ],
             [
              0.4444444444444444,
              "#bd3786"
             ],
             [
              0.5555555555555556,
              "#d8576b"
             ],
             [
              0.6666666666666666,
              "#ed7953"
             ],
             [
              0.7777777777777778,
              "#fb9f3a"
             ],
             [
              0.8888888888888888,
              "#fdca26"
             ],
             [
              1,
              "#f0f921"
             ]
            ],
            "type": "heatmap"
           }
          ],
          "heatmapgl": [
           {
            "colorbar": {
             "outlinewidth": 0,
             "ticks": ""
            },
            "colorscale": [
             [
              0,
              "#0d0887"
             ],
             [
              0.1111111111111111,
              "#46039f"
             ],
             [
              0.2222222222222222,
              "#7201a8"
             ],
             [
              0.3333333333333333,
              "#9c179e"
             ],
             [
              0.4444444444444444,
              "#bd3786"
             ],
             [
              0.5555555555555556,
              "#d8576b"
             ],
             [
              0.6666666666666666,
              "#ed7953"
             ],
             [
              0.7777777777777778,
              "#fb9f3a"
             ],
             [
              0.8888888888888888,
              "#fdca26"
             ],
             [
              1,
              "#f0f921"
             ]
            ],
            "type": "heatmapgl"
           }
          ],
          "histogram": [
           {
            "marker": {
             "pattern": {
              "fillmode": "overlay",
              "size": 10,
              "solidity": 0.2
             }
            },
            "type": "histogram"
           }
          ],
          "histogram2d": [
           {
            "colorbar": {
             "outlinewidth": 0,
             "ticks": ""
            },
            "colorscale": [
             [
              0,
              "#0d0887"
             ],
             [
              0.1111111111111111,
              "#46039f"
             ],
             [
              0.2222222222222222,
              "#7201a8"
             ],
             [
              0.3333333333333333,
              "#9c179e"
             ],
             [
              0.4444444444444444,
              "#bd3786"
             ],
             [
              0.5555555555555556,
              "#d8576b"
             ],
             [
              0.6666666666666666,
              "#ed7953"
             ],
             [
              0.7777777777777778,
              "#fb9f3a"
             ],
             [
              0.8888888888888888,
              "#fdca26"
             ],
             [
              1,
              "#f0f921"
             ]
            ],
            "type": "histogram2d"
           }
          ],
          "histogram2dcontour": [
           {
            "colorbar": {
             "outlinewidth": 0,
             "ticks": ""
            },
            "colorscale": [
             [
              0,
              "#0d0887"
             ],
             [
              0.1111111111111111,
              "#46039f"
             ],
             [
              0.2222222222222222,
              "#7201a8"
             ],
             [
              0.3333333333333333,
              "#9c179e"
             ],
             [
              0.4444444444444444,
              "#bd3786"
             ],
             [
              0.5555555555555556,
              "#d8576b"
             ],
             [
              0.6666666666666666,
              "#ed7953"
             ],
             [
              0.7777777777777778,
              "#fb9f3a"
             ],
             [
              0.8888888888888888,
              "#fdca26"
             ],
             [
              1,
              "#f0f921"
             ]
            ],
            "type": "histogram2dcontour"
           }
          ],
          "mesh3d": [
           {
            "colorbar": {
             "outlinewidth": 0,
             "ticks": ""
            },
            "type": "mesh3d"
           }
          ],
          "parcoords": [
           {
            "line": {
             "colorbar": {
              "outlinewidth": 0,
              "ticks": ""
             }
            },
            "type": "parcoords"
           }
          ],
          "pie": [
           {
            "automargin": true,
            "type": "pie"
           }
          ],
          "scatter": [
           {
            "fillpattern": {
             "fillmode": "overlay",
             "size": 10,
             "solidity": 0.2
            },
            "type": "scatter"
           }
          ],
          "scatter3d": [
           {
            "line": {
             "colorbar": {
              "outlinewidth": 0,
              "ticks": ""
             }
            },
            "marker": {
             "colorbar": {
              "outlinewidth": 0,
              "ticks": ""
             }
            },
            "type": "scatter3d"
           }
          ],
          "scattercarpet": [
           {
            "marker": {
             "colorbar": {
              "outlinewidth": 0,
              "ticks": ""
             }
            },
            "type": "scattercarpet"
           }
          ],
          "scattergeo": [
           {
            "marker": {
             "colorbar": {
              "outlinewidth": 0,
              "ticks": ""
             }
            },
            "type": "scattergeo"
           }
          ],
          "scattergl": [
           {
            "marker": {
             "colorbar": {
              "outlinewidth": 0,
              "ticks": ""
             }
            },
            "type": "scattergl"
           }
          ],
          "scattermapbox": [
           {
            "marker": {
             "colorbar": {
              "outlinewidth": 0,
              "ticks": ""
             }
            },
            "type": "scattermapbox"
           }
          ],
          "scatterpolar": [
           {
            "marker": {
             "colorbar": {
              "outlinewidth": 0,
              "ticks": ""
             }
            },
            "type": "scatterpolar"
           }
          ],
          "scatterpolargl": [
           {
            "marker": {
             "colorbar": {
              "outlinewidth": 0,
              "ticks": ""
             }
            },
            "type": "scatterpolargl"
           }
          ],
          "scatterternary": [
           {
            "marker": {
             "colorbar": {
              "outlinewidth": 0,
              "ticks": ""
             }
            },
            "type": "scatterternary"
           }
          ],
          "surface": [
           {
            "colorbar": {
             "outlinewidth": 0,
             "ticks": ""
            },
            "colorscale": [
             [
              0,
              "#0d0887"
             ],
             [
              0.1111111111111111,
              "#46039f"
             ],
             [
              0.2222222222222222,
              "#7201a8"
             ],
             [
              0.3333333333333333,
              "#9c179e"
             ],
             [
              0.4444444444444444,
              "#bd3786"
             ],
             [
              0.5555555555555556,
              "#d8576b"
             ],
             [
              0.6666666666666666,
              "#ed7953"
             ],
             [
              0.7777777777777778,
              "#fb9f3a"
             ],
             [
              0.8888888888888888,
              "#fdca26"
             ],
             [
              1,
              "#f0f921"
             ]
            ],
            "type": "surface"
           }
          ],
          "table": [
           {
            "cells": {
             "fill": {
              "color": "#EBF0F8"
             },
             "line": {
              "color": "white"
             }
            },
            "header": {
             "fill": {
              "color": "#C8D4E3"
             },
             "line": {
              "color": "white"
             }
            },
            "type": "table"
           }
          ]
         },
         "layout": {
          "annotationdefaults": {
           "arrowcolor": "#2a3f5f",
           "arrowhead": 0,
           "arrowwidth": 1
          },
          "autotypenumbers": "strict",
          "coloraxis": {
           "colorbar": {
            "outlinewidth": 0,
            "ticks": ""
           }
          },
          "colorscale": {
           "diverging": [
            [
             0,
             "#8e0152"
            ],
            [
             0.1,
             "#c51b7d"
            ],
            [
             0.2,
             "#de77ae"
            ],
            [
             0.3,
             "#f1b6da"
            ],
            [
             0.4,
             "#fde0ef"
            ],
            [
             0.5,
             "#f7f7f7"
            ],
            [
             0.6,
             "#e6f5d0"
            ],
            [
             0.7,
             "#b8e186"
            ],
            [
             0.8,
             "#7fbc41"
            ],
            [
             0.9,
             "#4d9221"
            ],
            [
             1,
             "#276419"
            ]
           ],
           "sequential": [
            [
             0,
             "#0d0887"
            ],
            [
             0.1111111111111111,
             "#46039f"
            ],
            [
             0.2222222222222222,
             "#7201a8"
            ],
            [
             0.3333333333333333,
             "#9c179e"
            ],
            [
             0.4444444444444444,
             "#bd3786"
            ],
            [
             0.5555555555555556,
             "#d8576b"
            ],
            [
             0.6666666666666666,
             "#ed7953"
            ],
            [
             0.7777777777777778,
             "#fb9f3a"
            ],
            [
             0.8888888888888888,
             "#fdca26"
            ],
            [
             1,
             "#f0f921"
            ]
           ],
           "sequentialminus": [
            [
             0,
             "#0d0887"
            ],
            [
             0.1111111111111111,
             "#46039f"
            ],
            [
             0.2222222222222222,
             "#7201a8"
            ],
            [
             0.3333333333333333,
             "#9c179e"
            ],
            [
             0.4444444444444444,
             "#bd3786"
            ],
            [
             0.5555555555555556,
             "#d8576b"
            ],
            [
             0.6666666666666666,
             "#ed7953"
            ],
            [
             0.7777777777777778,
             "#fb9f3a"
            ],
            [
             0.8888888888888888,
             "#fdca26"
            ],
            [
             1,
             "#f0f921"
            ]
           ]
          },
          "colorway": [
           "#636efa",
           "#EF553B",
           "#00cc96",
           "#ab63fa",
           "#FFA15A",
           "#19d3f3",
           "#FF6692",
           "#B6E880",
           "#FF97FF",
           "#FECB52"
          ],
          "font": {
           "color": "#2a3f5f"
          },
          "geo": {
           "bgcolor": "white",
           "lakecolor": "white",
           "landcolor": "#E5ECF6",
           "showlakes": true,
           "showland": true,
           "subunitcolor": "white"
          },
          "hoverlabel": {
           "align": "left"
          },
          "hovermode": "closest",
          "mapbox": {
           "style": "light"
          },
          "paper_bgcolor": "white",
          "plot_bgcolor": "#E5ECF6",
          "polar": {
           "angularaxis": {
            "gridcolor": "white",
            "linecolor": "white",
            "ticks": ""
           },
           "bgcolor": "#E5ECF6",
           "radialaxis": {
            "gridcolor": "white",
            "linecolor": "white",
            "ticks": ""
           }
          },
          "scene": {
           "xaxis": {
            "backgroundcolor": "#E5ECF6",
            "gridcolor": "white",
            "gridwidth": 2,
            "linecolor": "white",
            "showbackground": true,
            "ticks": "",
            "zerolinecolor": "white"
           },
           "yaxis": {
            "backgroundcolor": "#E5ECF6",
            "gridcolor": "white",
            "gridwidth": 2,
            "linecolor": "white",
            "showbackground": true,
            "ticks": "",
            "zerolinecolor": "white"
           },
           "zaxis": {
            "backgroundcolor": "#E5ECF6",
            "gridcolor": "white",
            "gridwidth": 2,
            "linecolor": "white",
            "showbackground": true,
            "ticks": "",
            "zerolinecolor": "white"
           }
          },
          "shapedefaults": {
           "line": {
            "color": "#2a3f5f"
           }
          },
          "ternary": {
           "aaxis": {
            "gridcolor": "white",
            "linecolor": "white",
            "ticks": ""
           },
           "baxis": {
            "gridcolor": "white",
            "linecolor": "white",
            "ticks": ""
           },
           "bgcolor": "#E5ECF6",
           "caxis": {
            "gridcolor": "white",
            "linecolor": "white",
            "ticks": ""
           }
          },
          "title": {
           "x": 0.05
          },
          "xaxis": {
           "automargin": true,
           "gridcolor": "white",
           "linecolor": "white",
           "ticks": "",
           "title": {
            "standoff": 15
           },
           "zerolinecolor": "white",
           "zerolinewidth": 2
          },
          "yaxis": {
           "automargin": true,
           "gridcolor": "white",
           "linecolor": "white",
           "ticks": "",
           "title": {
            "standoff": 15
           },
           "zerolinecolor": "white",
           "zerolinewidth": 2
          }
         }
        },
        "title": {
         "text": "Mean ESG Score by Country in 2023"
        },
        "xaxis": {
         "anchor": "y",
         "categoryarray": [
          "Italy",
          "Finland",
          "Spain",
          "Netherlands",
          "Germany",
          "France",
          "Luxembourg",
          "Belgium",
          "United Kingdom",
          "Denmark",
          "Norway",
          "Austria",
          "Singapore",
          "New Zealand",
          "Ireland"
         ],
         "categoryorder": "array",
         "domain": [
          0,
          1
         ],
         "tickangle": -45,
         "title": {
          "text": "Country"
         }
        },
        "yaxis": {
         "anchor": "x",
         "domain": [
          0,
          1
         ],
         "title": {
          "text": "Mean ESG"
         }
        }
       }
      }
     },
     "metadata": {},
     "output_type": "display_data"
    },
    {
     "data": {
      "application/vnd.plotly.v1+json": {
       "config": {
        "plotlyServerURL": "https://plot.ly"
       },
       "data": [
        {
         "alignmentgroup": "True",
         "hovertemplate": "Country=%{x}<br>Mean ESG=%{y}<extra></extra>",
         "legendgroup": "Finland",
         "marker": {
          "color": "#636efa",
          "pattern": {
           "shape": ""
          }
         },
         "name": "Finland",
         "offsetgroup": "Finland",
         "orientation": "v",
         "showlegend": true,
         "textposition": "auto",
         "type": "bar",
         "x": [
          "Finland"
         ],
         "xaxis": "x",
         "y": [
          17.905882352941177
         ],
         "yaxis": "y"
        },
        {
         "alignmentgroup": "True",
         "hovertemplate": "Country=%{x}<br>Mean ESG=%{y}<extra></extra>",
         "legendgroup": "Spain",
         "marker": {
          "color": "#EF553B",
          "pattern": {
           "shape": ""
          }
         },
         "name": "Spain",
         "offsetgroup": "Spain",
         "orientation": "v",
         "showlegend": true,
         "textposition": "auto",
         "type": "bar",
         "x": [
          "Spain"
         ],
         "xaxis": "x",
         "y": [
          18.18064516129032
         ],
         "yaxis": "y"
        },
        {
         "alignmentgroup": "True",
         "hovertemplate": "Country=%{x}<br>Mean ESG=%{y}<extra></extra>",
         "legendgroup": "Italy",
         "marker": {
          "color": "#00cc96",
          "pattern": {
           "shape": ""
          }
         },
         "name": "Italy",
         "offsetgroup": "Italy",
         "orientation": "v",
         "showlegend": true,
         "textposition": "auto",
         "type": "bar",
         "x": [
          "Italy"
         ],
         "xaxis": "x",
         "y": [
          18.830357142857142
         ],
         "yaxis": "y"
        },
        {
         "alignmentgroup": "True",
         "hovertemplate": "Country=%{x}<br>Mean ESG=%{y}<extra></extra>",
         "legendgroup": "Netherlands",
         "marker": {
          "color": "#ab63fa",
          "pattern": {
           "shape": ""
          }
         },
         "name": "Netherlands",
         "offsetgroup": "Netherlands",
         "orientation": "v",
         "showlegend": true,
         "textposition": "auto",
         "type": "bar",
         "x": [
          "Netherlands"
         ],
         "xaxis": "x",
         "y": [
          18.883783783783784
         ],
         "yaxis": "y"
        },
        {
         "alignmentgroup": "True",
         "hovertemplate": "Country=%{x}<br>Mean ESG=%{y}<extra></extra>",
         "legendgroup": "France",
         "marker": {
          "color": "#FFA15A",
          "pattern": {
           "shape": ""
          }
         },
         "name": "France",
         "offsetgroup": "France",
         "orientation": "v",
         "showlegend": true,
         "textposition": "auto",
         "type": "bar",
         "x": [
          "France"
         ],
         "xaxis": "x",
         "y": [
          18.97163120567376
         ],
         "yaxis": "y"
        },
        {
         "alignmentgroup": "True",
         "hovertemplate": "Country=%{x}<br>Mean ESG=%{y}<extra></extra>",
         "legendgroup": "Luxembourg",
         "marker": {
          "color": "#19d3f3",
          "pattern": {
           "shape": ""
          }
         },
         "name": "Luxembourg",
         "offsetgroup": "Luxembourg",
         "orientation": "v",
         "showlegend": true,
         "textposition": "auto",
         "type": "bar",
         "x": [
          "Luxembourg"
         ],
         "xaxis": "x",
         "y": [
          19.12121212121212
         ],
         "yaxis": "y"
        },
        {
         "alignmentgroup": "True",
         "hovertemplate": "Country=%{x}<br>Mean ESG=%{y}<extra></extra>",
         "legendgroup": "Portugal",
         "marker": {
          "color": "#FF6692",
          "pattern": {
           "shape": ""
          }
         },
         "name": "Portugal",
         "offsetgroup": "Portugal",
         "orientation": "v",
         "showlegend": true,
         "textposition": "auto",
         "type": "bar",
         "x": [
          "Portugal"
         ],
         "xaxis": "x",
         "y": [
          19.570588235294117
         ],
         "yaxis": "y"
        },
        {
         "alignmentgroup": "True",
         "hovertemplate": "Country=%{x}<br>Mean ESG=%{y}<extra></extra>",
         "legendgroup": "Austria",
         "marker": {
          "color": "#B6E880",
          "pattern": {
           "shape": ""
          }
         },
         "name": "Austria",
         "offsetgroup": "Austria",
         "orientation": "v",
         "showlegend": true,
         "textposition": "auto",
         "type": "bar",
         "x": [
          "Austria"
         ],
         "xaxis": "x",
         "y": [
          20.274285714285714
         ],
         "yaxis": "y"
        },
        {
         "alignmentgroup": "True",
         "hovertemplate": "Country=%{x}<br>Mean ESG=%{y}<extra></extra>",
         "legendgroup": "Ireland",
         "marker": {
          "color": "#FF97FF",
          "pattern": {
           "shape": ""
          }
         },
         "name": "Ireland",
         "offsetgroup": "Ireland",
         "orientation": "v",
         "showlegend": true,
         "textposition": "auto",
         "type": "bar",
         "x": [
          "Ireland"
         ],
         "xaxis": "x",
         "y": [
          20.539473684210527
         ],
         "yaxis": "y"
        },
        {
         "alignmentgroup": "True",
         "hovertemplate": "Country=%{x}<br>Mean ESG=%{y}<extra></extra>",
         "legendgroup": "United Kingdom",
         "marker": {
          "color": "#FECB52",
          "pattern": {
           "shape": ""
          }
         },
         "name": "United Kingdom",
         "offsetgroup": "United Kingdom",
         "orientation": "v",
         "showlegend": true,
         "textposition": "auto",
         "type": "bar",
         "x": [
          "United Kingdom"
         ],
         "xaxis": "x",
         "y": [
          21.064739884393063
         ],
         "yaxis": "y"
        },
        {
         "alignmentgroup": "True",
         "hovertemplate": "Country=%{x}<br>Mean ESG=%{y}<extra></extra>",
         "legendgroup": "Germany",
         "marker": {
          "color": "#636efa",
          "pattern": {
           "shape": ""
          }
         },
         "name": "Germany",
         "offsetgroup": "Germany",
         "orientation": "v",
         "showlegend": true,
         "textposition": "auto",
         "type": "bar",
         "x": [
          "Germany"
         ],
         "xaxis": "x",
         "y": [
          21.096319018404905
         ],
         "yaxis": "y"
        },
        {
         "alignmentgroup": "True",
         "hovertemplate": "Country=%{x}<br>Mean ESG=%{y}<extra></extra>",
         "legendgroup": "Denmark",
         "marker": {
          "color": "#EF553B",
          "pattern": {
           "shape": ""
          }
         },
         "name": "Denmark",
         "offsetgroup": "Denmark",
         "orientation": "v",
         "showlegend": true,
         "textposition": "auto",
         "type": "bar",
         "x": [
          "Denmark"
         ],
         "xaxis": "x",
         "y": [
          21.3125
         ],
         "yaxis": "y"
        },
        {
         "alignmentgroup": "True",
         "hovertemplate": "Country=%{x}<br>Mean ESG=%{y}<extra></extra>",
         "legendgroup": "Belgium",
         "marker": {
          "color": "#00cc96",
          "pattern": {
           "shape": ""
          }
         },
         "name": "Belgium",
         "offsetgroup": "Belgium",
         "orientation": "v",
         "showlegend": true,
         "textposition": "auto",
         "type": "bar",
         "x": [
          "Belgium"
         ],
         "xaxis": "x",
         "y": [
          21.754347826086956
         ],
         "yaxis": "y"
        },
        {
         "alignmentgroup": "True",
         "hovertemplate": "Country=%{x}<br>Mean ESG=%{y}<extra></extra>",
         "legendgroup": "Switzerland",
         "marker": {
          "color": "#ab63fa",
          "pattern": {
           "shape": ""
          }
         },
         "name": "Switzerland",
         "offsetgroup": "Switzerland",
         "orientation": "v",
         "showlegend": true,
         "textposition": "auto",
         "type": "bar",
         "x": [
          "Switzerland"
         ],
         "xaxis": "x",
         "y": [
          21.97983870967742
         ],
         "yaxis": "y"
        },
        {
         "alignmentgroup": "True",
         "hovertemplate": "Country=%{x}<br>Mean ESG=%{y}<extra></extra>",
         "legendgroup": "Sweden",
         "marker": {
          "color": "#FFA15A",
          "pattern": {
           "shape": ""
          }
         },
         "name": "Sweden",
         "offsetgroup": "Sweden",
         "orientation": "v",
         "showlegend": true,
         "textposition": "auto",
         "type": "bar",
         "x": [
          "Sweden"
         ],
         "xaxis": "x",
         "y": [
          22.096581196581198
         ],
         "yaxis": "y"
        }
       ],
       "layout": {
        "barmode": "relative",
        "legend": {
         "title": {
          "text": "Country"
         },
         "tracegroupgap": 0
        },
        "showlegend": false,
        "template": {
         "data": {
          "bar": [
           {
            "error_x": {
             "color": "#2a3f5f"
            },
            "error_y": {
             "color": "#2a3f5f"
            },
            "marker": {
             "line": {
              "color": "#E5ECF6",
              "width": 0.5
             },
             "pattern": {
              "fillmode": "overlay",
              "size": 10,
              "solidity": 0.2
             }
            },
            "type": "bar"
           }
          ],
          "barpolar": [
           {
            "marker": {
             "line": {
              "color": "#E5ECF6",
              "width": 0.5
             },
             "pattern": {
              "fillmode": "overlay",
              "size": 10,
              "solidity": 0.2
             }
            },
            "type": "barpolar"
           }
          ],
          "carpet": [
           {
            "aaxis": {
             "endlinecolor": "#2a3f5f",
             "gridcolor": "white",
             "linecolor": "white",
             "minorgridcolor": "white",
             "startlinecolor": "#2a3f5f"
            },
            "baxis": {
             "endlinecolor": "#2a3f5f",
             "gridcolor": "white",
             "linecolor": "white",
             "minorgridcolor": "white",
             "startlinecolor": "#2a3f5f"
            },
            "type": "carpet"
           }
          ],
          "choropleth": [
           {
            "colorbar": {
             "outlinewidth": 0,
             "ticks": ""
            },
            "type": "choropleth"
           }
          ],
          "contour": [
           {
            "colorbar": {
             "outlinewidth": 0,
             "ticks": ""
            },
            "colorscale": [
             [
              0,
              "#0d0887"
             ],
             [
              0.1111111111111111,
              "#46039f"
             ],
             [
              0.2222222222222222,
              "#7201a8"
             ],
             [
              0.3333333333333333,
              "#9c179e"
             ],
             [
              0.4444444444444444,
              "#bd3786"
             ],
             [
              0.5555555555555556,
              "#d8576b"
             ],
             [
              0.6666666666666666,
              "#ed7953"
             ],
             [
              0.7777777777777778,
              "#fb9f3a"
             ],
             [
              0.8888888888888888,
              "#fdca26"
             ],
             [
              1,
              "#f0f921"
             ]
            ],
            "type": "contour"
           }
          ],
          "contourcarpet": [
           {
            "colorbar": {
             "outlinewidth": 0,
             "ticks": ""
            },
            "type": "contourcarpet"
           }
          ],
          "heatmap": [
           {
            "colorbar": {
             "outlinewidth": 0,
             "ticks": ""
            },
            "colorscale": [
             [
              0,
              "#0d0887"
             ],
             [
              0.1111111111111111,
              "#46039f"
             ],
             [
              0.2222222222222222,
              "#7201a8"
             ],
             [
              0.3333333333333333,
              "#9c179e"
             ],
             [
              0.4444444444444444,
              "#bd3786"
             ],
             [
              0.5555555555555556,
              "#d8576b"
             ],
             [
              0.6666666666666666,
              "#ed7953"
             ],
             [
              0.7777777777777778,
              "#fb9f3a"
             ],
             [
              0.8888888888888888,
              "#fdca26"
             ],
             [
              1,
              "#f0f921"
             ]
            ],
            "type": "heatmap"
           }
          ],
          "heatmapgl": [
           {
            "colorbar": {
             "outlinewidth": 0,
             "ticks": ""
            },
            "colorscale": [
             [
              0,
              "#0d0887"
             ],
             [
              0.1111111111111111,
              "#46039f"
             ],
             [
              0.2222222222222222,
              "#7201a8"
             ],
             [
              0.3333333333333333,
              "#9c179e"
             ],
             [
              0.4444444444444444,
              "#bd3786"
             ],
             [
              0.5555555555555556,
              "#d8576b"
             ],
             [
              0.6666666666666666,
              "#ed7953"
             ],
             [
              0.7777777777777778,
              "#fb9f3a"
             ],
             [
              0.8888888888888888,
              "#fdca26"
             ],
             [
              1,
              "#f0f921"
             ]
            ],
            "type": "heatmapgl"
           }
          ],
          "histogram": [
           {
            "marker": {
             "pattern": {
              "fillmode": "overlay",
              "size": 10,
              "solidity": 0.2
             }
            },
            "type": "histogram"
           }
          ],
          "histogram2d": [
           {
            "colorbar": {
             "outlinewidth": 0,
             "ticks": ""
            },
            "colorscale": [
             [
              0,
              "#0d0887"
             ],
             [
              0.1111111111111111,
              "#46039f"
             ],
             [
              0.2222222222222222,
              "#7201a8"
             ],
             [
              0.3333333333333333,
              "#9c179e"
             ],
             [
              0.4444444444444444,
              "#bd3786"
             ],
             [
              0.5555555555555556,
              "#d8576b"
             ],
             [
              0.6666666666666666,
              "#ed7953"
             ],
             [
              0.7777777777777778,
              "#fb9f3a"
             ],
             [
              0.8888888888888888,
              "#fdca26"
             ],
             [
              1,
              "#f0f921"
             ]
            ],
            "type": "histogram2d"
           }
          ],
          "histogram2dcontour": [
           {
            "colorbar": {
             "outlinewidth": 0,
             "ticks": ""
            },
            "colorscale": [
             [
              0,
              "#0d0887"
             ],
             [
              0.1111111111111111,
              "#46039f"
             ],
             [
              0.2222222222222222,
              "#7201a8"
             ],
             [
              0.3333333333333333,
              "#9c179e"
             ],
             [
              0.4444444444444444,
              "#bd3786"
             ],
             [
              0.5555555555555556,
              "#d8576b"
             ],
             [
              0.6666666666666666,
              "#ed7953"
             ],
             [
              0.7777777777777778,
              "#fb9f3a"
             ],
             [
              0.8888888888888888,
              "#fdca26"
             ],
             [
              1,
              "#f0f921"
             ]
            ],
            "type": "histogram2dcontour"
           }
          ],
          "mesh3d": [
           {
            "colorbar": {
             "outlinewidth": 0,
             "ticks": ""
            },
            "type": "mesh3d"
           }
          ],
          "parcoords": [
           {
            "line": {
             "colorbar": {
              "outlinewidth": 0,
              "ticks": ""
             }
            },
            "type": "parcoords"
           }
          ],
          "pie": [
           {
            "automargin": true,
            "type": "pie"
           }
          ],
          "scatter": [
           {
            "fillpattern": {
             "fillmode": "overlay",
             "size": 10,
             "solidity": 0.2
            },
            "type": "scatter"
           }
          ],
          "scatter3d": [
           {
            "line": {
             "colorbar": {
              "outlinewidth": 0,
              "ticks": ""
             }
            },
            "marker": {
             "colorbar": {
              "outlinewidth": 0,
              "ticks": ""
             }
            },
            "type": "scatter3d"
           }
          ],
          "scattercarpet": [
           {
            "marker": {
             "colorbar": {
              "outlinewidth": 0,
              "ticks": ""
             }
            },
            "type": "scattercarpet"
           }
          ],
          "scattergeo": [
           {
            "marker": {
             "colorbar": {
              "outlinewidth": 0,
              "ticks": ""
             }
            },
            "type": "scattergeo"
           }
          ],
          "scattergl": [
           {
            "marker": {
             "colorbar": {
              "outlinewidth": 0,
              "ticks": ""
             }
            },
            "type": "scattergl"
           }
          ],
          "scattermapbox": [
           {
            "marker": {
             "colorbar": {
              "outlinewidth": 0,
              "ticks": ""
             }
            },
            "type": "scattermapbox"
           }
          ],
          "scatterpolar": [
           {
            "marker": {
             "colorbar": {
              "outlinewidth": 0,
              "ticks": ""
             }
            },
            "type": "scatterpolar"
           }
          ],
          "scatterpolargl": [
           {
            "marker": {
             "colorbar": {
              "outlinewidth": 0,
              "ticks": ""
             }
            },
            "type": "scatterpolargl"
           }
          ],
          "scatterternary": [
           {
            "marker": {
             "colorbar": {
              "outlinewidth": 0,
              "ticks": ""
             }
            },
            "type": "scatterternary"
           }
          ],
          "surface": [
           {
            "colorbar": {
             "outlinewidth": 0,
             "ticks": ""
            },
            "colorscale": [
             [
              0,
              "#0d0887"
             ],
             [
              0.1111111111111111,
              "#46039f"
             ],
             [
              0.2222222222222222,
              "#7201a8"
             ],
             [
              0.3333333333333333,
              "#9c179e"
             ],
             [
              0.4444444444444444,
              "#bd3786"
             ],
             [
              0.5555555555555556,
              "#d8576b"
             ],
             [
              0.6666666666666666,
              "#ed7953"
             ],
             [
              0.7777777777777778,
              "#fb9f3a"
             ],
             [
              0.8888888888888888,
              "#fdca26"
             ],
             [
              1,
              "#f0f921"
             ]
            ],
            "type": "surface"
           }
          ],
          "table": [
           {
            "cells": {
             "fill": {
              "color": "#EBF0F8"
             },
             "line": {
              "color": "white"
             }
            },
            "header": {
             "fill": {
              "color": "#C8D4E3"
             },
             "line": {
              "color": "white"
             }
            },
            "type": "table"
           }
          ]
         },
         "layout": {
          "annotationdefaults": {
           "arrowcolor": "#2a3f5f",
           "arrowhead": 0,
           "arrowwidth": 1
          },
          "autotypenumbers": "strict",
          "coloraxis": {
           "colorbar": {
            "outlinewidth": 0,
            "ticks": ""
           }
          },
          "colorscale": {
           "diverging": [
            [
             0,
             "#8e0152"
            ],
            [
             0.1,
             "#c51b7d"
            ],
            [
             0.2,
             "#de77ae"
            ],
            [
             0.3,
             "#f1b6da"
            ],
            [
             0.4,
             "#fde0ef"
            ],
            [
             0.5,
             "#f7f7f7"
            ],
            [
             0.6,
             "#e6f5d0"
            ],
            [
             0.7,
             "#b8e186"
            ],
            [
             0.8,
             "#7fbc41"
            ],
            [
             0.9,
             "#4d9221"
            ],
            [
             1,
             "#276419"
            ]
           ],
           "sequential": [
            [
             0,
             "#0d0887"
            ],
            [
             0.1111111111111111,
             "#46039f"
            ],
            [
             0.2222222222222222,
             "#7201a8"
            ],
            [
             0.3333333333333333,
             "#9c179e"
            ],
            [
             0.4444444444444444,
             "#bd3786"
            ],
            [
             0.5555555555555556,
             "#d8576b"
            ],
            [
             0.6666666666666666,
             "#ed7953"
            ],
            [
             0.7777777777777778,
             "#fb9f3a"
            ],
            [
             0.8888888888888888,
             "#fdca26"
            ],
            [
             1,
             "#f0f921"
            ]
           ],
           "sequentialminus": [
            [
             0,
             "#0d0887"
            ],
            [
             0.1111111111111111,
             "#46039f"
            ],
            [
             0.2222222222222222,
             "#7201a8"
            ],
            [
             0.3333333333333333,
             "#9c179e"
            ],
            [
             0.4444444444444444,
             "#bd3786"
            ],
            [
             0.5555555555555556,
             "#d8576b"
            ],
            [
             0.6666666666666666,
             "#ed7953"
            ],
            [
             0.7777777777777778,
             "#fb9f3a"
            ],
            [
             0.8888888888888888,
             "#fdca26"
            ],
            [
             1,
             "#f0f921"
            ]
           ]
          },
          "colorway": [
           "#636efa",
           "#EF553B",
           "#00cc96",
           "#ab63fa",
           "#FFA15A",
           "#19d3f3",
           "#FF6692",
           "#B6E880",
           "#FF97FF",
           "#FECB52"
          ],
          "font": {
           "color": "#2a3f5f"
          },
          "geo": {
           "bgcolor": "white",
           "lakecolor": "white",
           "landcolor": "#E5ECF6",
           "showlakes": true,
           "showland": true,
           "subunitcolor": "white"
          },
          "hoverlabel": {
           "align": "left"
          },
          "hovermode": "closest",
          "mapbox": {
           "style": "light"
          },
          "paper_bgcolor": "white",
          "plot_bgcolor": "#E5ECF6",
          "polar": {
           "angularaxis": {
            "gridcolor": "white",
            "linecolor": "white",
            "ticks": ""
           },
           "bgcolor": "#E5ECF6",
           "radialaxis": {
            "gridcolor": "white",
            "linecolor": "white",
            "ticks": ""
           }
          },
          "scene": {
           "xaxis": {
            "backgroundcolor": "#E5ECF6",
            "gridcolor": "white",
            "gridwidth": 2,
            "linecolor": "white",
            "showbackground": true,
            "ticks": "",
            "zerolinecolor": "white"
           },
           "yaxis": {
            "backgroundcolor": "#E5ECF6",
            "gridcolor": "white",
            "gridwidth": 2,
            "linecolor": "white",
            "showbackground": true,
            "ticks": "",
            "zerolinecolor": "white"
           },
           "zaxis": {
            "backgroundcolor": "#E5ECF6",
            "gridcolor": "white",
            "gridwidth": 2,
            "linecolor": "white",
            "showbackground": true,
            "ticks": "",
            "zerolinecolor": "white"
           }
          },
          "shapedefaults": {
           "line": {
            "color": "#2a3f5f"
           }
          },
          "ternary": {
           "aaxis": {
            "gridcolor": "white",
            "linecolor": "white",
            "ticks": ""
           },
           "baxis": {
            "gridcolor": "white",
            "linecolor": "white",
            "ticks": ""
           },
           "bgcolor": "#E5ECF6",
           "caxis": {
            "gridcolor": "white",
            "linecolor": "white",
            "ticks": ""
           }
          },
          "title": {
           "x": 0.05
          },
          "xaxis": {
           "automargin": true,
           "gridcolor": "white",
           "linecolor": "white",
           "ticks": "",
           "title": {
            "standoff": 15
           },
           "zerolinecolor": "white",
           "zerolinewidth": 2
          },
          "yaxis": {
           "automargin": true,
           "gridcolor": "white",
           "linecolor": "white",
           "ticks": "",
           "title": {
            "standoff": 15
           },
           "zerolinecolor": "white",
           "zerolinewidth": 2
          }
         }
        },
        "title": {
         "text": "Mean ESG Score by Country in 2024"
        },
        "xaxis": {
         "anchor": "y",
         "categoryarray": [
          "Finland",
          "Spain",
          "Italy",
          "Netherlands",
          "France",
          "Luxembourg",
          "Portugal",
          "Austria",
          "Ireland",
          "United Kingdom",
          "Germany",
          "Denmark",
          "Belgium",
          "Switzerland",
          "Sweden"
         ],
         "categoryorder": "array",
         "domain": [
          0,
          1
         ],
         "tickangle": -45,
         "title": {
          "text": "Country"
         }
        },
        "yaxis": {
         "anchor": "x",
         "domain": [
          0,
          1
         ],
         "title": {
          "text": "Mean ESG"
         }
        }
       }
      }
     },
     "metadata": {},
     "output_type": "display_data"
    }
   ],
   "source": [
    "year = [\"2023\", \"2024\"]\n",
    "for i in range(len(filtered_list_23_24)):\n",
    "    countries = filtered_list_23_24[i].groupby('country')['grade'].mean().reset_index()\n",
    "    countries.columns = ['Country', 'Mean ESG']\n",
    "    top_countries = countries.sort_values(by='Mean ESG', ascending=True).head(15)\n",
    "    fig = px.bar(top_countries, x='Country', y='Mean ESG', title=f\"Mean ESG Score by Country in {year[i]}\", color='Country')\n",
    "    fig.update_layout(xaxis_tickangle=-45,\n",
    "                    showlegend=False)\n",
    "    fig.show()"
   ]
  },
  {
   "cell_type": "code",
   "execution_count": 36,
   "metadata": {},
   "outputs": [
    {
     "data": {
      "image/png": "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",
      "text/plain": [
       "<Figure size 1500x1000 with 2 Axes>"
      ]
     },
     "metadata": {},
     "output_type": "display_data"
    },
    {
     "data": {
      "image/png": "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",
      "text/plain": [
       "<Figure size 1500x1000 with 2 Axes>"
      ]
     },
     "metadata": {},
     "output_type": "display_data"
    }
   ],
   "source": [
    "import geopandas as gpd\n",
    "import matplotlib.pyplot as plt\n",
    "import pandas as pd\n",
    "import requests\n",
    "import tempfile\n",
    "import os\n",
    "\n",
    "def create_esg_maps(df_2023_filtered, df_2024_filtered):\n",
    "    # Télécharger les données géographiques depuis Natural Earth\n",
    "    url = \"https://naciscdn.org/naturalearth/110m/cultural/ne_110m_admin_0_countries.zip\"\n",
    "    \n",
    "    # Créer un dossier temporaire pour stocker le fichier\n",
    "    temp_dir = tempfile.mkdtemp()\n",
    "    temp_file = os.path.join(temp_dir, \"world.zip\")\n",
    "    \n",
    "    # Télécharger le fichier\n",
    "    response = requests.get(url)\n",
    "    with open(temp_file, \"wb\") as f:\n",
    "        f.write(response.content)\n",
    "    \n",
    "    # Lire les données géographiques\n",
    "    world = gpd.read_file(f\"zip://{temp_file}\")\n",
    "    \n",
    "    # Calculer la note moyenne ESG par pays\n",
    "    df_2023_avg = df_2023_filtered.groupby('country')['grade'].mean().reset_index()\n",
    "    df_2024_avg = df_2024_filtered.groupby('country')['grade'].mean().reset_index()\n",
    "    \n",
    "    # Fusionner avec les données géographiques\n",
    "    # Utiliser 'ADMIN' ou 'NAME' comme clé de fusion (selon le format des données)\n",
    "    world_2023 = world.merge(df_2023_avg, how='left', left_on='ADMIN', right_on='country')\n",
    "    world_2024 = world.merge(df_2024_avg, how='left', left_on='ADMIN', right_on='country')\n",
    "    \n",
    "    # Créer les cartes\n",
    "    def plot_map(data, year):\n",
    "        fig, ax = plt.subplots(1, 1, figsize=(15, 10))\n",
    "        \n",
    "        # Définir une projection plus appropriée\n",
    "        data = data.to_crs('+proj=robin')\n",
    "        \n",
    "        # Tracer la carte\n",
    "        data.boundary.plot(ax=ax, linewidth=0.5, color='black')\n",
    "        data.plot(column='grade', \n",
    "                 ax=ax, \n",
    "                 legend=True,\n",
    "                 legend_kwds={'label': 'Score ESG'},\n",
    "                 cmap='RdYlGn',  # Red-Yellow-Green colormap\n",
    "                 missing_kwds={\"color\": \"lightgrey\"})\n",
    "        \n",
    "        # Personnalisation\n",
    "        ax.axis('off')\n",
    "        plt.title(f'Carte mondiale des scores ESG moyens ({year})')\n",
    "        \n",
    "        return fig\n",
    "    \n",
    "    # Générer les deux cartes\n",
    "    fig_2023 = plot_map(world_2023, 2023)\n",
    "    fig_2024 = plot_map(world_2024, 2024)\n",
    "    \n",
    "    # Nettoyer les fichiers temporaires\n",
    "    os.remove(temp_file)\n",
    "    os.rmdir(temp_dir)\n",
    "    \n",
    "    return fig_2023, fig_2024\n",
    "\n",
    "# Exemple d'utilisation :\n",
    "fig_2023, fig_2024 = create_esg_maps(df_2023_filtered, df_2024_filtered)\n",
    "plt.show()"
   ]
  },
  {
   "cell_type": "code",
   "execution_count": 39,
   "metadata": {},
   "outputs": [
    {
     "data": {
      "application/vnd.plotly.v1+json": {
       "config": {
        "plotlyServerURL": "https://plot.ly"
       },
       "data": [
        {
         "alignmentgroup": "True",
         "hovertemplate": "industry=%{x}<br>Mean ESG=%{y}<extra></extra>",
         "legendgroup": "Transportation Infrastructure",
         "marker": {
          "color": "#636efa",
          "pattern": {
           "shape": ""
          }
         },
         "name": "Transportation Infrastructure",
         "offsetgroup": "Transportation Infrastructure",
         "orientation": "v",
         "showlegend": true,
         "textposition": "auto",
         "type": "bar",
         "x": [
          "Transportation Infrastructure"
         ],
         "xaxis": "x",
         "y": [
          16.173333333333332
         ],
         "yaxis": "y"
        },
        {
         "alignmentgroup": "True",
         "hovertemplate": "industry=%{x}<br>Mean ESG=%{y}<extra></extra>",
         "legendgroup": "Media",
         "marker": {
          "color": "#EF553B",
          "pattern": {
           "shape": ""
          }
         },
         "name": "Media",
         "offsetgroup": "Media",
         "orientation": "v",
         "showlegend": true,
         "textposition": "auto",
         "type": "bar",
         "x": [
          "Media"
         ],
         "xaxis": "x",
         "y": [
          17.005102040816325
         ],
         "yaxis": "y"
        },
        {
         "alignmentgroup": "True",
         "hovertemplate": "industry=%{x}<br>Mean ESG=%{y}<extra></extra>",
         "legendgroup": "Real Estate",
         "marker": {
          "color": "#00cc96",
          "pattern": {
           "shape": ""
          }
         },
         "name": "Real Estate",
         "offsetgroup": "Real Estate",
         "orientation": "v",
         "showlegend": true,
         "textposition": "auto",
         "type": "bar",
         "x": [
          "Real Estate"
         ],
         "xaxis": "x",
         "y": [
          17.83677811550152
         ],
         "yaxis": "y"
        },
        {
         "alignmentgroup": "True",
         "hovertemplate": "industry=%{x}<br>Mean ESG=%{y}<extra></extra>",
         "legendgroup": "Textiles & Apparel",
         "marker": {
          "color": "#ab63fa",
          "pattern": {
           "shape": ""
          }
         },
         "name": "Textiles & Apparel",
         "offsetgroup": "Textiles & Apparel",
         "orientation": "v",
         "showlegend": true,
         "textposition": "auto",
         "type": "bar",
         "x": [
          "Textiles & Apparel"
         ],
         "xaxis": "x",
         "y": [
          18.15
         ],
         "yaxis": "y"
        },
        {
         "alignmentgroup": "True",
         "hovertemplate": "industry=%{x}<br>Mean ESG=%{y}<extra></extra>",
         "legendgroup": "Technology Hardware",
         "marker": {
          "color": "#FFA15A",
          "pattern": {
           "shape": ""
          }
         },
         "name": "Technology Hardware",
         "offsetgroup": "Technology Hardware",
         "orientation": "v",
         "showlegend": true,
         "textposition": "auto",
         "type": "bar",
         "x": [
          "Technology Hardware"
         ],
         "xaxis": "x",
         "y": [
          18.61868131868132
         ],
         "yaxis": "y"
        },
        {
         "alignmentgroup": "True",
         "hovertemplate": "industry=%{x}<br>Mean ESG=%{y}<extra></extra>",
         "legendgroup": "Commercial Services",
         "marker": {
          "color": "#19d3f3",
          "pattern": {
           "shape": ""
          }
         },
         "name": "Commercial Services",
         "offsetgroup": "Commercial Services",
         "orientation": "v",
         "showlegend": true,
         "textposition": "auto",
         "type": "bar",
         "x": [
          "Commercial Services"
         ],
         "xaxis": "x",
         "y": [
          18.63395061728395
         ],
         "yaxis": "y"
        },
        {
         "alignmentgroup": "True",
         "hovertemplate": "industry=%{x}<br>Mean ESG=%{y}<extra></extra>",
         "legendgroup": "Retailing",
         "marker": {
          "color": "#FF6692",
          "pattern": {
           "shape": ""
          }
         },
         "name": "Retailing",
         "offsetgroup": "Retailing",
         "orientation": "v",
         "showlegend": true,
         "textposition": "auto",
         "type": "bar",
         "x": [
          "Retailing"
         ],
         "xaxis": "x",
         "y": [
          19.00161290322581
         ],
         "yaxis": "y"
        },
        {
         "alignmentgroup": "True",
         "hovertemplate": "industry=%{x}<br>Mean ESG=%{y}<extra></extra>",
         "legendgroup": "Homebuilders",
         "marker": {
          "color": "#B6E880",
          "pattern": {
           "shape": ""
          }
         },
         "name": "Homebuilders",
         "offsetgroup": "Homebuilders",
         "orientation": "v",
         "showlegend": true,
         "textposition": "auto",
         "type": "bar",
         "x": [
          "Homebuilders"
         ],
         "xaxis": "x",
         "y": [
          19.26666666666667
         ],
         "yaxis": "y"
        },
        {
         "alignmentgroup": "True",
         "hovertemplate": "industry=%{x}<br>Mean ESG=%{y}<extra></extra>",
         "legendgroup": "Consumer Durables",
         "marker": {
          "color": "#FF97FF",
          "pattern": {
           "shape": ""
          }
         },
         "name": "Consumer Durables",
         "offsetgroup": "Consumer Durables",
         "orientation": "v",
         "showlegend": true,
         "textposition": "auto",
         "type": "bar",
         "x": [
          "Consumer Durables"
         ],
         "xaxis": "x",
         "y": [
          19.532835820895524
         ],
         "yaxis": "y"
        },
        {
         "alignmentgroup": "True",
         "hovertemplate": "industry=%{x}<br>Mean ESG=%{y}<extra></extra>",
         "legendgroup": "Containers & Packaging",
         "marker": {
          "color": "#FECB52",
          "pattern": {
           "shape": ""
          }
         },
         "name": "Containers & Packaging",
         "offsetgroup": "Containers & Packaging",
         "orientation": "v",
         "showlegend": true,
         "textposition": "auto",
         "type": "bar",
         "x": [
          "Containers & Packaging"
         ],
         "xaxis": "x",
         "y": [
          19.59032258064516
         ],
         "yaxis": "y"
        },
        {
         "alignmentgroup": "True",
         "hovertemplate": "industry=%{x}<br>Mean ESG=%{y}<extra></extra>",
         "legendgroup": "Auto Components",
         "marker": {
          "color": "#636efa",
          "pattern": {
           "shape": ""
          }
         },
         "name": "Auto Components",
         "offsetgroup": "Auto Components",
         "orientation": "v",
         "showlegend": true,
         "textposition": "auto",
         "type": "bar",
         "x": [
          "Auto Components"
         ],
         "xaxis": "x",
         "y": [
          21.057692307692307
         ],
         "yaxis": "y"
        },
        {
         "alignmentgroup": "True",
         "hovertemplate": "industry=%{x}<br>Mean ESG=%{y}<extra></extra>",
         "legendgroup": "Paper & Forestry",
         "marker": {
          "color": "#EF553B",
          "pattern": {
           "shape": ""
          }
         },
         "name": "Paper & Forestry",
         "offsetgroup": "Paper & Forestry",
         "orientation": "v",
         "showlegend": true,
         "textposition": "auto",
         "type": "bar",
         "x": [
          "Paper & Forestry"
         ],
         "xaxis": "x",
         "y": [
          21.964285714285715
         ],
         "yaxis": "y"
        },
        {
         "alignmentgroup": "True",
         "hovertemplate": "industry=%{x}<br>Mean ESG=%{y}<extra></extra>",
         "legendgroup": "Software & Services",
         "marker": {
          "color": "#00cc96",
          "pattern": {
           "shape": ""
          }
         },
         "name": "Software & Services",
         "offsetgroup": "Software & Services",
         "orientation": "v",
         "showlegend": true,
         "textposition": "auto",
         "type": "bar",
         "x": [
          "Software & Services"
         ],
         "xaxis": "x",
         "y": [
          22.266596194503173
         ],
         "yaxis": "y"
        },
        {
         "alignmentgroup": "True",
         "hovertemplate": "industry=%{x}<br>Mean ESG=%{y}<extra></extra>",
         "legendgroup": "Food Retailers",
         "marker": {
          "color": "#ab63fa",
          "pattern": {
           "shape": ""
          }
         },
         "name": "Food Retailers",
         "offsetgroup": "Food Retailers",
         "orientation": "v",
         "showlegend": true,
         "textposition": "auto",
         "type": "bar",
         "x": [
          "Food Retailers"
         ],
         "xaxis": "x",
         "y": [
          22.61186440677966
         ],
         "yaxis": "y"
        },
        {
         "alignmentgroup": "True",
         "hovertemplate": "industry=%{x}<br>Mean ESG=%{y}<extra></extra>",
         "legendgroup": "Transportation",
         "marker": {
          "color": "#FFA15A",
          "pattern": {
           "shape": ""
          }
         },
         "name": "Transportation",
         "offsetgroup": "Transportation",
         "orientation": "v",
         "showlegend": true,
         "textposition": "auto",
         "type": "bar",
         "x": [
          "Transportation"
         ],
         "xaxis": "x",
         "y": [
          23.932163742690058
         ],
         "yaxis": "y"
        }
       ],
       "layout": {
        "barmode": "relative",
        "legend": {
         "title": {
          "text": "industry"
         },
         "tracegroupgap": 0
        },
        "showlegend": false,
        "template": {
         "data": {
          "bar": [
           {
            "error_x": {
             "color": "#2a3f5f"
            },
            "error_y": {
             "color": "#2a3f5f"
            },
            "marker": {
             "line": {
              "color": "#E5ECF6",
              "width": 0.5
             },
             "pattern": {
              "fillmode": "overlay",
              "size": 10,
              "solidity": 0.2
             }
            },
            "type": "bar"
           }
          ],
          "barpolar": [
           {
            "marker": {
             "line": {
              "color": "#E5ECF6",
              "width": 0.5
             },
             "pattern": {
              "fillmode": "overlay",
              "size": 10,
              "solidity": 0.2
             }
            },
            "type": "barpolar"
           }
          ],
          "carpet": [
           {
            "aaxis": {
             "endlinecolor": "#2a3f5f",
             "gridcolor": "white",
             "linecolor": "white",
             "minorgridcolor": "white",
             "startlinecolor": "#2a3f5f"
            },
            "baxis": {
             "endlinecolor": "#2a3f5f",
             "gridcolor": "white",
             "linecolor": "white",
             "minorgridcolor": "white",
             "startlinecolor": "#2a3f5f"
            },
            "type": "carpet"
           }
          ],
          "choropleth": [
           {
            "colorbar": {
             "outlinewidth": 0,
             "ticks": ""
            },
            "type": "choropleth"
           }
          ],
          "contour": [
           {
            "colorbar": {
             "outlinewidth": 0,
             "ticks": ""
            },
            "colorscale": [
             [
              0,
              "#0d0887"
             ],
             [
              0.1111111111111111,
              "#46039f"
             ],
             [
              0.2222222222222222,
              "#7201a8"
             ],
             [
              0.3333333333333333,
              "#9c179e"
             ],
             [
              0.4444444444444444,
              "#bd3786"
             ],
             [
              0.5555555555555556,
              "#d8576b"
             ],
             [
              0.6666666666666666,
              "#ed7953"
             ],
             [
              0.7777777777777778,
              "#fb9f3a"
             ],
             [
              0.8888888888888888,
              "#fdca26"
             ],
             [
              1,
              "#f0f921"
             ]
            ],
            "type": "contour"
           }
          ],
          "contourcarpet": [
           {
            "colorbar": {
             "outlinewidth": 0,
             "ticks": ""
            },
            "type": "contourcarpet"
           }
          ],
          "heatmap": [
           {
            "colorbar": {
             "outlinewidth": 0,
             "ticks": ""
            },
            "colorscale": [
             [
              0,
              "#0d0887"
             ],
             [
              0.1111111111111111,
              "#46039f"
             ],
             [
              0.2222222222222222,
              "#7201a8"
             ],
             [
              0.3333333333333333,
              "#9c179e"
             ],
             [
              0.4444444444444444,
              "#bd3786"
             ],
             [
              0.5555555555555556,
              "#d8576b"
             ],
             [
              0.6666666666666666,
              "#ed7953"
             ],
             [
              0.7777777777777778,
              "#fb9f3a"
             ],
             [
              0.8888888888888888,
              "#fdca26"
             ],
             [
              1,
              "#f0f921"
             ]
            ],
            "type": "heatmap"
           }
          ],
          "heatmapgl": [
           {
            "colorbar": {
             "outlinewidth": 0,
             "ticks": ""
            },
            "colorscale": [
             [
              0,
              "#0d0887"
             ],
             [
              0.1111111111111111,
              "#46039f"
             ],
             [
              0.2222222222222222,
              "#7201a8"
             ],
             [
              0.3333333333333333,
              "#9c179e"
             ],
             [
              0.4444444444444444,
              "#bd3786"
             ],
             [
              0.5555555555555556,
              "#d8576b"
             ],
             [
              0.6666666666666666,
              "#ed7953"
             ],
             [
              0.7777777777777778,
              "#fb9f3a"
             ],
             [
              0.8888888888888888,
              "#fdca26"
             ],
             [
              1,
              "#f0f921"
             ]
            ],
            "type": "heatmapgl"
           }
          ],
          "histogram": [
           {
            "marker": {
             "pattern": {
              "fillmode": "overlay",
              "size": 10,
              "solidity": 0.2
             }
            },
            "type": "histogram"
           }
          ],
          "histogram2d": [
           {
            "colorbar": {
             "outlinewidth": 0,
             "ticks": ""
            },
            "colorscale": [
             [
              0,
              "#0d0887"
             ],
             [
              0.1111111111111111,
              "#46039f"
             ],
             [
              0.2222222222222222,
              "#7201a8"
             ],
             [
              0.3333333333333333,
              "#9c179e"
             ],
             [
              0.4444444444444444,
              "#bd3786"
             ],
             [
              0.5555555555555556,
              "#d8576b"
             ],
             [
              0.6666666666666666,
              "#ed7953"
             ],
             [
              0.7777777777777778,
              "#fb9f3a"
             ],
             [
              0.8888888888888888,
              "#fdca26"
             ],
             [
              1,
              "#f0f921"
             ]
            ],
            "type": "histogram2d"
           }
          ],
          "histogram2dcontour": [
           {
            "colorbar": {
             "outlinewidth": 0,
             "ticks": ""
            },
            "colorscale": [
             [
              0,
              "#0d0887"
             ],
             [
              0.1111111111111111,
              "#46039f"
             ],
             [
              0.2222222222222222,
              "#7201a8"
             ],
             [
              0.3333333333333333,
              "#9c179e"
             ],
             [
              0.4444444444444444,
              "#bd3786"
             ],
             [
              0.5555555555555556,
              "#d8576b"
             ],
             [
              0.6666666666666666,
              "#ed7953"
             ],
             [
              0.7777777777777778,
              "#fb9f3a"
             ],
             [
              0.8888888888888888,
              "#fdca26"
             ],
             [
              1,
              "#f0f921"
             ]
            ],
            "type": "histogram2dcontour"
           }
          ],
          "mesh3d": [
           {
            "colorbar": {
             "outlinewidth": 0,
             "ticks": ""
            },
            "type": "mesh3d"
           }
          ],
          "parcoords": [
           {
            "line": {
             "colorbar": {
              "outlinewidth": 0,
              "ticks": ""
             }
            },
            "type": "parcoords"
           }
          ],
          "pie": [
           {
            "automargin": true,
            "type": "pie"
           }
          ],
          "scatter": [
           {
            "fillpattern": {
             "fillmode": "overlay",
             "size": 10,
             "solidity": 0.2
            },
            "type": "scatter"
           }
          ],
          "scatter3d": [
           {
            "line": {
             "colorbar": {
              "outlinewidth": 0,
              "ticks": ""
             }
            },
            "marker": {
             "colorbar": {
              "outlinewidth": 0,
              "ticks": ""
             }
            },
            "type": "scatter3d"
           }
          ],
          "scattercarpet": [
           {
            "marker": {
             "colorbar": {
              "outlinewidth": 0,
              "ticks": ""
             }
            },
            "type": "scattercarpet"
           }
          ],
          "scattergeo": [
           {
            "marker": {
             "colorbar": {
              "outlinewidth": 0,
              "ticks": ""
             }
            },
            "type": "scattergeo"
           }
          ],
          "scattergl": [
           {
            "marker": {
             "colorbar": {
              "outlinewidth": 0,
              "ticks": ""
             }
            },
            "type": "scattergl"
           }
          ],
          "scattermapbox": [
           {
            "marker": {
             "colorbar": {
              "outlinewidth": 0,
              "ticks": ""
             }
            },
            "type": "scattermapbox"
           }
          ],
          "scatterpolar": [
           {
            "marker": {
             "colorbar": {
              "outlinewidth": 0,
              "ticks": ""
             }
            },
            "type": "scatterpolar"
           }
          ],
          "scatterpolargl": [
           {
            "marker": {
             "colorbar": {
              "outlinewidth": 0,
              "ticks": ""
             }
            },
            "type": "scatterpolargl"
           }
          ],
          "scatterternary": [
           {
            "marker": {
             "colorbar": {
              "outlinewidth": 0,
              "ticks": ""
             }
            },
            "type": "scatterternary"
           }
          ],
          "surface": [
           {
            "colorbar": {
             "outlinewidth": 0,
             "ticks": ""
            },
            "colorscale": [
             [
              0,
              "#0d0887"
             ],
             [
              0.1111111111111111,
              "#46039f"
             ],
             [
              0.2222222222222222,
              "#7201a8"
             ],
             [
              0.3333333333333333,
              "#9c179e"
             ],
             [
              0.4444444444444444,
              "#bd3786"
             ],
             [
              0.5555555555555556,
              "#d8576b"
             ],
             [
              0.6666666666666666,
              "#ed7953"
             ],
             [
              0.7777777777777778,
              "#fb9f3a"
             ],
             [
              0.8888888888888888,
              "#fdca26"
             ],
             [
              1,
              "#f0f921"
             ]
            ],
            "type": "surface"
           }
          ],
          "table": [
           {
            "cells": {
             "fill": {
              "color": "#EBF0F8"
             },
             "line": {
              "color": "white"
             }
            },
            "header": {
             "fill": {
              "color": "#C8D4E3"
             },
             "line": {
              "color": "white"
             }
            },
            "type": "table"
           }
          ]
         },
         "layout": {
          "annotationdefaults": {
           "arrowcolor": "#2a3f5f",
           "arrowhead": 0,
           "arrowwidth": 1
          },
          "autotypenumbers": "strict",
          "coloraxis": {
           "colorbar": {
            "outlinewidth": 0,
            "ticks": ""
           }
          },
          "colorscale": {
           "diverging": [
            [
             0,
             "#8e0152"
            ],
            [
             0.1,
             "#c51b7d"
            ],
            [
             0.2,
             "#de77ae"
            ],
            [
             0.3,
             "#f1b6da"
            ],
            [
             0.4,
             "#fde0ef"
            ],
            [
             0.5,
             "#f7f7f7"
            ],
            [
             0.6,
             "#e6f5d0"
            ],
            [
             0.7,
             "#b8e186"
            ],
            [
             0.8,
             "#7fbc41"
            ],
            [
             0.9,
             "#4d9221"
            ],
            [
             1,
             "#276419"
            ]
           ],
           "sequential": [
            [
             0,
             "#0d0887"
            ],
            [
             0.1111111111111111,
             "#46039f"
            ],
            [
             0.2222222222222222,
             "#7201a8"
            ],
            [
             0.3333333333333333,
             "#9c179e"
            ],
            [
             0.4444444444444444,
             "#bd3786"
            ],
            [
             0.5555555555555556,
             "#d8576b"
            ],
            [
             0.6666666666666666,
             "#ed7953"
            ],
            [
             0.7777777777777778,
             "#fb9f3a"
            ],
            [
             0.8888888888888888,
             "#fdca26"
            ],
            [
             1,
             "#f0f921"
            ]
           ],
           "sequentialminus": [
            [
             0,
             "#0d0887"
            ],
            [
             0.1111111111111111,
             "#46039f"
            ],
            [
             0.2222222222222222,
             "#7201a8"
            ],
            [
             0.3333333333333333,
             "#9c179e"
            ],
            [
             0.4444444444444444,
             "#bd3786"
            ],
            [
             0.5555555555555556,
             "#d8576b"
            ],
            [
             0.6666666666666666,
             "#ed7953"
            ],
            [
             0.7777777777777778,
             "#fb9f3a"
            ],
            [
             0.8888888888888888,
             "#fdca26"
            ],
            [
             1,
             "#f0f921"
            ]
           ]
          },
          "colorway": [
           "#636efa",
           "#EF553B",
           "#00cc96",
           "#ab63fa",
           "#FFA15A",
           "#19d3f3",
           "#FF6692",
           "#B6E880",
           "#FF97FF",
           "#FECB52"
          ],
          "font": {
           "color": "#2a3f5f"
          },
          "geo": {
           "bgcolor": "white",
           "lakecolor": "white",
           "landcolor": "#E5ECF6",
           "showlakes": true,
           "showland": true,
           "subunitcolor": "white"
          },
          "hoverlabel": {
           "align": "left"
          },
          "hovermode": "closest",
          "mapbox": {
           "style": "light"
          },
          "paper_bgcolor": "white",
          "plot_bgcolor": "#E5ECF6",
          "polar": {
           "angularaxis": {
            "gridcolor": "white",
            "linecolor": "white",
            "ticks": ""
           },
           "bgcolor": "#E5ECF6",
           "radialaxis": {
            "gridcolor": "white",
            "linecolor": "white",
            "ticks": ""
           }
          },
          "scene": {
           "xaxis": {
            "backgroundcolor": "#E5ECF6",
            "gridcolor": "white",
            "gridwidth": 2,
            "linecolor": "white",
            "showbackground": true,
            "ticks": "",
            "zerolinecolor": "white"
           },
           "yaxis": {
            "backgroundcolor": "#E5ECF6",
            "gridcolor": "white",
            "gridwidth": 2,
            "linecolor": "white",
            "showbackground": true,
            "ticks": "",
            "zerolinecolor": "white"
           },
           "zaxis": {
            "backgroundcolor": "#E5ECF6",
            "gridcolor": "white",
            "gridwidth": 2,
            "linecolor": "white",
            "showbackground": true,
            "ticks": "",
            "zerolinecolor": "white"
           }
          },
          "shapedefaults": {
           "line": {
            "color": "#2a3f5f"
           }
          },
          "ternary": {
           "aaxis": {
            "gridcolor": "white",
            "linecolor": "white",
            "ticks": ""
           },
           "baxis": {
            "gridcolor": "white",
            "linecolor": "white",
            "ticks": ""
           },
           "bgcolor": "#E5ECF6",
           "caxis": {
            "gridcolor": "white",
            "linecolor": "white",
            "ticks": ""
           }
          },
          "title": {
           "x": 0.05
          },
          "xaxis": {
           "automargin": true,
           "gridcolor": "white",
           "linecolor": "white",
           "ticks": "",
           "title": {
            "standoff": 15
           },
           "zerolinecolor": "white",
           "zerolinewidth": 2
          },
          "yaxis": {
           "automargin": true,
           "gridcolor": "white",
           "linecolor": "white",
           "ticks": "",
           "title": {
            "standoff": 15
           },
           "zerolinecolor": "white",
           "zerolinewidth": 2
          }
         }
        },
        "title": {
         "text": "Mean ESG Score by industry in 2023"
        },
        "xaxis": {
         "anchor": "y",
         "categoryarray": [
          "Transportation Infrastructure",
          "Media",
          "Real Estate",
          "Textiles & Apparel",
          "Technology Hardware",
          "Commercial Services",
          "Retailing",
          "Homebuilders",
          "Consumer Durables",
          "Containers & Packaging",
          "Auto Components",
          "Paper & Forestry",
          "Software & Services",
          "Food Retailers",
          "Transportation"
         ],
         "categoryorder": "array",
         "domain": [
          0,
          1
         ],
         "tickangle": -45,
         "title": {
          "text": "industry"
         }
        },
        "yaxis": {
         "anchor": "x",
         "domain": [
          0,
          1
         ],
         "title": {
          "text": "Mean ESG"
         }
        }
       }
      }
     },
     "metadata": {},
     "output_type": "display_data"
    },
    {
     "data": {
      "application/vnd.plotly.v1+json": {
       "config": {
        "plotlyServerURL": "https://plot.ly"
       },
       "data": [
        {
         "alignmentgroup": "True",
         "hovertemplate": "industry=%{x}<br>Mean ESG=%{y}<extra></extra>",
         "legendgroup": "Media",
         "marker": {
          "color": "#636efa",
          "pattern": {
           "shape": ""
          }
         },
         "name": "Media",
         "offsetgroup": "Media",
         "orientation": "v",
         "showlegend": true,
         "textposition": "auto",
         "type": "bar",
         "x": [
          "Media"
         ],
         "xaxis": "x",
         "y": [
          15.916417910447763
         ],
         "yaxis": "y"
        },
        {
         "alignmentgroup": "True",
         "hovertemplate": "industry=%{x}<br>Mean ESG=%{y}<extra></extra>",
         "legendgroup": "Real Estate",
         "marker": {
          "color": "#EF553B",
          "pattern": {
           "shape": ""
          }
         },
         "name": "Real Estate",
         "offsetgroup": "Real Estate",
         "orientation": "v",
         "showlegend": true,
         "textposition": "auto",
         "type": "bar",
         "x": [
          "Real Estate"
         ],
         "xaxis": "x",
         "y": [
          17.04442538593482
         ],
         "yaxis": "y"
        },
        {
         "alignmentgroup": "True",
         "hovertemplate": "industry=%{x}<br>Mean ESG=%{y}<extra></extra>",
         "legendgroup": "Transportation Infrastructure",
         "marker": {
          "color": "#00cc96",
          "pattern": {
           "shape": ""
          }
         },
         "name": "Transportation Infrastructure",
         "offsetgroup": "Transportation Infrastructure",
         "orientation": "v",
         "showlegend": true,
         "textposition": "auto",
         "type": "bar",
         "x": [
          "Transportation Infrastructure"
         ],
         "xaxis": "x",
         "y": [
          17.225
         ],
         "yaxis": "y"
        },
        {
         "alignmentgroup": "True",
         "hovertemplate": "industry=%{x}<br>Mean ESG=%{y}<extra></extra>",
         "legendgroup": "Containers & Packaging",
         "marker": {
          "color": "#ab63fa",
          "pattern": {
           "shape": ""
          }
         },
         "name": "Containers & Packaging",
         "offsetgroup": "Containers & Packaging",
         "orientation": "v",
         "showlegend": true,
         "textposition": "auto",
         "type": "bar",
         "x": [
          "Containers & Packaging"
         ],
         "xaxis": "x",
         "y": [
          17.83409090909091
         ],
         "yaxis": "y"
        },
        {
         "alignmentgroup": "True",
         "hovertemplate": "industry=%{x}<br>Mean ESG=%{y}<extra></extra>",
         "legendgroup": "Retailing",
         "marker": {
          "color": "#FFA15A",
          "pattern": {
           "shape": ""
          }
         },
         "name": "Retailing",
         "offsetgroup": "Retailing",
         "orientation": "v",
         "showlegend": true,
         "textposition": "auto",
         "type": "bar",
         "x": [
          "Retailing"
         ],
         "xaxis": "x",
         "y": [
          18.2017094017094
         ],
         "yaxis": "y"
        },
        {
         "alignmentgroup": "True",
         "hovertemplate": "industry=%{x}<br>Mean ESG=%{y}<extra></extra>",
         "legendgroup": "Commercial Services",
         "marker": {
          "color": "#19d3f3",
          "pattern": {
           "shape": ""
          }
         },
         "name": "Commercial Services",
         "offsetgroup": "Commercial Services",
         "orientation": "v",
         "showlegend": true,
         "textposition": "auto",
         "type": "bar",
         "x": [
          "Commercial Services"
         ],
         "xaxis": "x",
         "y": [
          18.437623762376237
         ],
         "yaxis": "y"
        },
        {
         "alignmentgroup": "True",
         "hovertemplate": "industry=%{x}<br>Mean ESG=%{y}<extra></extra>",
         "legendgroup": "Textiles & Apparel",
         "marker": {
          "color": "#FF6692",
          "pattern": {
           "shape": ""
          }
         },
         "name": "Textiles & Apparel",
         "offsetgroup": "Textiles & Apparel",
         "orientation": "v",
         "showlegend": true,
         "textposition": "auto",
         "type": "bar",
         "x": [
          "Textiles & Apparel"
         ],
         "xaxis": "x",
         "y": [
          18.847863247863245
         ],
         "yaxis": "y"
        },
        {
         "alignmentgroup": "True",
         "hovertemplate": "industry=%{x}<br>Mean ESG=%{y}<extra></extra>",
         "legendgroup": "Technology Hardware",
         "marker": {
          "color": "#B6E880",
          "pattern": {
           "shape": ""
          }
         },
         "name": "Technology Hardware",
         "offsetgroup": "Technology Hardware",
         "orientation": "v",
         "showlegend": true,
         "textposition": "auto",
         "type": "bar",
         "x": [
          "Technology Hardware"
         ],
         "xaxis": "x",
         "y": [
          19.069871794871794
         ],
         "yaxis": "y"
        },
        {
         "alignmentgroup": "True",
         "hovertemplate": "industry=%{x}<br>Mean ESG=%{y}<extra></extra>",
         "legendgroup": "Consumer Durables",
         "marker": {
          "color": "#FF97FF",
          "pattern": {
           "shape": ""
          }
         },
         "name": "Consumer Durables",
         "offsetgroup": "Consumer Durables",
         "orientation": "v",
         "showlegend": true,
         "textposition": "auto",
         "type": "bar",
         "x": [
          "Consumer Durables"
         ],
         "xaxis": "x",
         "y": [
          19.138524590163936
         ],
         "yaxis": "y"
        },
        {
         "alignmentgroup": "True",
         "hovertemplate": "industry=%{x}<br>Mean ESG=%{y}<extra></extra>",
         "legendgroup": "Software & Services",
         "marker": {
          "color": "#FECB52",
          "pattern": {
           "shape": ""
          }
         },
         "name": "Software & Services",
         "offsetgroup": "Software & Services",
         "orientation": "v",
         "showlegend": true,
         "textposition": "auto",
         "type": "bar",
         "x": [
          "Software & Services"
         ],
         "xaxis": "x",
         "y": [
          20.586131386861314
         ],
         "yaxis": "y"
        },
        {
         "alignmentgroup": "True",
         "hovertemplate": "industry=%{x}<br>Mean ESG=%{y}<extra></extra>",
         "legendgroup": "Auto Components",
         "marker": {
          "color": "#636efa",
          "pattern": {
           "shape": ""
          }
         },
         "name": "Auto Components",
         "offsetgroup": "Auto Components",
         "orientation": "v",
         "showlegend": true,
         "textposition": "auto",
         "type": "bar",
         "x": [
          "Auto Components"
         ],
         "xaxis": "x",
         "y": [
          21.451063829787234
         ],
         "yaxis": "y"
        },
        {
         "alignmentgroup": "True",
         "hovertemplate": "industry=%{x}<br>Mean ESG=%{y}<extra></extra>",
         "legendgroup": "Homebuilders",
         "marker": {
          "color": "#EF553B",
          "pattern": {
           "shape": ""
          }
         },
         "name": "Homebuilders",
         "offsetgroup": "Homebuilders",
         "orientation": "v",
         "showlegend": true,
         "textposition": "auto",
         "type": "bar",
         "x": [
          "Homebuilders"
         ],
         "xaxis": "x",
         "y": [
          21.6575
         ],
         "yaxis": "y"
        },
        {
         "alignmentgroup": "True",
         "hovertemplate": "industry=%{x}<br>Mean ESG=%{y}<extra></extra>",
         "legendgroup": "Traders & Distributors",
         "marker": {
          "color": "#00cc96",
          "pattern": {
           "shape": ""
          }
         },
         "name": "Traders & Distributors",
         "offsetgroup": "Traders & Distributors",
         "orientation": "v",
         "showlegend": true,
         "textposition": "auto",
         "type": "bar",
         "x": [
          "Traders & Distributors"
         ],
         "xaxis": "x",
         "y": [
          21.717582417582417
         ],
         "yaxis": "y"
        },
        {
         "alignmentgroup": "True",
         "hovertemplate": "industry=%{x}<br>Mean ESG=%{y}<extra></extra>",
         "legendgroup": "Transportation",
         "marker": {
          "color": "#ab63fa",
          "pattern": {
           "shape": ""
          }
         },
         "name": "Transportation",
         "offsetgroup": "Transportation",
         "orientation": "v",
         "showlegend": true,
         "textposition": "auto",
         "type": "bar",
         "x": [
          "Transportation"
         ],
         "xaxis": "x",
         "y": [
          22.907333333333334
         ],
         "yaxis": "y"
        },
        {
         "alignmentgroup": "True",
         "hovertemplate": "industry=%{x}<br>Mean ESG=%{y}<extra></extra>",
         "legendgroup": "Food Retailers",
         "marker": {
          "color": "#FFA15A",
          "pattern": {
           "shape": ""
          }
         },
         "name": "Food Retailers",
         "offsetgroup": "Food Retailers",
         "orientation": "v",
         "showlegend": true,
         "textposition": "auto",
         "type": "bar",
         "x": [
          "Food Retailers"
         ],
         "xaxis": "x",
         "y": [
          22.90990990990991
         ],
         "yaxis": "y"
        }
       ],
       "layout": {
        "barmode": "relative",
        "legend": {
         "title": {
          "text": "industry"
         },
         "tracegroupgap": 0
        },
        "showlegend": false,
        "template": {
         "data": {
          "bar": [
           {
            "error_x": {
             "color": "#2a3f5f"
            },
            "error_y": {
             "color": "#2a3f5f"
            },
            "marker": {
             "line": {
              "color": "#E5ECF6",
              "width": 0.5
             },
             "pattern": {
              "fillmode": "overlay",
              "size": 10,
              "solidity": 0.2
             }
            },
            "type": "bar"
           }
          ],
          "barpolar": [
           {
            "marker": {
             "line": {
              "color": "#E5ECF6",
              "width": 0.5
             },
             "pattern": {
              "fillmode": "overlay",
              "size": 10,
              "solidity": 0.2
             }
            },
            "type": "barpolar"
           }
          ],
          "carpet": [
           {
            "aaxis": {
             "endlinecolor": "#2a3f5f",
             "gridcolor": "white",
             "linecolor": "white",
             "minorgridcolor": "white",
             "startlinecolor": "#2a3f5f"
            },
            "baxis": {
             "endlinecolor": "#2a3f5f",
             "gridcolor": "white",
             "linecolor": "white",
             "minorgridcolor": "white",
             "startlinecolor": "#2a3f5f"
            },
            "type": "carpet"
           }
          ],
          "choropleth": [
           {
            "colorbar": {
             "outlinewidth": 0,
             "ticks": ""
            },
            "type": "choropleth"
           }
          ],
          "contour": [
           {
            "colorbar": {
             "outlinewidth": 0,
             "ticks": ""
            },
            "colorscale": [
             [
              0,
              "#0d0887"
             ],
             [
              0.1111111111111111,
              "#46039f"
             ],
             [
              0.2222222222222222,
              "#7201a8"
             ],
             [
              0.3333333333333333,
              "#9c179e"
             ],
             [
              0.4444444444444444,
              "#bd3786"
             ],
             [
              0.5555555555555556,
              "#d8576b"
             ],
             [
              0.6666666666666666,
              "#ed7953"
             ],
             [
              0.7777777777777778,
              "#fb9f3a"
             ],
             [
              0.8888888888888888,
              "#fdca26"
             ],
             [
              1,
              "#f0f921"
             ]
            ],
            "type": "contour"
           }
          ],
          "contourcarpet": [
           {
            "colorbar": {
             "outlinewidth": 0,
             "ticks": ""
            },
            "type": "contourcarpet"
           }
          ],
          "heatmap": [
           {
            "colorbar": {
             "outlinewidth": 0,
             "ticks": ""
            },
            "colorscale": [
             [
              0,
              "#0d0887"
             ],
             [
              0.1111111111111111,
              "#46039f"
             ],
             [
              0.2222222222222222,
              "#7201a8"
             ],
             [
              0.3333333333333333,
              "#9c179e"
             ],
             [
              0.4444444444444444,
              "#bd3786"
             ],
             [
              0.5555555555555556,
              "#d8576b"
             ],
             [
              0.6666666666666666,
              "#ed7953"
             ],
             [
              0.7777777777777778,
              "#fb9f3a"
             ],
             [
              0.8888888888888888,
              "#fdca26"
             ],
             [
              1,
              "#f0f921"
             ]
            ],
            "type": "heatmap"
           }
          ],
          "heatmapgl": [
           {
            "colorbar": {
             "outlinewidth": 0,
             "ticks": ""
            },
            "colorscale": [
             [
              0,
              "#0d0887"
             ],
             [
              0.1111111111111111,
              "#46039f"
             ],
             [
              0.2222222222222222,
              "#7201a8"
             ],
             [
              0.3333333333333333,
              "#9c179e"
             ],
             [
              0.4444444444444444,
              "#bd3786"
             ],
             [
              0.5555555555555556,
              "#d8576b"
             ],
             [
              0.6666666666666666,
              "#ed7953"
             ],
             [
              0.7777777777777778,
              "#fb9f3a"
             ],
             [
              0.8888888888888888,
              "#fdca26"
             ],
             [
              1,
              "#f0f921"
             ]
            ],
            "type": "heatmapgl"
           }
          ],
          "histogram": [
           {
            "marker": {
             "pattern": {
              "fillmode": "overlay",
              "size": 10,
              "solidity": 0.2
             }
            },
            "type": "histogram"
           }
          ],
          "histogram2d": [
           {
            "colorbar": {
             "outlinewidth": 0,
             "ticks": ""
            },
            "colorscale": [
             [
              0,
              "#0d0887"
             ],
             [
              0.1111111111111111,
              "#46039f"
             ],
             [
              0.2222222222222222,
              "#7201a8"
             ],
             [
              0.3333333333333333,
              "#9c179e"
             ],
             [
              0.4444444444444444,
              "#bd3786"
             ],
             [
              0.5555555555555556,
              "#d8576b"
             ],
             [
              0.6666666666666666,
              "#ed7953"
             ],
             [
              0.7777777777777778,
              "#fb9f3a"
             ],
             [
              0.8888888888888888,
              "#fdca26"
             ],
             [
              1,
              "#f0f921"
             ]
            ],
            "type": "histogram2d"
           }
          ],
          "histogram2dcontour": [
           {
            "colorbar": {
             "outlinewidth": 0,
             "ticks": ""
            },
            "colorscale": [
             [
              0,
              "#0d0887"
             ],
             [
              0.1111111111111111,
              "#46039f"
             ],
             [
              0.2222222222222222,
              "#7201a8"
             ],
             [
              0.3333333333333333,
              "#9c179e"
             ],
             [
              0.4444444444444444,
              "#bd3786"
             ],
             [
              0.5555555555555556,
              "#d8576b"
             ],
             [
              0.6666666666666666,
              "#ed7953"
             ],
             [
              0.7777777777777778,
              "#fb9f3a"
             ],
             [
              0.8888888888888888,
              "#fdca26"
             ],
             [
              1,
              "#f0f921"
             ]
            ],
            "type": "histogram2dcontour"
           }
          ],
          "mesh3d": [
           {
            "colorbar": {
             "outlinewidth": 0,
             "ticks": ""
            },
            "type": "mesh3d"
           }
          ],
          "parcoords": [
           {
            "line": {
             "colorbar": {
              "outlinewidth": 0,
              "ticks": ""
             }
            },
            "type": "parcoords"
           }
          ],
          "pie": [
           {
            "automargin": true,
            "type": "pie"
           }
          ],
          "scatter": [
           {
            "fillpattern": {
             "fillmode": "overlay",
             "size": 10,
             "solidity": 0.2
            },
            "type": "scatter"
           }
          ],
          "scatter3d": [
           {
            "line": {
             "colorbar": {
              "outlinewidth": 0,
              "ticks": ""
             }
            },
            "marker": {
             "colorbar": {
              "outlinewidth": 0,
              "ticks": ""
             }
            },
            "type": "scatter3d"
           }
          ],
          "scattercarpet": [
           {
            "marker": {
             "colorbar": {
              "outlinewidth": 0,
              "ticks": ""
             }
            },
            "type": "scattercarpet"
           }
          ],
          "scattergeo": [
           {
            "marker": {
             "colorbar": {
              "outlinewidth": 0,
              "ticks": ""
             }
            },
            "type": "scattergeo"
           }
          ],
          "scattergl": [
           {
            "marker": {
             "colorbar": {
              "outlinewidth": 0,
              "ticks": ""
             }
            },
            "type": "scattergl"
           }
          ],
          "scattermapbox": [
           {
            "marker": {
             "colorbar": {
              "outlinewidth": 0,
              "ticks": ""
             }
            },
            "type": "scattermapbox"
           }
          ],
          "scatterpolar": [
           {
            "marker": {
             "colorbar": {
              "outlinewidth": 0,
              "ticks": ""
             }
            },
            "type": "scatterpolar"
           }
          ],
          "scatterpolargl": [
           {
            "marker": {
             "colorbar": {
              "outlinewidth": 0,
              "ticks": ""
             }
            },
            "type": "scatterpolargl"
           }
          ],
          "scatterternary": [
           {
            "marker": {
             "colorbar": {
              "outlinewidth": 0,
              "ticks": ""
             }
            },
            "type": "scatterternary"
           }
          ],
          "surface": [
           {
            "colorbar": {
             "outlinewidth": 0,
             "ticks": ""
            },
            "colorscale": [
             [
              0,
              "#0d0887"
             ],
             [
              0.1111111111111111,
              "#46039f"
             ],
             [
              0.2222222222222222,
              "#7201a8"
             ],
             [
              0.3333333333333333,
              "#9c179e"
             ],
             [
              0.4444444444444444,
              "#bd3786"
             ],
             [
              0.5555555555555556,
              "#d8576b"
             ],
             [
              0.6666666666666666,
              "#ed7953"
             ],
             [
              0.7777777777777778,
              "#fb9f3a"
             ],
             [
              0.8888888888888888,
              "#fdca26"
             ],
             [
              1,
              "#f0f921"
             ]
            ],
            "type": "surface"
           }
          ],
          "table": [
           {
            "cells": {
             "fill": {
              "color": "#EBF0F8"
             },
             "line": {
              "color": "white"
             }
            },
            "header": {
             "fill": {
              "color": "#C8D4E3"
             },
             "line": {
              "color": "white"
             }
            },
            "type": "table"
           }
          ]
         },
         "layout": {
          "annotationdefaults": {
           "arrowcolor": "#2a3f5f",
           "arrowhead": 0,
           "arrowwidth": 1
          },
          "autotypenumbers": "strict",
          "coloraxis": {
           "colorbar": {
            "outlinewidth": 0,
            "ticks": ""
           }
          },
          "colorscale": {
           "diverging": [
            [
             0,
             "#8e0152"
            ],
            [
             0.1,
             "#c51b7d"
            ],
            [
             0.2,
             "#de77ae"
            ],
            [
             0.3,
             "#f1b6da"
            ],
            [
             0.4,
             "#fde0ef"
            ],
            [
             0.5,
             "#f7f7f7"
            ],
            [
             0.6,
             "#e6f5d0"
            ],
            [
             0.7,
             "#b8e186"
            ],
            [
             0.8,
             "#7fbc41"
            ],
            [
             0.9,
             "#4d9221"
            ],
            [
             1,
             "#276419"
            ]
           ],
           "sequential": [
            [
             0,
             "#0d0887"
            ],
            [
             0.1111111111111111,
             "#46039f"
            ],
            [
             0.2222222222222222,
             "#7201a8"
            ],
            [
             0.3333333333333333,
             "#9c179e"
            ],
            [
             0.4444444444444444,
             "#bd3786"
            ],
            [
             0.5555555555555556,
             "#d8576b"
            ],
            [
             0.6666666666666666,
             "#ed7953"
            ],
            [
             0.7777777777777778,
             "#fb9f3a"
            ],
            [
             0.8888888888888888,
             "#fdca26"
            ],
            [
             1,
             "#f0f921"
            ]
           ],
           "sequentialminus": [
            [
             0,
             "#0d0887"
            ],
            [
             0.1111111111111111,
             "#46039f"
            ],
            [
             0.2222222222222222,
             "#7201a8"
            ],
            [
             0.3333333333333333,
             "#9c179e"
            ],
            [
             0.4444444444444444,
             "#bd3786"
            ],
            [
             0.5555555555555556,
             "#d8576b"
            ],
            [
             0.6666666666666666,
             "#ed7953"
            ],
            [
             0.7777777777777778,
             "#fb9f3a"
            ],
            [
             0.8888888888888888,
             "#fdca26"
            ],
            [
             1,
             "#f0f921"
            ]
           ]
          },
          "colorway": [
           "#636efa",
           "#EF553B",
           "#00cc96",
           "#ab63fa",
           "#FFA15A",
           "#19d3f3",
           "#FF6692",
           "#B6E880",
           "#FF97FF",
           "#FECB52"
          ],
          "font": {
           "color": "#2a3f5f"
          },
          "geo": {
           "bgcolor": "white",
           "lakecolor": "white",
           "landcolor": "#E5ECF6",
           "showlakes": true,
           "showland": true,
           "subunitcolor": "white"
          },
          "hoverlabel": {
           "align": "left"
          },
          "hovermode": "closest",
          "mapbox": {
           "style": "light"
          },
          "paper_bgcolor": "white",
          "plot_bgcolor": "#E5ECF6",
          "polar": {
           "angularaxis": {
            "gridcolor": "white",
            "linecolor": "white",
            "ticks": ""
           },
           "bgcolor": "#E5ECF6",
           "radialaxis": {
            "gridcolor": "white",
            "linecolor": "white",
            "ticks": ""
           }
          },
          "scene": {
           "xaxis": {
            "backgroundcolor": "#E5ECF6",
            "gridcolor": "white",
            "gridwidth": 2,
            "linecolor": "white",
            "showbackground": true,
            "ticks": "",
            "zerolinecolor": "white"
           },
           "yaxis": {
            "backgroundcolor": "#E5ECF6",
            "gridcolor": "white",
            "gridwidth": 2,
            "linecolor": "white",
            "showbackground": true,
            "ticks": "",
            "zerolinecolor": "white"
           },
           "zaxis": {
            "backgroundcolor": "#E5ECF6",
            "gridcolor": "white",
            "gridwidth": 2,
            "linecolor": "white",
            "showbackground": true,
            "ticks": "",
            "zerolinecolor": "white"
           }
          },
          "shapedefaults": {
           "line": {
            "color": "#2a3f5f"
           }
          },
          "ternary": {
           "aaxis": {
            "gridcolor": "white",
            "linecolor": "white",
            "ticks": ""
           },
           "baxis": {
            "gridcolor": "white",
            "linecolor": "white",
            "ticks": ""
           },
           "bgcolor": "#E5ECF6",
           "caxis": {
            "gridcolor": "white",
            "linecolor": "white",
            "ticks": ""
           }
          },
          "title": {
           "x": 0.05
          },
          "xaxis": {
           "automargin": true,
           "gridcolor": "white",
           "linecolor": "white",
           "ticks": "",
           "title": {
            "standoff": 15
           },
           "zerolinecolor": "white",
           "zerolinewidth": 2
          },
          "yaxis": {
           "automargin": true,
           "gridcolor": "white",
           "linecolor": "white",
           "ticks": "",
           "title": {
            "standoff": 15
           },
           "zerolinecolor": "white",
           "zerolinewidth": 2
          }
         }
        },
        "title": {
         "text": "Mean ESG Score by industry in 2024"
        },
        "xaxis": {
         "anchor": "y",
         "categoryarray": [
          "Media",
          "Real Estate",
          "Transportation Infrastructure",
          "Containers & Packaging",
          "Retailing",
          "Commercial Services",
          "Textiles & Apparel",
          "Technology Hardware",
          "Consumer Durables",
          "Software & Services",
          "Auto Components",
          "Homebuilders",
          "Traders & Distributors",
          "Transportation",
          "Food Retailers"
         ],
         "categoryorder": "array",
         "domain": [
          0,
          1
         ],
         "tickangle": -45,
         "title": {
          "text": "industry"
         }
        },
        "yaxis": {
         "anchor": "x",
         "domain": [
          0,
          1
         ],
         "title": {
          "text": "Mean ESG"
         }
        }
       }
      }
     },
     "metadata": {},
     "output_type": "display_data"
    }
   ],
   "source": [
    "# Années à traiter\n",
    "years = [\"2023\", \"2024\"]\n",
    "\n",
    "# Générer les graphiques pour chaque année\n",
    "for i in range(len(filtered_list_23_24)):\n",
    "    industries = filtered_list_23_24[i].groupby('industry')['grade'].mean().reset_index()\n",
    "    industries.columns = ['industry', 'Mean ESG']\n",
    "    top_countries = industries.sort_values(by='Mean ESG', ascending=True).head(15)\n",
    "    fig = px.bar(top_countries, x='industry', y='Mean ESG', title=f\"Mean ESG Score by industry in {years[i]}\", color='industry')\n",
    "    fig.update_layout(xaxis_tickangle=-45, showlegend=False)\n",
    "    fig.show()"
   ]
=======
   "execution_count": null,
   "metadata": {},
   "outputs": [],
   "source": []
>>>>>>> 49d27d7048e76aefd1fd9b8a21e56644e9e14c22
  }
 ],
 "metadata": {
  "kernelspec": {
   "display_name": ".venv",
   "language": "python",
   "name": "python3"
  },
  "language_info": {
   "codemirror_mode": {
    "name": "ipython",
    "version": 3
   },
   "file_extension": ".py",
   "mimetype": "text/x-python",
   "name": "python",
   "nbconvert_exporter": "python",
   "pygments_lexer": "ipython3",
   "version": "3.13.0"
  }
 },
 "nbformat": 4,
 "nbformat_minor": 2
}
