{
 "cells": [
  {
   "cell_type": "code",
   "execution_count": 18,
   "metadata": {},
   "outputs": [],
   "source": [
    "from scipy.stats import kstest, jarque_bera, shapiro\n",
    "import pandas as pd \n",
    "import numpy as np\n",
    "import matplotlib.pyplot as plt"
   ]
  },
  {
   "cell_type": "code",
   "execution_count": 19,
   "metadata": {},
   "outputs": [
    {
     "data": {
      "text/html": [
       "<div>\n",
       "<style scoped>\n",
       "    .dataframe tbody tr th:only-of-type {\n",
       "        vertical-align: middle;\n",
       "    }\n",
       "\n",
       "    .dataframe tbody tr th {\n",
       "        vertical-align: top;\n",
       "    }\n",
       "\n",
       "    .dataframe thead th {\n",
       "        text-align: right;\n",
       "    }\n",
       "</style>\n",
       "<table border=\"1\" class=\"dataframe\">\n",
       "  <thead>\n",
       "    <tr style=\"text-align: right;\">\n",
       "      <th></th>\n",
       "      <th>name</th>\n",
       "      <th>grade</th>\n",
       "      <th>country</th>\n",
       "      <th>industry</th>\n",
       "      <th>employees</th>\n",
       "      <th>roe</th>\n",
       "      <th>Year</th>\n",
       "      <th>roe_num</th>\n",
       "      <th>global_industry</th>\n",
       "      <th>continent</th>\n",
       "    </tr>\n",
       "  </thead>\n",
       "  <tbody>\n",
       "    <tr>\n",
       "      <th>0</th>\n",
       "      <td>1-800-FLOWERS.COM, Inc.</td>\n",
       "      <td>22.6</td>\n",
       "      <td>United States of America</td>\n",
       "      <td>Retailing</td>\n",
       "      <td>4,000</td>\n",
       "      <td>-2.07%</td>\n",
       "      <td>2024</td>\n",
       "      <td>-2.07</td>\n",
       "      <td>Consumer sectors (B2C)</td>\n",
       "      <td>North America</td>\n",
       "    </tr>\n",
       "    <tr>\n",
       "      <th>1</th>\n",
       "      <td>1&amp;1 AG</td>\n",
       "      <td>27.7</td>\n",
       "      <td>Germany</td>\n",
       "      <td>Telecommunication Services</td>\n",
       "      <td>3,280</td>\n",
       "      <td>4.34%</td>\n",
       "      <td>2024</td>\n",
       "      <td>4.34</td>\n",
       "      <td>Technology sectors</td>\n",
       "      <td>Europe</td>\n",
       "    </tr>\n",
       "    <tr>\n",
       "      <th>2</th>\n",
       "      <td>10X Genomics, Inc.</td>\n",
       "      <td>22.5</td>\n",
       "      <td>United States of America</td>\n",
       "      <td>Pharmaceuticals</td>\n",
       "      <td>1,259</td>\n",
       "      <td>-24.87%</td>\n",
       "      <td>2024</td>\n",
       "      <td>-24.87</td>\n",
       "      <td>Healthcare and well-being</td>\n",
       "      <td>North America</td>\n",
       "    </tr>\n",
       "    <tr>\n",
       "      <th>3</th>\n",
       "      <td>11 Bit Studios SA</td>\n",
       "      <td>16.3</td>\n",
       "      <td>Poland</td>\n",
       "      <td>Software &amp; Services</td>\n",
       "      <td>299</td>\n",
       "      <td>0.23%</td>\n",
       "      <td>2023</td>\n",
       "      <td>0.23</td>\n",
       "      <td>Technology sectors</td>\n",
       "      <td>Europe</td>\n",
       "    </tr>\n",
       "    <tr>\n",
       "      <th>4</th>\n",
       "      <td>1st Source Corp.</td>\n",
       "      <td>35.0</td>\n",
       "      <td>United States of America</td>\n",
       "      <td>Banks</td>\n",
       "      <td>1,170</td>\n",
       "      <td>12.01%</td>\n",
       "      <td>2024</td>\n",
       "      <td>12.01</td>\n",
       "      <td>Financial sectors</td>\n",
       "      <td>North America</td>\n",
       "    </tr>\n",
       "    <tr>\n",
       "      <th>...</th>\n",
       "      <td>...</td>\n",
       "      <td>...</td>\n",
       "      <td>...</td>\n",
       "      <td>...</td>\n",
       "      <td>...</td>\n",
       "      <td>...</td>\n",
       "      <td>...</td>\n",
       "      <td>...</td>\n",
       "      <td>...</td>\n",
       "      <td>...</td>\n",
       "    </tr>\n",
       "    <tr>\n",
       "      <th>3808</th>\n",
       "      <td>The Hyakugo Bank, Ltd.</td>\n",
       "      <td>27.5</td>\n",
       "      <td>Japan</td>\n",
       "      <td>Banks</td>\n",
       "      <td>2,792</td>\n",
       "      <td>3.43%</td>\n",
       "      <td>2024</td>\n",
       "      <td>3.43</td>\n",
       "      <td>Financial sectors</td>\n",
       "      <td>Asia</td>\n",
       "    </tr>\n",
       "    <tr>\n",
       "      <th>3809</th>\n",
       "      <td>The Hyakujushi Bank, Ltd.</td>\n",
       "      <td>29.0</td>\n",
       "      <td>Japan</td>\n",
       "      <td>Banks</td>\n",
       "      <td>2,147</td>\n",
       "      <td>3.24%</td>\n",
       "      <td>2023</td>\n",
       "      <td>3.24</td>\n",
       "      <td>Financial sectors</td>\n",
       "      <td>Asia</td>\n",
       "    </tr>\n",
       "    <tr>\n",
       "      <th>3810</th>\n",
       "      <td>The Italian Sea Group SpA</td>\n",
       "      <td>30.2</td>\n",
       "      <td>Italy</td>\n",
       "      <td>Machinery</td>\n",
       "      <td>710</td>\n",
       "      <td>30.74%</td>\n",
       "      <td>2023</td>\n",
       "      <td>30.74</td>\n",
       "      <td>Industrial and manufacturing sectors</td>\n",
       "      <td>Europe</td>\n",
       "    </tr>\n",
       "    <tr>\n",
       "      <th>3811</th>\n",
       "      <td>The J. M. Smucker Co.</td>\n",
       "      <td>27.2</td>\n",
       "      <td>United States of America</td>\n",
       "      <td>Food Products</td>\n",
       "      <td>9,000</td>\n",
       "      <td>-1.18%</td>\n",
       "      <td>2023</td>\n",
       "      <td>-1.18</td>\n",
       "      <td>Consumer sectors (B2C)</td>\n",
       "      <td>North America</td>\n",
       "    </tr>\n",
       "    <tr>\n",
       "      <th>3812</th>\n",
       "      <td>The Japan Wool Textile Co., Ltd.</td>\n",
       "      <td>20.4</td>\n",
       "      <td>Japan</td>\n",
       "      <td>Textiles &amp; Apparel</td>\n",
       "      <td>4,159</td>\n",
       "      <td>7.01%</td>\n",
       "      <td>2023</td>\n",
       "      <td>7.01</td>\n",
       "      <td>Consumer sectors (B2C)</td>\n",
       "      <td>Asia</td>\n",
       "    </tr>\n",
       "  </tbody>\n",
       "</table>\n",
       "<p>3813 rows × 10 columns</p>\n",
       "</div>"
      ],
      "text/plain": [
       "                                  name  grade                   country  \\\n",
       "0              1-800-FLOWERS.COM, Inc.   22.6  United States of America   \n",
       "1                               1&1 AG   27.7                   Germany   \n",
       "2                   10X Genomics, Inc.   22.5  United States of America   \n",
       "3                    11 Bit Studios SA   16.3                    Poland   \n",
       "4                     1st Source Corp.   35.0  United States of America   \n",
       "...                                ...    ...                       ...   \n",
       "3808            The Hyakugo Bank, Ltd.   27.5                     Japan   \n",
       "3809         The Hyakujushi Bank, Ltd.   29.0                     Japan   \n",
       "3810         The Italian Sea Group SpA   30.2                     Italy   \n",
       "3811             The J. M. Smucker Co.   27.2  United States of America   \n",
       "3812  The Japan Wool Textile Co., Ltd.   20.4                     Japan   \n",
       "\n",
       "                        industry employees      roe  Year  roe_num  \\\n",
       "0                      Retailing     4,000   -2.07%  2024    -2.07   \n",
       "1     Telecommunication Services     3,280    4.34%  2024     4.34   \n",
       "2                Pharmaceuticals     1,259  -24.87%  2024   -24.87   \n",
       "3            Software & Services       299    0.23%  2023     0.23   \n",
       "4                          Banks     1,170   12.01%  2024    12.01   \n",
       "...                          ...       ...      ...   ...      ...   \n",
       "3808                       Banks     2,792    3.43%  2024     3.43   \n",
       "3809                       Banks     2,147    3.24%  2023     3.24   \n",
       "3810                   Machinery       710   30.74%  2023    30.74   \n",
       "3811               Food Products     9,000   -1.18%  2023    -1.18   \n",
       "3812          Textiles & Apparel     4,159    7.01%  2023     7.01   \n",
       "\n",
       "                           global_industry      continent  \n",
       "0                   Consumer sectors (B2C)  North America  \n",
       "1                       Technology sectors         Europe  \n",
       "2                Healthcare and well-being  North America  \n",
       "3                       Technology sectors         Europe  \n",
       "4                        Financial sectors  North America  \n",
       "...                                    ...            ...  \n",
       "3808                     Financial sectors           Asia  \n",
       "3809                     Financial sectors           Asia  \n",
       "3810  Industrial and manufacturing sectors         Europe  \n",
       "3811                Consumer sectors (B2C)  North America  \n",
       "3812                Consumer sectors (B2C)           Asia  \n",
       "\n",
       "[3813 rows x 10 columns]"
      ]
     },
     "execution_count": 19,
     "metadata": {},
     "output_type": "execute_result"
    }
   ],
   "source": [
    "df = pd.read_csv('the_final_merged_file.csv', sep='\\t')\n",
    "df"
   ]
  },
  {
   "cell_type": "code",
   "execution_count": 20,
   "metadata": {},
   "outputs": [
    {
     "data": {
      "text/html": [
       "<div>\n",
       "<style scoped>\n",
       "    .dataframe tbody tr th:only-of-type {\n",
       "        vertical-align: middle;\n",
       "    }\n",
       "\n",
       "    .dataframe tbody tr th {\n",
       "        vertical-align: top;\n",
       "    }\n",
       "\n",
       "    .dataframe thead th {\n",
       "        text-align: right;\n",
       "    }\n",
       "</style>\n",
       "<table border=\"1\" class=\"dataframe\">\n",
       "  <thead>\n",
       "    <tr style=\"text-align: right;\">\n",
       "      <th></th>\n",
       "      <th>column</th>\n",
       "      <th>test</th>\n",
       "      <th>stat</th>\n",
       "      <th>p_value</th>\n",
       "    </tr>\n",
       "  </thead>\n",
       "  <tbody>\n",
       "    <tr>\n",
       "      <th>0</th>\n",
       "      <td>roe_num</td>\n",
       "      <td>Shapiro-Wilk</td>\n",
       "      <td>0.837926</td>\n",
       "      <td>0.0</td>\n",
       "    </tr>\n",
       "    <tr>\n",
       "      <th>1</th>\n",
       "      <td>roe_num</td>\n",
       "      <td>Jarque-Bera</td>\n",
       "      <td>8082.670970</td>\n",
       "      <td>0.0</td>\n",
       "    </tr>\n",
       "    <tr>\n",
       "      <th>2</th>\n",
       "      <td>roe_num</td>\n",
       "      <td>Kolmogorov-Smirnov</td>\n",
       "      <td>0.733971</td>\n",
       "      <td>0.0</td>\n",
       "    </tr>\n",
       "  </tbody>\n",
       "</table>\n",
       "</div>"
      ],
      "text/plain": [
       "    column                test         stat  p_value\n",
       "0  roe_num        Shapiro-Wilk     0.837926      0.0\n",
       "1  roe_num         Jarque-Bera  8082.670970      0.0\n",
       "2  roe_num  Kolmogorov-Smirnov     0.733971      0.0"
      ]
     },
     "execution_count": 20,
     "metadata": {},
     "output_type": "execute_result"
    }
   ],
   "source": [
    "def check_normality(column):\n",
    "\n",
    "    shap_stat, shap_p_value = shapiro(df[column])\n",
    "\n",
    "    jarque_stat, jarque_p_value = jarque_bera(df[column])\n",
    "\n",
    "    kol_stat, kol_p_value = kstest(df[column], 'norm')\n",
    "\n",
    "    df_results = pd.DataFrame({\n",
    "        'column': [column] * 3,\n",
    "        'test': ['Shapiro-Wilk', 'Jarque-Bera', 'Kolmogorov-Smirnov'],\n",
    "        'stat': [shap_stat, jarque_stat, kol_stat],\n",
    "        'p_value': [np.round(shap_p_value, 2), np.round(jarque_p_value,2), np.round(kol_p_value,2)]\n",
    "    })\n",
    "\n",
    "    return df_results\n",
    "\n",
    "\n",
    "\n",
    "df_norm = check_normality('roe_num')\n",
    "df_norm"
   ]
  },
  {
   "cell_type": "code",
   "execution_count": 21,
   "metadata": {},
   "outputs": [
    {
     "data": {
      "image/png": "[encoded data removed]",
      "text/plain": [
       "<Figure size 640x480 with 1 Axes>"
      ]
     },
     "metadata": {},
     "output_type": "display_data"
    }
   ],
   "source": [
    "import seaborn as sns\n",
    "import matplotlib.pyplot as plt\n",
    "\n",
    "sns.histplot(df['grade'], kde=True, bins=30)\n",
    "plt.show()\n"
   ]
  },
  {
   "cell_type": "code",
   "execution_count": 22,
   "metadata": {},
   "outputs": [
    {
     "data": {
      "image/png": "[encoded data removed]",
      "text/plain": [
       "<Figure size 640x480 with 1 Axes>"
      ]
     },
     "metadata": {},
     "output_type": "display_data"
    }
   ],
   "source": [
    "import scipy.stats as stats\n",
    "import matplotlib.pyplot as plt\n",
    "\n",
    "stats.probplot(df['roe_num'], dist=\"norm\", plot=plt)\n",
    "plt.show()\n"
   ]
  },
  {
   "cell_type": "code",
   "execution_count": 32,
   "metadata": {},
   "outputs": [
    {
     "data": {
      "text/html": [
       "<div>\n",
       "<style scoped>\n",
       "    .dataframe tbody tr th:only-of-type {\n",
       "        vertical-align: middle;\n",
       "    }\n",
       "\n",
       "    .dataframe tbody tr th {\n",
       "        vertical-align: top;\n",
       "    }\n",
       "\n",
       "    .dataframe thead th {\n",
       "        text-align: right;\n",
       "    }\n",
       "</style>\n",
       "<table border=\"1\" class=\"dataframe\">\n",
       "  <thead>\n",
       "    <tr style=\"text-align: right;\">\n",
       "      <th></th>\n",
       "      <th>test</th>\n",
       "      <th>correlation</th>\n",
       "      <th>p_value</th>\n",
       "    </tr>\n",
       "  </thead>\n",
       "  <tbody>\n",
       "    <tr>\n",
       "      <th>0</th>\n",
       "      <td>Spearman</td>\n",
       "      <td>-0.351302</td>\n",
       "      <td>0.0</td>\n",
       "    </tr>\n",
       "  </tbody>\n",
       "</table>\n",
       "</div>"
      ],
      "text/plain": [
       "       test  correlation  p_value\n",
       "0  Spearman    -0.351302      0.0"
      ]
     },
     "execution_count": 32,
     "metadata": {},
     "output_type": "execute_result"
    }
   ],
   "source": [
    "from scipy.stats import spearmanr, kendalltau\n",
    "\n",
    "def check_correlation(df , column1, column2):\n",
    "\n",
    "\n",
    "    spearman_corr, spearman_p_value = spearmanr(df[column1], df[column2])\n",
    "    kendall_corr, kendall_p_value = kendalltau(df[column1], df[column2])\n",
    "\n",
    "    df_results = pd.DataFrame({\n",
    "        'test': ['Spearman'],\n",
    "\n",
    "        'correlation': [spearman_corr],\n",
    "        'p_value': [np.round(spearman_p_value,2)]\n",
    "    })\n",
    "\n",
    "    return df_results\n",
    "\n",
    "# df_analysis = df[(df['continent'] == 'Asia') \n",
    "#                  & (df['Year'] == 2023) \n",
    "#                  & (df['global_industry'] == 'Technology sectors')]\n",
    "\n",
    "# df_analysis = df[(df['continent'] == 'Europe') & \n",
    "#                  (df['Year'] == 2024) \n",
    "#                  & (df['global_industry'] == 'Financial sectors')]\n",
    "\n",
    "df_analysis = df[(df['continent'] == 'North America') & \n",
    "                 (df['Year'] == 2024) \n",
    "                 & (df['global_industry'] == 'Technology sectors')]\n",
    "\n",
    "df_corr = check_correlation(df_analysis, 'roe_num', 'grade')\n",
    "df_corr"
   ]
  },
  {
   "cell_type": "code",
   "execution_count": 24,
   "metadata": {},
   "outputs": [
    {
     "data": {
      "text/html": [
       "<div>\n",
       "<style scoped>\n",
       "    .dataframe tbody tr th:only-of-type {\n",
       "        vertical-align: middle;\n",
       "    }\n",
       "\n",
       "    .dataframe tbody tr th {\n",
       "        vertical-align: top;\n",
       "    }\n",
       "\n",
       "    .dataframe thead th {\n",
       "        text-align: right;\n",
       "    }\n",
       "</style>\n",
       "<table border=\"1\" class=\"dataframe\">\n",
       "  <thead>\n",
       "    <tr style=\"text-align: right;\">\n",
       "      <th></th>\n",
       "      <th>continent</th>\n",
       "      <th>Year</th>\n",
       "      <th>sector</th>\n",
       "      <th>correlation</th>\n",
       "      <th>p_value</th>\n",
       "      <th>significant</th>\n",
       "      <th>direction</th>\n",
       "    </tr>\n",
       "  </thead>\n",
       "  <tbody>\n",
       "    <tr>\n",
       "      <th>0</th>\n",
       "      <td>North America</td>\n",
       "      <td>2024</td>\n",
       "      <td>Consumer sectors (B2C)</td>\n",
       "      <td>-0.05</td>\n",
       "      <td>0.67</td>\n",
       "      <td>False</td>\n",
       "      <td>negative</td>\n",
       "    </tr>\n",
       "    <tr>\n",
       "      <th>1</th>\n",
       "      <td>North America</td>\n",
       "      <td>2024</td>\n",
       "      <td>Technology sectors</td>\n",
       "      <td>-0.35</td>\n",
       "      <td>0.00</td>\n",
       "      <td>True</td>\n",
       "      <td>negative</td>\n",
       "    </tr>\n",
       "    <tr>\n",
       "      <th>2</th>\n",
       "      <td>North America</td>\n",
       "      <td>2024</td>\n",
       "      <td>Healthcare and well-being</td>\n",
       "      <td>-0.33</td>\n",
       "      <td>0.00</td>\n",
       "      <td>True</td>\n",
       "      <td>negative</td>\n",
       "    </tr>\n",
       "    <tr>\n",
       "      <th>3</th>\n",
       "      <td>North America</td>\n",
       "      <td>2024</td>\n",
       "      <td>Financial sectors</td>\n",
       "      <td>-0.29</td>\n",
       "      <td>0.01</td>\n",
       "      <td>True</td>\n",
       "      <td>negative</td>\n",
       "    </tr>\n",
       "    <tr>\n",
       "      <th>4</th>\n",
       "      <td>North America</td>\n",
       "      <td>2024</td>\n",
       "      <td>Transport and logistics</td>\n",
       "      <td>-0.42</td>\n",
       "      <td>0.03</td>\n",
       "      <td>True</td>\n",
       "      <td>negative</td>\n",
       "    </tr>\n",
       "    <tr>\n",
       "      <th>5</th>\n",
       "      <td>North America</td>\n",
       "      <td>2024</td>\n",
       "      <td>Commercial services and media</td>\n",
       "      <td>0.04</td>\n",
       "      <td>0.83</td>\n",
       "      <td>False</td>\n",
       "      <td>positive</td>\n",
       "    </tr>\n",
       "    <tr>\n",
       "      <th>6</th>\n",
       "      <td>North America</td>\n",
       "      <td>2024</td>\n",
       "      <td>Real estate and related services</td>\n",
       "      <td>-0.03</td>\n",
       "      <td>0.81</td>\n",
       "      <td>False</td>\n",
       "      <td>negative</td>\n",
       "    </tr>\n",
       "    <tr>\n",
       "      <th>7</th>\n",
       "      <td>North America</td>\n",
       "      <td>2024</td>\n",
       "      <td>Industrial and manufacturing sectors</td>\n",
       "      <td>-0.15</td>\n",
       "      <td>0.26</td>\n",
       "      <td>False</td>\n",
       "      <td>negative</td>\n",
       "    </tr>\n",
       "    <tr>\n",
       "      <th>8</th>\n",
       "      <td>North America</td>\n",
       "      <td>2024</td>\n",
       "      <td>Utilities</td>\n",
       "      <td>0.20</td>\n",
       "      <td>0.32</td>\n",
       "      <td>False</td>\n",
       "      <td>positive</td>\n",
       "    </tr>\n",
       "    <tr>\n",
       "      <th>9</th>\n",
       "      <td>North America</td>\n",
       "      <td>2024</td>\n",
       "      <td>Energy and natural resources</td>\n",
       "      <td>0.07</td>\n",
       "      <td>0.59</td>\n",
       "      <td>False</td>\n",
       "      <td>positive</td>\n",
       "    </tr>\n",
       "    <tr>\n",
       "      <th>10</th>\n",
       "      <td>North America</td>\n",
       "      <td>2023</td>\n",
       "      <td>Consumer sectors (B2C)</td>\n",
       "      <td>-0.31</td>\n",
       "      <td>0.02</td>\n",
       "      <td>True</td>\n",
       "      <td>negative</td>\n",
       "    </tr>\n",
       "    <tr>\n",
       "      <th>11</th>\n",
       "      <td>North America</td>\n",
       "      <td>2023</td>\n",
       "      <td>Technology sectors</td>\n",
       "      <td>-0.37</td>\n",
       "      <td>0.00</td>\n",
       "      <td>True</td>\n",
       "      <td>negative</td>\n",
       "    </tr>\n",
       "    <tr>\n",
       "      <th>12</th>\n",
       "      <td>North America</td>\n",
       "      <td>2023</td>\n",
       "      <td>Healthcare and well-being</td>\n",
       "      <td>-0.30</td>\n",
       "      <td>0.01</td>\n",
       "      <td>True</td>\n",
       "      <td>negative</td>\n",
       "    </tr>\n",
       "    <tr>\n",
       "      <th>13</th>\n",
       "      <td>North America</td>\n",
       "      <td>2023</td>\n",
       "      <td>Financial sectors</td>\n",
       "      <td>-0.17</td>\n",
       "      <td>0.10</td>\n",
       "      <td>False</td>\n",
       "      <td>negative</td>\n",
       "    </tr>\n",
       "    <tr>\n",
       "      <th>14</th>\n",
       "      <td>North America</td>\n",
       "      <td>2023</td>\n",
       "      <td>Transport and logistics</td>\n",
       "      <td>-0.36</td>\n",
       "      <td>0.12</td>\n",
       "      <td>False</td>\n",
       "      <td>negative</td>\n",
       "    </tr>\n",
       "    <tr>\n",
       "      <th>15</th>\n",
       "      <td>North America</td>\n",
       "      <td>2023</td>\n",
       "      <td>Commercial services and media</td>\n",
       "      <td>-0.09</td>\n",
       "      <td>0.65</td>\n",
       "      <td>False</td>\n",
       "      <td>negative</td>\n",
       "    </tr>\n",
       "    <tr>\n",
       "      <th>16</th>\n",
       "      <td>North America</td>\n",
       "      <td>2023</td>\n",
       "      <td>Real estate and related services</td>\n",
       "      <td>-0.13</td>\n",
       "      <td>0.40</td>\n",
       "      <td>False</td>\n",
       "      <td>negative</td>\n",
       "    </tr>\n",
       "    <tr>\n",
       "      <th>17</th>\n",
       "      <td>North America</td>\n",
       "      <td>2023</td>\n",
       "      <td>Industrial and manufacturing sectors</td>\n",
       "      <td>-0.38</td>\n",
       "      <td>0.03</td>\n",
       "      <td>True</td>\n",
       "      <td>negative</td>\n",
       "    </tr>\n",
       "    <tr>\n",
       "      <th>18</th>\n",
       "      <td>North America</td>\n",
       "      <td>2023</td>\n",
       "      <td>Utilities</td>\n",
       "      <td>-0.06</td>\n",
       "      <td>0.83</td>\n",
       "      <td>False</td>\n",
       "      <td>negative</td>\n",
       "    </tr>\n",
       "    <tr>\n",
       "      <th>19</th>\n",
       "      <td>North America</td>\n",
       "      <td>2023</td>\n",
       "      <td>Energy and natural resources</td>\n",
       "      <td>-0.13</td>\n",
       "      <td>0.46</td>\n",
       "      <td>False</td>\n",
       "      <td>negative</td>\n",
       "    </tr>\n",
       "    <tr>\n",
       "      <th>20</th>\n",
       "      <td>Europe</td>\n",
       "      <td>2024</td>\n",
       "      <td>Consumer sectors (B2C)</td>\n",
       "      <td>-0.07</td>\n",
       "      <td>0.53</td>\n",
       "      <td>False</td>\n",
       "      <td>negative</td>\n",
       "    </tr>\n",
       "    <tr>\n",
       "      <th>21</th>\n",
       "      <td>Europe</td>\n",
       "      <td>2024</td>\n",
       "      <td>Technology sectors</td>\n",
       "      <td>-0.07</td>\n",
       "      <td>0.52</td>\n",
       "      <td>False</td>\n",
       "      <td>negative</td>\n",
       "    </tr>\n",
       "    <tr>\n",
       "      <th>22</th>\n",
       "      <td>Europe</td>\n",
       "      <td>2024</td>\n",
       "      <td>Healthcare and well-being</td>\n",
       "      <td>-0.31</td>\n",
       "      <td>0.01</td>\n",
       "      <td>True</td>\n",
       "      <td>negative</td>\n",
       "    </tr>\n",
       "    <tr>\n",
       "      <th>23</th>\n",
       "      <td>Europe</td>\n",
       "      <td>2024</td>\n",
       "      <td>Financial sectors</td>\n",
       "      <td>0.05</td>\n",
       "      <td>0.69</td>\n",
       "      <td>False</td>\n",
       "      <td>positive</td>\n",
       "    </tr>\n",
       "    <tr>\n",
       "      <th>24</th>\n",
       "      <td>Europe</td>\n",
       "      <td>2024</td>\n",
       "      <td>Transport and logistics</td>\n",
       "      <td>0.45</td>\n",
       "      <td>0.02</td>\n",
       "      <td>True</td>\n",
       "      <td>positive</td>\n",
       "    </tr>\n",
       "    <tr>\n",
       "      <th>25</th>\n",
       "      <td>Europe</td>\n",
       "      <td>2024</td>\n",
       "      <td>Commercial services and media</td>\n",
       "      <td>-0.34</td>\n",
       "      <td>0.06</td>\n",
       "      <td>False</td>\n",
       "      <td>negative</td>\n",
       "    </tr>\n",
       "    <tr>\n",
       "      <th>26</th>\n",
       "      <td>Europe</td>\n",
       "      <td>2024</td>\n",
       "      <td>Real estate and related services</td>\n",
       "      <td>0.12</td>\n",
       "      <td>0.48</td>\n",
       "      <td>False</td>\n",
       "      <td>positive</td>\n",
       "    </tr>\n",
       "    <tr>\n",
       "      <th>27</th>\n",
       "      <td>Europe</td>\n",
       "      <td>2024</td>\n",
       "      <td>Industrial and manufacturing sectors</td>\n",
       "      <td>-0.01</td>\n",
       "      <td>0.92</td>\n",
       "      <td>False</td>\n",
       "      <td>negative</td>\n",
       "    </tr>\n",
       "    <tr>\n",
       "      <th>28</th>\n",
       "      <td>Europe</td>\n",
       "      <td>2024</td>\n",
       "      <td>Utilities</td>\n",
       "      <td>-0.35</td>\n",
       "      <td>0.17</td>\n",
       "      <td>False</td>\n",
       "      <td>negative</td>\n",
       "    </tr>\n",
       "    <tr>\n",
       "      <th>29</th>\n",
       "      <td>Europe</td>\n",
       "      <td>2024</td>\n",
       "      <td>Energy and natural resources</td>\n",
       "      <td>-0.18</td>\n",
       "      <td>0.36</td>\n",
       "      <td>False</td>\n",
       "      <td>negative</td>\n",
       "    </tr>\n",
       "    <tr>\n",
       "      <th>30</th>\n",
       "      <td>Europe</td>\n",
       "      <td>2023</td>\n",
       "      <td>Consumer sectors (B2C)</td>\n",
       "      <td>-0.30</td>\n",
       "      <td>0.15</td>\n",
       "      <td>False</td>\n",
       "      <td>negative</td>\n",
       "    </tr>\n",
       "    <tr>\n",
       "      <th>31</th>\n",
       "      <td>Europe</td>\n",
       "      <td>2023</td>\n",
       "      <td>Technology sectors</td>\n",
       "      <td>0.29</td>\n",
       "      <td>0.07</td>\n",
       "      <td>False</td>\n",
       "      <td>positive</td>\n",
       "    </tr>\n",
       "    <tr>\n",
       "      <th>32</th>\n",
       "      <td>Europe</td>\n",
       "      <td>2023</td>\n",
       "      <td>Healthcare and well-being</td>\n",
       "      <td>-0.28</td>\n",
       "      <td>0.28</td>\n",
       "      <td>False</td>\n",
       "      <td>negative</td>\n",
       "    </tr>\n",
       "    <tr>\n",
       "      <th>33</th>\n",
       "      <td>Europe</td>\n",
       "      <td>2023</td>\n",
       "      <td>Financial sectors</td>\n",
       "      <td>-0.02</td>\n",
       "      <td>0.90</td>\n",
       "      <td>False</td>\n",
       "      <td>negative</td>\n",
       "    </tr>\n",
       "    <tr>\n",
       "      <th>34</th>\n",
       "      <td>Europe</td>\n",
       "      <td>2023</td>\n",
       "      <td>Transport and logistics</td>\n",
       "      <td>-0.09</td>\n",
       "      <td>0.69</td>\n",
       "      <td>False</td>\n",
       "      <td>negative</td>\n",
       "    </tr>\n",
       "    <tr>\n",
       "      <th>35</th>\n",
       "      <td>Europe</td>\n",
       "      <td>2023</td>\n",
       "      <td>Commercial services and media</td>\n",
       "      <td>0.42</td>\n",
       "      <td>0.08</td>\n",
       "      <td>False</td>\n",
       "      <td>positive</td>\n",
       "    </tr>\n",
       "    <tr>\n",
       "      <th>36</th>\n",
       "      <td>Europe</td>\n",
       "      <td>2023</td>\n",
       "      <td>Real estate and related services</td>\n",
       "      <td>0.35</td>\n",
       "      <td>0.10</td>\n",
       "      <td>False</td>\n",
       "      <td>positive</td>\n",
       "    </tr>\n",
       "    <tr>\n",
       "      <th>37</th>\n",
       "      <td>Europe</td>\n",
       "      <td>2023</td>\n",
       "      <td>Industrial and manufacturing sectors</td>\n",
       "      <td>-0.15</td>\n",
       "      <td>0.39</td>\n",
       "      <td>False</td>\n",
       "      <td>negative</td>\n",
       "    </tr>\n",
       "    <tr>\n",
       "      <th>38</th>\n",
       "      <td>Europe</td>\n",
       "      <td>2023</td>\n",
       "      <td>Utilities</td>\n",
       "      <td>-0.21</td>\n",
       "      <td>0.45</td>\n",
       "      <td>False</td>\n",
       "      <td>negative</td>\n",
       "    </tr>\n",
       "    <tr>\n",
       "      <th>39</th>\n",
       "      <td>Europe</td>\n",
       "      <td>2023</td>\n",
       "      <td>Energy and natural resources</td>\n",
       "      <td>-0.17</td>\n",
       "      <td>0.59</td>\n",
       "      <td>False</td>\n",
       "      <td>negative</td>\n",
       "    </tr>\n",
       "    <tr>\n",
       "      <th>40</th>\n",
       "      <td>Asia</td>\n",
       "      <td>2024</td>\n",
       "      <td>Consumer sectors (B2C)</td>\n",
       "      <td>0.04</td>\n",
       "      <td>0.58</td>\n",
       "      <td>False</td>\n",
       "      <td>positive</td>\n",
       "    </tr>\n",
       "    <tr>\n",
       "      <th>41</th>\n",
       "      <td>Asia</td>\n",
       "      <td>2024</td>\n",
       "      <td>Technology sectors</td>\n",
       "      <td>-0.28</td>\n",
       "      <td>0.00</td>\n",
       "      <td>True</td>\n",
       "      <td>negative</td>\n",
       "    </tr>\n",
       "    <tr>\n",
       "      <th>42</th>\n",
       "      <td>Asia</td>\n",
       "      <td>2024</td>\n",
       "      <td>Healthcare and well-being</td>\n",
       "      <td>-0.13</td>\n",
       "      <td>0.24</td>\n",
       "      <td>False</td>\n",
       "      <td>negative</td>\n",
       "    </tr>\n",
       "    <tr>\n",
       "      <th>43</th>\n",
       "      <td>Asia</td>\n",
       "      <td>2024</td>\n",
       "      <td>Financial sectors</td>\n",
       "      <td>-0.30</td>\n",
       "      <td>0.00</td>\n",
       "      <td>True</td>\n",
       "      <td>negative</td>\n",
       "    </tr>\n",
       "    <tr>\n",
       "      <th>44</th>\n",
       "      <td>Asia</td>\n",
       "      <td>2024</td>\n",
       "      <td>Transport and logistics</td>\n",
       "      <td>0.16</td>\n",
       "      <td>0.28</td>\n",
       "      <td>False</td>\n",
       "      <td>positive</td>\n",
       "    </tr>\n",
       "    <tr>\n",
       "      <th>45</th>\n",
       "      <td>Asia</td>\n",
       "      <td>2024</td>\n",
       "      <td>Commercial services and media</td>\n",
       "      <td>0.13</td>\n",
       "      <td>0.47</td>\n",
       "      <td>False</td>\n",
       "      <td>positive</td>\n",
       "    </tr>\n",
       "    <tr>\n",
       "      <th>46</th>\n",
       "      <td>Asia</td>\n",
       "      <td>2024</td>\n",
       "      <td>Real estate and related services</td>\n",
       "      <td>-0.12</td>\n",
       "      <td>0.31</td>\n",
       "      <td>False</td>\n",
       "      <td>negative</td>\n",
       "    </tr>\n",
       "    <tr>\n",
       "      <th>47</th>\n",
       "      <td>Asia</td>\n",
       "      <td>2024</td>\n",
       "      <td>Industrial and manufacturing sectors</td>\n",
       "      <td>-0.13</td>\n",
       "      <td>0.11</td>\n",
       "      <td>False</td>\n",
       "      <td>negative</td>\n",
       "    </tr>\n",
       "    <tr>\n",
       "      <th>48</th>\n",
       "      <td>Asia</td>\n",
       "      <td>2024</td>\n",
       "      <td>Utilities</td>\n",
       "      <td>-0.15</td>\n",
       "      <td>0.45</td>\n",
       "      <td>False</td>\n",
       "      <td>negative</td>\n",
       "    </tr>\n",
       "    <tr>\n",
       "      <th>49</th>\n",
       "      <td>Asia</td>\n",
       "      <td>2024</td>\n",
       "      <td>Energy and natural resources</td>\n",
       "      <td>-0.21</td>\n",
       "      <td>0.29</td>\n",
       "      <td>False</td>\n",
       "      <td>negative</td>\n",
       "    </tr>\n",
       "    <tr>\n",
       "      <th>50</th>\n",
       "      <td>Asia</td>\n",
       "      <td>2023</td>\n",
       "      <td>Consumer sectors (B2C)</td>\n",
       "      <td>-0.27</td>\n",
       "      <td>0.00</td>\n",
       "      <td>True</td>\n",
       "      <td>negative</td>\n",
       "    </tr>\n",
       "    <tr>\n",
       "      <th>51</th>\n",
       "      <td>Asia</td>\n",
       "      <td>2023</td>\n",
       "      <td>Technology sectors</td>\n",
       "      <td>-0.34</td>\n",
       "      <td>0.00</td>\n",
       "      <td>True</td>\n",
       "      <td>negative</td>\n",
       "    </tr>\n",
       "    <tr>\n",
       "      <th>52</th>\n",
       "      <td>Asia</td>\n",
       "      <td>2023</td>\n",
       "      <td>Healthcare and well-being</td>\n",
       "      <td>-0.07</td>\n",
       "      <td>0.55</td>\n",
       "      <td>False</td>\n",
       "      <td>negative</td>\n",
       "    </tr>\n",
       "    <tr>\n",
       "      <th>53</th>\n",
       "      <td>Asia</td>\n",
       "      <td>2023</td>\n",
       "      <td>Financial sectors</td>\n",
       "      <td>-0.11</td>\n",
       "      <td>0.37</td>\n",
       "      <td>False</td>\n",
       "      <td>negative</td>\n",
       "    </tr>\n",
       "    <tr>\n",
       "      <th>54</th>\n",
       "      <td>Asia</td>\n",
       "      <td>2023</td>\n",
       "      <td>Transport and logistics</td>\n",
       "      <td>-0.39</td>\n",
       "      <td>0.01</td>\n",
       "      <td>True</td>\n",
       "      <td>negative</td>\n",
       "    </tr>\n",
       "    <tr>\n",
       "      <th>55</th>\n",
       "      <td>Asia</td>\n",
       "      <td>2023</td>\n",
       "      <td>Commercial services and media</td>\n",
       "      <td>-0.32</td>\n",
       "      <td>0.06</td>\n",
       "      <td>False</td>\n",
       "      <td>negative</td>\n",
       "    </tr>\n",
       "    <tr>\n",
       "      <th>56</th>\n",
       "      <td>Asia</td>\n",
       "      <td>2023</td>\n",
       "      <td>Real estate and related services</td>\n",
       "      <td>-0.10</td>\n",
       "      <td>0.47</td>\n",
       "      <td>False</td>\n",
       "      <td>negative</td>\n",
       "    </tr>\n",
       "    <tr>\n",
       "      <th>57</th>\n",
       "      <td>Asia</td>\n",
       "      <td>2023</td>\n",
       "      <td>Industrial and manufacturing sectors</td>\n",
       "      <td>-0.01</td>\n",
       "      <td>0.87</td>\n",
       "      <td>False</td>\n",
       "      <td>negative</td>\n",
       "    </tr>\n",
       "    <tr>\n",
       "      <th>58</th>\n",
       "      <td>Asia</td>\n",
       "      <td>2023</td>\n",
       "      <td>Utilities</td>\n",
       "      <td>-0.11</td>\n",
       "      <td>0.65</td>\n",
       "      <td>False</td>\n",
       "      <td>negative</td>\n",
       "    </tr>\n",
       "    <tr>\n",
       "      <th>59</th>\n",
       "      <td>Asia</td>\n",
       "      <td>2023</td>\n",
       "      <td>Energy and natural resources</td>\n",
       "      <td>-0.03</td>\n",
       "      <td>0.88</td>\n",
       "      <td>False</td>\n",
       "      <td>negative</td>\n",
       "    </tr>\n",
       "  </tbody>\n",
       "</table>\n",
       "</div>"
      ],
      "text/plain": [
       "        continent  Year                                sector  correlation  \\\n",
       "0   North America  2024                Consumer sectors (B2C)        -0.05   \n",
       "1   North America  2024                    Technology sectors        -0.35   \n",
       "2   North America  2024             Healthcare and well-being        -0.33   \n",
       "3   North America  2024                     Financial sectors        -0.29   \n",
       "4   North America  2024               Transport and logistics        -0.42   \n",
       "5   North America  2024         Commercial services and media         0.04   \n",
       "6   North America  2024      Real estate and related services        -0.03   \n",
       "7   North America  2024  Industrial and manufacturing sectors        -0.15   \n",
       "8   North America  2024                             Utilities         0.20   \n",
       "9   North America  2024          Energy and natural resources         0.07   \n",
       "10  North America  2023                Consumer sectors (B2C)        -0.31   \n",
       "11  North America  2023                    Technology sectors        -0.37   \n",
       "12  North America  2023             Healthcare and well-being        -0.30   \n",
       "13  North America  2023                     Financial sectors        -0.17   \n",
       "14  North America  2023               Transport and logistics        -0.36   \n",
       "15  North America  2023         Commercial services and media        -0.09   \n",
       "16  North America  2023      Real estate and related services        -0.13   \n",
       "17  North America  2023  Industrial and manufacturing sectors        -0.38   \n",
       "18  North America  2023                             Utilities        -0.06   \n",
       "19  North America  2023          Energy and natural resources        -0.13   \n",
       "20         Europe  2024                Consumer sectors (B2C)        -0.07   \n",
       "21         Europe  2024                    Technology sectors        -0.07   \n",
       "22         Europe  2024             Healthcare and well-being        -0.31   \n",
       "23         Europe  2024                     Financial sectors         0.05   \n",
       "24         Europe  2024               Transport and logistics         0.45   \n",
       "25         Europe  2024         Commercial services and media        -0.34   \n",
       "26         Europe  2024      Real estate and related services         0.12   \n",
       "27         Europe  2024  Industrial and manufacturing sectors        -0.01   \n",
       "28         Europe  2024                             Utilities        -0.35   \n",
       "29         Europe  2024          Energy and natural resources        -0.18   \n",
       "30         Europe  2023                Consumer sectors (B2C)        -0.30   \n",
       "31         Europe  2023                    Technology sectors         0.29   \n",
       "32         Europe  2023             Healthcare and well-being        -0.28   \n",
       "33         Europe  2023                     Financial sectors        -0.02   \n",
       "34         Europe  2023               Transport and logistics        -0.09   \n",
       "35         Europe  2023         Commercial services and media         0.42   \n",
       "36         Europe  2023      Real estate and related services         0.35   \n",
       "37         Europe  2023  Industrial and manufacturing sectors        -0.15   \n",
       "38         Europe  2023                             Utilities        -0.21   \n",
       "39         Europe  2023          Energy and natural resources        -0.17   \n",
       "40           Asia  2024                Consumer sectors (B2C)         0.04   \n",
       "41           Asia  2024                    Technology sectors        -0.28   \n",
       "42           Asia  2024             Healthcare and well-being        -0.13   \n",
       "43           Asia  2024                     Financial sectors        -0.30   \n",
       "44           Asia  2024               Transport and logistics         0.16   \n",
       "45           Asia  2024         Commercial services and media         0.13   \n",
       "46           Asia  2024      Real estate and related services        -0.12   \n",
       "47           Asia  2024  Industrial and manufacturing sectors        -0.13   \n",
       "48           Asia  2024                             Utilities        -0.15   \n",
       "49           Asia  2024          Energy and natural resources        -0.21   \n",
       "50           Asia  2023                Consumer sectors (B2C)        -0.27   \n",
       "51           Asia  2023                    Technology sectors        -0.34   \n",
       "52           Asia  2023             Healthcare and well-being        -0.07   \n",
       "53           Asia  2023                     Financial sectors        -0.11   \n",
       "54           Asia  2023               Transport and logistics        -0.39   \n",
       "55           Asia  2023         Commercial services and media        -0.32   \n",
       "56           Asia  2023      Real estate and related services        -0.10   \n",
       "57           Asia  2023  Industrial and manufacturing sectors        -0.01   \n",
       "58           Asia  2023                             Utilities        -0.11   \n",
       "59           Asia  2023          Energy and natural resources        -0.03   \n",
       "\n",
       "    p_value  significant direction  \n",
       "0      0.67        False  negative  \n",
       "1      0.00         True  negative  \n",
       "2      0.00         True  negative  \n",
       "3      0.01         True  negative  \n",
       "4      0.03         True  negative  \n",
       "5      0.83        False  positive  \n",
       "6      0.81        False  negative  \n",
       "7      0.26        False  negative  \n",
       "8      0.32        False  positive  \n",
       "9      0.59        False  positive  \n",
       "10     0.02         True  negative  \n",
       "11     0.00         True  negative  \n",
       "12     0.01         True  negative  \n",
       "13     0.10        False  negative  \n",
       "14     0.12        False  negative  \n",
       "15     0.65        False  negative  \n",
       "16     0.40        False  negative  \n",
       "17     0.03         True  negative  \n",
       "18     0.83        False  negative  \n",
       "19     0.46        False  negative  \n",
       "20     0.53        False  negative  \n",
       "21     0.52        False  negative  \n",
       "22     0.01         True  negative  \n",
       "23     0.69        False  positive  \n",
       "24     0.02         True  positive  \n",
       "25     0.06        False  negative  \n",
       "26     0.48        False  positive  \n",
       "27     0.92        False  negative  \n",
       "28     0.17        False  negative  \n",
       "29     0.36        False  negative  \n",
       "30     0.15        False  negative  \n",
       "31     0.07        False  positive  \n",
       "32     0.28        False  negative  \n",
       "33     0.90        False  negative  \n",
       "34     0.69        False  negative  \n",
       "35     0.08        False  positive  \n",
       "36     0.10        False  positive  \n",
       "37     0.39        False  negative  \n",
       "38     0.45        False  negative  \n",
       "39     0.59        False  negative  \n",
       "40     0.58        False  positive  \n",
       "41     0.00         True  negative  \n",
       "42     0.24        False  negative  \n",
       "43     0.00         True  negative  \n",
       "44     0.28        False  positive  \n",
       "45     0.47        False  positive  \n",
       "46     0.31        False  negative  \n",
       "47     0.11        False  negative  \n",
       "48     0.45        False  negative  \n",
       "49     0.29        False  negative  \n",
       "50     0.00         True  negative  \n",
       "51     0.00         True  negative  \n",
       "52     0.55        False  negative  \n",
       "53     0.37        False  negative  \n",
       "54     0.01         True  negative  \n",
       "55     0.06        False  negative  \n",
       "56     0.47        False  negative  \n",
       "57     0.87        False  negative  \n",
       "58     0.65        False  negative  \n",
       "59     0.88        False  negative  "
      ]
     },
     "execution_count": 24,
     "metadata": {},
     "output_type": "execute_result"
    }
   ],
   "source": [
    "def summarize_correlations(dataframe, column1, column2):\n",
    "    \"\"\" \n",
    "    Cette fonction a pour but de résumer les corrélations pour chaque combinaison de continent, année et secteur\n",
    "\n",
    "    dataframe : Le Dataframe que l'on souhaite analyser\n",
    "\n",
    "    Return : Un Dataframe contenant les résultats\n",
    "\n",
    "    \"\"\"\n",
    "    results = []\n",
    "    for continent in dataframe['continent'].unique():\n",
    "        for year in dataframe['Year'].unique():\n",
    "            for sector in dataframe['global_industry'].unique():\n",
    "                subset = dataframe[(dataframe['continent'] == continent) & \n",
    "                                   (dataframe['Year'] == year) & \n",
    "                                   (dataframe['global_industry'] == sector)]\n",
    "                if len(subset) > 1:                     \n",
    "                    corr, p_value = spearmanr(subset[column1], subset[column2])\n",
    "                    result = {\n",
    "                        'continent': continent,\n",
    "                        'Year': year,\n",
    "                        'sector': sector,\n",
    "                        'correlation': np.round(corr, 2),\n",
    "                        'p_value': np.round(p_value, 2),\n",
    "                        'significant': p_value < 0.05,\n",
    "                        'direction': 'positive' if corr > 0 else 'negative'\n",
    "                    }\n",
    "                    results.append(result)\n",
    "\n",
    "    results_df = pd.DataFrame(results)\n",
    "    return results_df\n",
    "\n",
    "df_corr_global = summarize_correlations(df, 'roe_num', 'grade')\n",
    "df_corr_global"
   ]
  },
  {
   "cell_type": "code",
   "execution_count": 25,
   "metadata": {},
   "outputs": [
    {
     "data": {
      "application/vnd.plotly.v1+json": {
       "config": {
        "plotlyServerURL": "https://plot.ly"
       },
       "data": [
        {
         "domain": {
          "x": [
           0,
           1
          ],
          "y": [
           0,
           1
          ]
         },
         "hovertemplate": "Significant=%{label}<br>Count=%{value}<extra></extra>",
         "labels": [
          "No",
          "Yes"
         ],
         "legendgroup": "",
         "name": "",
         "showlegend": true,
         "textinfo": "label+value",
         "type": "pie",
         "values": [
          12,
          8
         ]
        }
       ],
       "layout": {
        "height": 600,
        "legend": {
         "title": {
          "text": "Is there a correlation?"
         },
         "tracegroupgap": 0
        },
        "template": {
         "data": {
          "bar": [
           {
            "error_x": {
             "color": "#2a3f5f"
            },
            "error_y": {
             "color": "#2a3f5f"
            },
            "marker": {
             "line": {
              "color": "#E5ECF6",
              "width": 0.5
             },
             "pattern": {
              "fillmode": "overlay",
              "size": 10,
              "solidity": 0.2
             }
            },
            "type": "bar"
           }
          ],
          "barpolar": [
           {
            "marker": {
             "line": {
              "color": "#E5ECF6",
              "width": 0.5
             },
             "pattern": {
              "fillmode": "overlay",
              "size": 10,
              "solidity": 0.2
             }
            },
            "type": "barpolar"
           }
          ],
          "carpet": [
           {
            "aaxis": {
             "endlinecolor": "#2a3f5f",
             "gridcolor": "white",
             "linecolor": "white",
             "minorgridcolor": "white",
             "startlinecolor": "#2a3f5f"
            },
            "baxis": {
             "endlinecolor": "#2a3f5f",
             "gridcolor": "white",
             "linecolor": "white",
             "minorgridcolor": "white",
             "startlinecolor": "#2a3f5f"
            },
            "type": "carpet"
           }
          ],
          "choropleth": [
           {
            "colorbar": {
             "outlinewidth": 0,
             "ticks": ""
            },
            "type": "choropleth"
           }
          ],
          "contour": [
           {
            "colorbar": {
             "outlinewidth": 0,
             "ticks": ""
            },
            "colorscale": [
             [
              0,
              "#0d0887"
             ],
             [
              0.1111111111111111,
              "#46039f"
             ],
             [
              0.2222222222222222,
              "#7201a8"
             ],
             [
              0.3333333333333333,
              "#9c179e"
             ],
             [
              0.4444444444444444,
              "#bd3786"
             ],
             [
              0.5555555555555556,
              "#d8576b"
             ],
             [
              0.6666666666666666,
              "#ed7953"
             ],
             [
              0.7777777777777778,
              "#fb9f3a"
             ],
             [
              0.8888888888888888,
              "#fdca26"
             ],
             [
              1,
              "#f0f921"
             ]
            ],
            "type": "contour"
           }
          ],
          "contourcarpet": [
           {
            "colorbar": {
             "outlinewidth": 0,
             "ticks": ""
            },
            "type": "contourcarpet"
           }
          ],
          "heatmap": [
           {
            "colorbar": {
             "outlinewidth": 0,
             "ticks": ""
            },
            "colorscale": [
             [
              0,
              "#0d0887"
             ],
             [
              0.1111111111111111,
              "#46039f"
             ],
             [
              0.2222222222222222,
              "#7201a8"
             ],
             [
              0.3333333333333333,
              "#9c179e"
             ],
             [
              0.4444444444444444,
              "#bd3786"
             ],
             [
              0.5555555555555556,
              "#d8576b"
             ],
             [
              0.6666666666666666,
              "#ed7953"
             ],
             [
              0.7777777777777778,
              "#fb9f3a"
             ],
             [
              0.8888888888888888,
              "#fdca26"
             ],
             [
              1,
              "#f0f921"
             ]
            ],
            "type": "heatmap"
           }
          ],
          "heatmapgl": [
           {
            "colorbar": {
             "outlinewidth": 0,
             "ticks": ""
            },
            "colorscale": [
             [
              0,
              "#0d0887"
             ],
             [
              0.1111111111111111,
              "#46039f"
             ],
             [
              0.2222222222222222,
              "#7201a8"
             ],
             [
              0.3333333333333333,
              "#9c179e"
             ],
             [
              0.4444444444444444,
              "#bd3786"
             ],
             [
              0.5555555555555556,
              "#d8576b"
             ],
             [
              0.6666666666666666,
              "#ed7953"
             ],
             [
              0.7777777777777778,
              "#fb9f3a"
             ],
             [
              0.8888888888888888,
              "#fdca26"
             ],
             [
              1,
              "#f0f921"
             ]
            ],
            "type": "heatmapgl"
           }
          ],
          "histogram": [
           {
            "marker": {
             "pattern": {
              "fillmode": "overlay",
              "size": 10,
              "solidity": 0.2
             }
            },
            "type": "histogram"
           }
          ],
          "histogram2d": [
           {
            "colorbar": {
             "outlinewidth": 0,
             "ticks": ""
            },
            "colorscale": [
             [
              0,
              "#0d0887"
             ],
             [
              0.1111111111111111,
              "#46039f"
             ],
             [
              0.2222222222222222,
              "#7201a8"
             ],
             [
              0.3333333333333333,
              "#9c179e"
             ],
             [
              0.4444444444444444,
              "#bd3786"
             ],
             [
              0.5555555555555556,
              "#d8576b"
             ],
             [
              0.6666666666666666,
              "#ed7953"
             ],
             [
              0.7777777777777778,
              "#fb9f3a"
             ],
             [
              0.8888888888888888,
              "#fdca26"
             ],
             [
              1,
              "#f0f921"
             ]
            ],
            "type": "histogram2d"
           }
          ],
          "histogram2dcontour": [
           {
            "colorbar": {
             "outlinewidth": 0,
             "ticks": ""
            },
            "colorscale": [
             [
              0,
              "#0d0887"
             ],
             [
              0.1111111111111111,
              "#46039f"
             ],
             [
              0.2222222222222222,
              "#7201a8"
             ],
             [
              0.3333333333333333,
              "#9c179e"
             ],
             [
              0.4444444444444444,
              "#bd3786"
             ],
             [
              0.5555555555555556,
              "#d8576b"
             ],
             [
              0.6666666666666666,
              "#ed7953"
             ],
             [
              0.7777777777777778,
              "#fb9f3a"
             ],
             [
              0.8888888888888888,
              "#fdca26"
             ],
             [
              1,
              "#f0f921"
             ]
            ],
            "type": "histogram2dcontour"
           }
          ],
          "mesh3d": [
           {
            "colorbar": {
             "outlinewidth": 0,
             "ticks": ""
            },
            "type": "mesh3d"
           }
          ],
          "parcoords": [
           {
            "line": {
             "colorbar": {
              "outlinewidth": 0,
              "ticks": ""
             }
            },
            "type": "parcoords"
           }
          ],
          "pie": [
           {
            "automargin": true,
            "type": "pie"
           }
          ],
          "scatter": [
           {
            "fillpattern": {
             "fillmode": "overlay",
             "size": 10,
             "solidity": 0.2
            },
            "type": "scatter"
           }
          ],
          "scatter3d": [
           {
            "line": {
             "colorbar": {
              "outlinewidth": 0,
              "ticks": ""
             }
            },
            "marker": {
             "colorbar": {
              "outlinewidth": 0,
              "ticks": ""
             }
            },
            "type": "scatter3d"
           }
          ],
          "scattercarpet": [
           {
            "marker": {
             "colorbar": {
              "outlinewidth": 0,
              "ticks": ""
             }
            },
            "type": "scattercarpet"
           }
          ],
          "scattergeo": [
           {
            "marker": {
             "colorbar": {
              "outlinewidth": 0,
              "ticks": ""
             }
            },
            "type": "scattergeo"
           }
          ],
          "scattergl": [
           {
            "marker": {
             "colorbar": {
              "outlinewidth": 0,
              "ticks": ""
             }
            },
            "type": "scattergl"
           }
          ],
          "scattermapbox": [
           {
            "marker": {
             "colorbar": {
              "outlinewidth": 0,
              "ticks": ""
             }
            },
            "type": "scattermapbox"
           }
          ],
          "scatterpolar": [
           {
            "marker": {
             "colorbar": {
              "outlinewidth": 0,
              "ticks": ""
             }
            },
            "type": "scatterpolar"
           }
          ],
          "scatterpolargl": [
           {
            "marker": {
             "colorbar": {
              "outlinewidth": 0,
              "ticks": ""
             }
            },
            "type": "scatterpolargl"
           }
          ],
          "scatterternary": [
           {
            "marker": {
             "colorbar": {
              "outlinewidth": 0,
              "ticks": ""
             }
            },
            "type": "scatterternary"
           }
          ],
          "surface": [
           {
            "colorbar": {
             "outlinewidth": 0,
             "ticks": ""
            },
            "colorscale": [
             [
              0,
              "#0d0887"
             ],
             [
              0.1111111111111111,
              "#46039f"
             ],
             [
              0.2222222222222222,
              "#7201a8"
             ],
             [
              0.3333333333333333,
              "#9c179e"
             ],
             [
              0.4444444444444444,
              "#bd3786"
             ],
             [
              0.5555555555555556,
              "#d8576b"
             ],
             [
              0.6666666666666666,
              "#ed7953"
             ],
             [
              0.7777777777777778,
              "#fb9f3a"
             ],
             [
              0.8888888888888888,
              "#fdca26"
             ],
             [
              1,
              "#f0f921"
             ]
            ],
            "type": "surface"
           }
          ],
          "table": [
           {
            "cells": {
             "fill": {
              "color": "#EBF0F8"
             },
             "line": {
              "color": "white"
             }
            },
            "header": {
             "fill": {
              "color": "#C8D4E3"
             },
             "line": {
              "color": "white"
             }
            },
            "type": "table"
           }
          ]
         },
         "layout": {
          "annotationdefaults": {
           "arrowcolor": "#2a3f5f",
           "arrowhead": 0,
           "arrowwidth": 1
          },
          "autotypenumbers": "strict",
          "coloraxis": {
           "colorbar": {
            "outlinewidth": 0,
            "ticks": ""
           }
          },
          "colorscale": {
           "diverging": [
            [
             0,
             "#8e0152"
            ],
            [
             0.1,
             "#c51b7d"
            ],
            [
             0.2,
             "#de77ae"
            ],
            [
             0.3,
             "#f1b6da"
            ],
            [
             0.4,
             "#fde0ef"
            ],
            [
             0.5,
             "#f7f7f7"
            ],
            [
             0.6,
             "#e6f5d0"
            ],
            [
             0.7,
             "#b8e186"
            ],
            [
             0.8,
             "#7fbc41"
            ],
            [
             0.9,
             "#4d9221"
            ],
            [
             1,
             "#276419"
            ]
           ],
           "sequential": [
            [
             0,
             "#0d0887"
            ],
            [
             0.1111111111111111,
             "#46039f"
            ],
            [
             0.2222222222222222,
             "#7201a8"
            ],
            [
             0.3333333333333333,
             "#9c179e"
            ],
            [
             0.4444444444444444,
             "#bd3786"
            ],
            [
             0.5555555555555556,
             "#d8576b"
            ],
            [
             0.6666666666666666,
             "#ed7953"
            ],
            [
             0.7777777777777778,
             "#fb9f3a"
            ],
            [
             0.8888888888888888,
             "#fdca26"
            ],
            [
             1,
             "#f0f921"
            ]
           ],
           "sequentialminus": [
            [
             0,
             "#0d0887"
            ],
            [
             0.1111111111111111,
             "#46039f"
            ],
            [
             0.2222222222222222,
             "#7201a8"
            ],
            [
             0.3333333333333333,
             "#9c179e"
            ],
            [
             0.4444444444444444,
             "#bd3786"
            ],
            [
             0.5555555555555556,
             "#d8576b"
            ],
            [
             0.6666666666666666,
             "#ed7953"
            ],
            [
             0.7777777777777778,
             "#fb9f3a"
            ],
            [
             0.8888888888888888,
             "#fdca26"
            ],
            [
             1,
             "#f0f921"
            ]
           ]
          },
          "colorway": [
           "#636efa",
           "#EF553B",
           "#00cc96",
           "#ab63fa",
           "#FFA15A",
           "#19d3f3",
           "#FF6692",
           "#B6E880",
           "#FF97FF",
           "#FECB52"
          ],
          "font": {
           "color": "#2a3f5f"
          },
          "geo": {
           "bgcolor": "white",
           "lakecolor": "white",
           "landcolor": "#E5ECF6",
           "showlakes": true,
           "showland": true,
           "subunitcolor": "white"
          },
          "hoverlabel": {
           "align": "left"
          },
          "hovermode": "closest",
          "mapbox": {
           "style": "light"
          },
          "paper_bgcolor": "white",
          "plot_bgcolor": "#E5ECF6",
          "polar": {
           "angularaxis": {
            "gridcolor": "white",
            "linecolor": "white",
            "ticks": ""
           },
           "bgcolor": "#E5ECF6",
           "radialaxis": {
            "gridcolor": "white",
            "linecolor": "white",
            "ticks": ""
           }
          },
          "scene": {
           "xaxis": {
            "backgroundcolor": "#E5ECF6",
            "gridcolor": "white",
            "gridwidth": 2,
            "linecolor": "white",
            "showbackground": true,
            "ticks": "",
            "zerolinecolor": "white"
           },
           "yaxis": {
            "backgroundcolor": "#E5ECF6",
            "gridcolor": "white",
            "gridwidth": 2,
            "linecolor": "white",
            "showbackground": true,
            "ticks": "",
            "zerolinecolor": "white"
           },
           "zaxis": {
            "backgroundcolor": "#E5ECF6",
            "gridcolor": "white",
            "gridwidth": 2,
            "linecolor": "white",
            "showbackground": true,
            "ticks": "",
            "zerolinecolor": "white"
           }
          },
          "shapedefaults": {
           "line": {
            "color": "#2a3f5f"
           }
          },
          "ternary": {
           "aaxis": {
            "gridcolor": "white",
            "linecolor": "white",
            "ticks": ""
           },
           "baxis": {
            "gridcolor": "white",
            "linecolor": "white",
            "ticks": ""
           },
           "bgcolor": "#E5ECF6",
           "caxis": {
            "gridcolor": "white",
            "linecolor": "white",
            "ticks": ""
           }
          },
          "title": {
           "x": 0.05
          },
          "xaxis": {
           "automargin": true,
           "gridcolor": "white",
           "linecolor": "white",
           "ticks": "",
           "title": {
            "standoff": 15
           },
           "zerolinecolor": "white",
           "zerolinewidth": 2
          },
          "yaxis": {
           "automargin": true,
           "gridcolor": "white",
           "linecolor": "white",
           "ticks": "",
           "title": {
            "standoff": 15
           },
           "zerolinecolor": "white",
           "zerolinewidth": 2
          }
         }
        },
        "title": {
         "text": "Significance Proportion for North America"
        },
        "width": 800
       }
      }
     },
     "metadata": {},
     "output_type": "display_data"
    },
    {
     "data": {
      "application/vnd.plotly.v1+json": {
       "config": {
        "plotlyServerURL": "https://plot.ly"
       },
       "data": [
        {
         "domain": {
          "x": [
           0,
           1
          ],
          "y": [
           0,
           1
          ]
         },
         "hovertemplate": "Significant=%{label}<br>Count=%{value}<extra></extra>",
         "labels": [
          "No",
          "Yes"
         ],
         "legendgroup": "",
         "name": "",
         "showlegend": true,
         "textinfo": "label+value",
         "type": "pie",
         "values": [
          18,
          2
         ]
        }
       ],
       "layout": {
        "height": 600,
        "legend": {
         "title": {
          "text": "Is there a correlation?"
         },
         "tracegroupgap": 0
        },
        "template": {
         "data": {
          "bar": [
           {
            "error_x": {
             "color": "#2a3f5f"
            },
            "error_y": {
             "color": "#2a3f5f"
            },
            "marker": {
             "line": {
              "color": "#E5ECF6",
              "width": 0.5
             },
             "pattern": {
              "fillmode": "overlay",
              "size": 10,
              "solidity": 0.2
             }
            },
            "type": "bar"
           }
          ],
          "barpolar": [
           {
            "marker": {
             "line": {
              "color": "#E5ECF6",
              "width": 0.5
             },
             "pattern": {
              "fillmode": "overlay",
              "size": 10,
              "solidity": 0.2
             }
            },
            "type": "barpolar"
           }
          ],
          "carpet": [
           {
            "aaxis": {
             "endlinecolor": "#2a3f5f",
             "gridcolor": "white",
             "linecolor": "white",
             "minorgridcolor": "white",
             "startlinecolor": "#2a3f5f"
            },
            "baxis": {
             "endlinecolor": "#2a3f5f",
             "gridcolor": "white",
             "linecolor": "white",
             "minorgridcolor": "white",
             "startlinecolor": "#2a3f5f"
            },
            "type": "carpet"
           }
          ],
          "choropleth": [
           {
            "colorbar": {
             "outlinewidth": 0,
             "ticks": ""
            },
            "type": "choropleth"
           }
          ],
          "contour": [
           {
            "colorbar": {
             "outlinewidth": 0,
             "ticks": ""
            },
            "colorscale": [
             [
              0,
              "#0d0887"
             ],
             [
              0.1111111111111111,
              "#46039f"
             ],
             [
              0.2222222222222222,
              "#7201a8"
             ],
             [
              0.3333333333333333,
              "#9c179e"
             ],
             [
              0.4444444444444444,
              "#bd3786"
             ],
             [
              0.5555555555555556,
              "#d8576b"
             ],
             [
              0.6666666666666666,
              "#ed7953"
             ],
             [
              0.7777777777777778,
              "#fb9f3a"
             ],
             [
              0.8888888888888888,
              "#fdca26"
             ],
             [
              1,
              "#f0f921"
             ]
            ],
            "type": "contour"
           }
          ],
          "contourcarpet": [
           {
            "colorbar": {
             "outlinewidth": 0,
             "ticks": ""
            },
            "type": "contourcarpet"
           }
          ],
          "heatmap": [
           {
            "colorbar": {
             "outlinewidth": 0,
             "ticks": ""
            },
            "colorscale": [
             [
              0,
              "#0d0887"
             ],
             [
              0.1111111111111111,
              "#46039f"
             ],
             [
              0.2222222222222222,
              "#7201a8"
             ],
             [
              0.3333333333333333,
              "#9c179e"
             ],
             [
              0.4444444444444444,
              "#bd3786"
             ],
             [
              0.5555555555555556,
              "#d8576b"
             ],
             [
              0.6666666666666666,
              "#ed7953"
             ],
             [
              0.7777777777777778,
              "#fb9f3a"
             ],
             [
              0.8888888888888888,
              "#fdca26"
             ],
             [
              1,
              "#f0f921"
             ]
            ],
            "type": "heatmap"
           }
          ],
          "heatmapgl": [
           {
            "colorbar": {
             "outlinewidth": 0,
             "ticks": ""
            },
            "colorscale": [
             [
              0,
              "#0d0887"
             ],
             [
              0.1111111111111111,
              "#46039f"
             ],
             [
              0.2222222222222222,
              "#7201a8"
             ],
             [
              0.3333333333333333,
              "#9c179e"
             ],
             [
              0.4444444444444444,
              "#bd3786"
             ],
             [
              0.5555555555555556,
              "#d8576b"
             ],
             [
              0.6666666666666666,
              "#ed7953"
             ],
             [
              0.7777777777777778,
              "#fb9f3a"
             ],
             [
              0.8888888888888888,
              "#fdca26"
             ],
             [
              1,
              "#f0f921"
             ]
            ],
            "type": "heatmapgl"
           }
          ],
          "histogram": [
           {
            "marker": {
             "pattern": {
              "fillmode": "overlay",
              "size": 10,
              "solidity": 0.2
             }
            },
            "type": "histogram"
           }
          ],
          "histogram2d": [
           {
            "colorbar": {
             "outlinewidth": 0,
             "ticks": ""
            },
            "colorscale": [
             [
              0,
              "#0d0887"
             ],
             [
              0.1111111111111111,
              "#46039f"
             ],
             [
              0.2222222222222222,
              "#7201a8"
             ],
             [
              0.3333333333333333,
              "#9c179e"
             ],
             [
              0.4444444444444444,
              "#bd3786"
             ],
             [
              0.5555555555555556,
              "#d8576b"
             ],
             [
              0.6666666666666666,
              "#ed7953"
             ],
             [
              0.7777777777777778,
              "#fb9f3a"
             ],
             [
              0.8888888888888888,
              "#fdca26"
             ],
             [
              1,
              "#f0f921"
             ]
            ],
            "type": "histogram2d"
           }
          ],
          "histogram2dcontour": [
           {
            "colorbar": {
             "outlinewidth": 0,
             "ticks": ""
            },
            "colorscale": [
             [
              0,
              "#0d0887"
             ],
             [
              0.1111111111111111,
              "#46039f"
             ],
             [
              0.2222222222222222,
              "#7201a8"
             ],
             [
              0.3333333333333333,
              "#9c179e"
             ],
             [
              0.4444444444444444,
              "#bd3786"
             ],
             [
              0.5555555555555556,
              "#d8576b"
             ],
             [
              0.6666666666666666,
              "#ed7953"
             ],
             [
              0.7777777777777778,
              "#fb9f3a"
             ],
             [
              0.8888888888888888,
              "#fdca26"
             ],
             [
              1,
              "#f0f921"
             ]
            ],
            "type": "histogram2dcontour"
           }
          ],
          "mesh3d": [
           {
            "colorbar": {
             "outlinewidth": 0,
             "ticks": ""
            },
            "type": "mesh3d"
           }
          ],
          "parcoords": [
           {
            "line": {
             "colorbar": {
              "outlinewidth": 0,
              "ticks": ""
             }
            },
            "type": "parcoords"
           }
          ],
          "pie": [
           {
            "automargin": true,
            "type": "pie"
           }
          ],
          "scatter": [
           {
            "fillpattern": {
             "fillmode": "overlay",
             "size": 10,
             "solidity": 0.2
            },
            "type": "scatter"
           }
          ],
          "scatter3d": [
           {
            "line": {
             "colorbar": {
              "outlinewidth": 0,
              "ticks": ""
             }
            },
            "marker": {
             "colorbar": {
              "outlinewidth": 0,
              "ticks": ""
             }
            },
            "type": "scatter3d"
           }
          ],
          "scattercarpet": [
           {
            "marker": {
             "colorbar": {
              "outlinewidth": 0,
              "ticks": ""
             }
            },
            "type": "scattercarpet"
           }
          ],
          "scattergeo": [
           {
            "marker": {
             "colorbar": {
              "outlinewidth": 0,
              "ticks": ""
             }
            },
            "type": "scattergeo"
           }
          ],
          "scattergl": [
           {
            "marker": {
             "colorbar": {
              "outlinewidth": 0,
              "ticks": ""
             }
            },
            "type": "scattergl"
           }
          ],
          "scattermapbox": [
           {
            "marker": {
             "colorbar": {
              "outlinewidth": 0,
              "ticks": ""
             }
            },
            "type": "scattermapbox"
           }
          ],
          "scatterpolar": [
           {
            "marker": {
             "colorbar": {
              "outlinewidth": 0,
              "ticks": ""
             }
            },
            "type": "scatterpolar"
           }
          ],
          "scatterpolargl": [
           {
            "marker": {
             "colorbar": {
              "outlinewidth": 0,
              "ticks": ""
             }
            },
            "type": "scatterpolargl"
           }
          ],
          "scatterternary": [
           {
            "marker": {
             "colorbar": {
              "outlinewidth": 0,
              "ticks": ""
             }
            },
            "type": "scatterternary"
           }
          ],
          "surface": [
           {
            "colorbar": {
             "outlinewidth": 0,
             "ticks": ""
            },
            "colorscale": [
             [
              0,
              "#0d0887"
             ],
             [
              0.1111111111111111,
              "#46039f"
             ],
             [
              0.2222222222222222,
              "#7201a8"
             ],
             [
              0.3333333333333333,
              "#9c179e"
             ],
             [
              0.4444444444444444,
              "#bd3786"
             ],
             [
              0.5555555555555556,
              "#d8576b"
             ],
             [
              0.6666666666666666,
              "#ed7953"
             ],
             [
              0.7777777777777778,
              "#fb9f3a"
             ],
             [
              0.8888888888888888,
              "#fdca26"
             ],
             [
              1,
              "#f0f921"
             ]
            ],
            "type": "surface"
           }
          ],
          "table": [
           {
            "cells": {
             "fill": {
              "color": "#EBF0F8"
             },
             "line": {
              "color": "white"
             }
            },
            "header": {
             "fill": {
              "color": "#C8D4E3"
             },
             "line": {
              "color": "white"
             }
            },
            "type": "table"
           }
          ]
         },
         "layout": {
          "annotationdefaults": {
           "arrowcolor": "#2a3f5f",
           "arrowhead": 0,
           "arrowwidth": 1
          },
          "autotypenumbers": "strict",
          "coloraxis": {
           "colorbar": {
            "outlinewidth": 0,
            "ticks": ""
           }
          },
          "colorscale": {
           "diverging": [
            [
             0,
             "#8e0152"
            ],
            [
             0.1,
             "#c51b7d"
            ],
            [
             0.2,
             "#de77ae"
            ],
            [
             0.3,
             "#f1b6da"
            ],
            [
             0.4,
             "#fde0ef"
            ],
            [
             0.5,
             "#f7f7f7"
            ],
            [
             0.6,
             "#e6f5d0"
            ],
            [
             0.7,
             "#b8e186"
            ],
            [
             0.8,
             "#7fbc41"
            ],
            [
             0.9,
             "#4d9221"
            ],
            [
             1,
             "#276419"
            ]
           ],
           "sequential": [
            [
             0,
             "#0d0887"
            ],
            [
             0.1111111111111111,
             "#46039f"
            ],
            [
             0.2222222222222222,
             "#7201a8"
            ],
            [
             0.3333333333333333,
             "#9c179e"
            ],
            [
             0.4444444444444444,
             "#bd3786"
            ],
            [
             0.5555555555555556,
             "#d8576b"
            ],
            [
             0.6666666666666666,
             "#ed7953"
            ],
            [
             0.7777777777777778,
             "#fb9f3a"
            ],
            [
             0.8888888888888888,
             "#fdca26"
            ],
            [
             1,
             "#f0f921"
            ]
           ],
           "sequentialminus": [
            [
             0,
             "#0d0887"
            ],
            [
             0.1111111111111111,
             "#46039f"
            ],
            [
             0.2222222222222222,
             "#7201a8"
            ],
            [
             0.3333333333333333,
             "#9c179e"
            ],
            [
             0.4444444444444444,
             "#bd3786"
            ],
            [
             0.5555555555555556,
             "#d8576b"
            ],
            [
             0.6666666666666666,
             "#ed7953"
            ],
            [
             0.7777777777777778,
             "#fb9f3a"
            ],
            [
             0.8888888888888888,
             "#fdca26"
            ],
            [
             1,
             "#f0f921"
            ]
           ]
          },
          "colorway": [
           "#636efa",
           "#EF553B",
           "#00cc96",
           "#ab63fa",
           "#FFA15A",
           "#19d3f3",
           "#FF6692",
           "#B6E880",
           "#FF97FF",
           "#FECB52"
          ],
          "font": {
           "color": "#2a3f5f"
          },
          "geo": {
           "bgcolor": "white",
           "lakecolor": "white",
           "landcolor": "#E5ECF6",
           "showlakes": true,
           "showland": true,
           "subunitcolor": "white"
          },
          "hoverlabel": {
           "align": "left"
          },
          "hovermode": "closest",
          "mapbox": {
           "style": "light"
          },
          "paper_bgcolor": "white",
          "plot_bgcolor": "#E5ECF6",
          "polar": {
           "angularaxis": {
            "gridcolor": "white",
            "linecolor": "white",
            "ticks": ""
           },
           "bgcolor": "#E5ECF6",
           "radialaxis": {
            "gridcolor": "white",
            "linecolor": "white",
            "ticks": ""
           }
          },
          "scene": {
           "xaxis": {
            "backgroundcolor": "#E5ECF6",
            "gridcolor": "white",
            "gridwidth": 2,
            "linecolor": "white",
            "showbackground": true,
            "ticks": "",
            "zerolinecolor": "white"
           },
           "yaxis": {
            "backgroundcolor": "#E5ECF6",
            "gridcolor": "white",
            "gridwidth": 2,
            "linecolor": "white",
            "showbackground": true,
            "ticks": "",
            "zerolinecolor": "white"
           },
           "zaxis": {
            "backgroundcolor": "#E5ECF6",
            "gridcolor": "white",
            "gridwidth": 2,
            "linecolor": "white",
            "showbackground": true,
            "ticks": "",
            "zerolinecolor": "white"
           }
          },
          "shapedefaults": {
           "line": {
            "color": "#2a3f5f"
           }
          },
          "ternary": {
           "aaxis": {
            "gridcolor": "white",
            "linecolor": "white",
            "ticks": ""
           },
           "baxis": {
            "gridcolor": "white",
            "linecolor": "white",
            "ticks": ""
           },
           "bgcolor": "#E5ECF6",
           "caxis": {
            "gridcolor": "white",
            "linecolor": "white",
            "ticks": ""
           }
          },
          "title": {
           "x": 0.05
          },
          "xaxis": {
           "automargin": true,
           "gridcolor": "white",
           "linecolor": "white",
           "ticks": "",
           "title": {
            "standoff": 15
           },
           "zerolinecolor": "white",
           "zerolinewidth": 2
          },
          "yaxis": {
           "automargin": true,
           "gridcolor": "white",
           "linecolor": "white",
           "ticks": "",
           "title": {
            "standoff": 15
           },
           "zerolinecolor": "white",
           "zerolinewidth": 2
          }
         }
        },
        "title": {
         "text": "Significance Proportion for Europe"
        },
        "width": 800
       }
      }
     },
     "metadata": {},
     "output_type": "display_data"
    },
    {
     "data": {
      "application/vnd.plotly.v1+json": {
       "config": {
        "plotlyServerURL": "https://plot.ly"
       },
       "data": [
        {
         "domain": {
          "x": [
           0,
           1
          ],
          "y": [
           0,
           1
          ]
         },
         "hovertemplate": "Significant=%{label}<br>Count=%{value}<extra></extra>",
         "labels": [
          "No",
          "Yes"
         ],
         "legendgroup": "",
         "name": "",
         "showlegend": true,
         "textinfo": "label+value",
         "type": "pie",
         "values": [
          15,
          5
         ]
        }
       ],
       "layout": {
        "height": 600,
        "legend": {
         "title": {
          "text": "Is there a correlation?"
         },
         "tracegroupgap": 0
        },
        "template": {
         "data": {
          "bar": [
           {
            "error_x": {
             "color": "#2a3f5f"
            },
            "error_y": {
             "color": "#2a3f5f"
            },
            "marker": {
             "line": {
              "color": "#E5ECF6",
              "width": 0.5
             },
             "pattern": {
              "fillmode": "overlay",
              "size": 10,
              "solidity": 0.2
             }
            },
            "type": "bar"
           }
          ],
          "barpolar": [
           {
            "marker": {
             "line": {
              "color": "#E5ECF6",
              "width": 0.5
             },
             "pattern": {
              "fillmode": "overlay",
              "size": 10,
              "solidity": 0.2
             }
            },
            "type": "barpolar"
           }
          ],
          "carpet": [
           {
            "aaxis": {
             "endlinecolor": "#2a3f5f",
             "gridcolor": "white",
             "linecolor": "white",
             "minorgridcolor": "white",
             "startlinecolor": "#2a3f5f"
            },
            "baxis": {
             "endlinecolor": "#2a3f5f",
             "gridcolor": "white",
             "linecolor": "white",
             "minorgridcolor": "white",
             "startlinecolor": "#2a3f5f"
            },
            "type": "carpet"
           }
          ],
          "choropleth": [
           {
            "colorbar": {
             "outlinewidth": 0,
             "ticks": ""
            },
            "type": "choropleth"
           }
          ],
          "contour": [
           {
            "colorbar": {
             "outlinewidth": 0,
             "ticks": ""
            },
            "colorscale": [
             [
              0,
              "#0d0887"
             ],
             [
              0.1111111111111111,
              "#46039f"
             ],
             [
              0.2222222222222222,
              "#7201a8"
             ],
             [
              0.3333333333333333,
              "#9c179e"
             ],
             [
              0.4444444444444444,
              "#bd3786"
             ],
             [
              0.5555555555555556,
              "#d8576b"
             ],
             [
              0.6666666666666666,
              "#ed7953"
             ],
             [
              0.7777777777777778,
              "#fb9f3a"
             ],
             [
              0.8888888888888888,
              "#fdca26"
             ],
             [
              1,
              "#f0f921"
             ]
            ],
            "type": "contour"
           }
          ],
          "contourcarpet": [
           {
            "colorbar": {
             "outlinewidth": 0,
             "ticks": ""
            },
            "type": "contourcarpet"
           }
          ],
          "heatmap": [
           {
            "colorbar": {
             "outlinewidth": 0,
             "ticks": ""
            },
            "colorscale": [
             [
              0,
              "#0d0887"
             ],
             [
              0.1111111111111111,
              "#46039f"
             ],
             [
              0.2222222222222222,
              "#7201a8"
             ],
             [
              0.3333333333333333,
              "#9c179e"
             ],
             [
              0.4444444444444444,
              "#bd3786"
             ],
             [
              0.5555555555555556,
              "#d8576b"
             ],
             [
              0.6666666666666666,
              "#ed7953"
             ],
             [
              0.7777777777777778,
              "#fb9f3a"
             ],
             [
              0.8888888888888888,
              "#fdca26"
             ],
             [
              1,
              "#f0f921"
             ]
            ],
            "type": "heatmap"
           }
          ],
          "heatmapgl": [
           {
            "colorbar": {
             "outlinewidth": 0,
             "ticks": ""
            },
            "colorscale": [
             [
              0,
              "#0d0887"
             ],
             [
              0.1111111111111111,
              "#46039f"
             ],
             [
              0.2222222222222222,
              "#7201a8"
             ],
             [
              0.3333333333333333,
              "#9c179e"
             ],
             [
              0.4444444444444444,
              "#bd3786"
             ],
             [
              0.5555555555555556,
              "#d8576b"
             ],
             [
              0.6666666666666666,
              "#ed7953"
             ],
             [
              0.7777777777777778,
              "#fb9f3a"
             ],
             [
              0.8888888888888888,
              "#fdca26"
             ],
             [
              1,
              "#f0f921"
             ]
            ],
            "type": "heatmapgl"
           }
          ],
          "histogram": [
           {
            "marker": {
             "pattern": {
              "fillmode": "overlay",
              "size": 10,
              "solidity": 0.2
             }
            },
            "type": "histogram"
           }
          ],
          "histogram2d": [
           {
            "colorbar": {
             "outlinewidth": 0,
             "ticks": ""
            },
            "colorscale": [
             [
              0,
              "#0d0887"
             ],
             [
              0.1111111111111111,
              "#46039f"
             ],
             [
              0.2222222222222222,
              "#7201a8"
             ],
             [
              0.3333333333333333,
              "#9c179e"
             ],
             [
              0.4444444444444444,
              "#bd3786"
             ],
             [
              0.5555555555555556,
              "#d8576b"
             ],
             [
              0.6666666666666666,
              "#ed7953"
             ],
             [
              0.7777777777777778,
              "#fb9f3a"
             ],
             [
              0.8888888888888888,
              "#fdca26"
             ],
             [
              1,
              "#f0f921"
             ]
            ],
            "type": "histogram2d"
           }
          ],
          "histogram2dcontour": [
           {
            "colorbar": {
             "outlinewidth": 0,
             "ticks": ""
            },
            "colorscale": [
             [
              0,
              "#0d0887"
             ],
             [
              0.1111111111111111,
              "#46039f"
             ],
             [
              0.2222222222222222,
              "#7201a8"
             ],
             [
              0.3333333333333333,
              "#9c179e"
             ],
             [
              0.4444444444444444,
              "#bd3786"
             ],
             [
              0.5555555555555556,
              "#d8576b"
             ],
             [
              0.6666666666666666,
              "#ed7953"
             ],
             [
              0.7777777777777778,
              "#fb9f3a"
             ],
             [
              0.8888888888888888,
              "#fdca26"
             ],
             [
              1,
              "#f0f921"
             ]
            ],
            "type": "histogram2dcontour"
           }
          ],
          "mesh3d": [
           {
            "colorbar": {
             "outlinewidth": 0,
             "ticks": ""
            },
            "type": "mesh3d"
           }
          ],
          "parcoords": [
           {
            "line": {
             "colorbar": {
              "outlinewidth": 0,
              "ticks": ""
             }
            },
            "type": "parcoords"
           }
          ],
          "pie": [
           {
            "automargin": true,
            "type": "pie"
           }
          ],
          "scatter": [
           {
            "fillpattern": {
             "fillmode": "overlay",
             "size": 10,
             "solidity": 0.2
            },
            "type": "scatter"
           }
          ],
          "scatter3d": [
           {
            "line": {
             "colorbar": {
              "outlinewidth": 0,
              "ticks": ""
             }
            },
            "marker": {
             "colorbar": {
              "outlinewidth": 0,
              "ticks": ""
             }
            },
            "type": "scatter3d"
           }
          ],
          "scattercarpet": [
           {
            "marker": {
             "colorbar": {
              "outlinewidth": 0,
              "ticks": ""
             }
            },
            "type": "scattercarpet"
           }
          ],
          "scattergeo": [
           {
            "marker": {
             "colorbar": {
              "outlinewidth": 0,
              "ticks": ""
             }
            },
            "type": "scattergeo"
           }
          ],
          "scattergl": [
           {
            "marker": {
             "colorbar": {
              "outlinewidth": 0,
              "ticks": ""
             }
            },
            "type": "scattergl"
           }
          ],
          "scattermapbox": [
           {
            "marker": {
             "colorbar": {
              "outlinewidth": 0,
              "ticks": ""
             }
            },
            "type": "scattermapbox"
           }
          ],
          "scatterpolar": [
           {
            "marker": {
             "colorbar": {
              "outlinewidth": 0,
              "ticks": ""
             }
            },
            "type": "scatterpolar"
           }
          ],
          "scatterpolargl": [
           {
            "marker": {
             "colorbar": {
              "outlinewidth": 0,
              "ticks": ""
             }
            },
            "type": "scatterpolargl"
           }
          ],
          "scatterternary": [
           {
            "marker": {
             "colorbar": {
              "outlinewidth": 0,
              "ticks": ""
             }
            },
            "type": "scatterternary"
           }
          ],
          "surface": [
           {
            "colorbar": {
             "outlinewidth": 0,
             "ticks": ""
            },
            "colorscale": [
             [
              0,
              "#0d0887"
             ],
             [
              0.1111111111111111,
              "#46039f"
             ],
             [
              0.2222222222222222,
              "#7201a8"
             ],
             [
              0.3333333333333333,
              "#9c179e"
             ],
             [
              0.4444444444444444,
              "#bd3786"
             ],
             [
              0.5555555555555556,
              "#d8576b"
             ],
             [
              0.6666666666666666,
              "#ed7953"
             ],
             [
              0.7777777777777778,
              "#fb9f3a"
             ],
             [
              0.8888888888888888,
              "#fdca26"
             ],
             [
              1,
              "#f0f921"
             ]
            ],
            "type": "surface"
           }
          ],
          "table": [
           {
            "cells": {
             "fill": {
              "color": "#EBF0F8"
             },
             "line": {
              "color": "white"
             }
            },
            "header": {
             "fill": {
              "color": "#C8D4E3"
             },
             "line": {
              "color": "white"
             }
            },
            "type": "table"
           }
          ]
         },
         "layout": {
          "annotationdefaults": {
           "arrowcolor": "#2a3f5f",
           "arrowhead": 0,
           "arrowwidth": 1
          },
          "autotypenumbers": "strict",
          "coloraxis": {
           "colorbar": {
            "outlinewidth": 0,
            "ticks": ""
           }
          },
          "colorscale": {
           "diverging": [
            [
             0,
             "#8e0152"
            ],
            [
             0.1,
             "#c51b7d"
            ],
            [
             0.2,
             "#de77ae"
            ],
            [
             0.3,
             "#f1b6da"
            ],
            [
             0.4,
             "#fde0ef"
            ],
            [
             0.5,
             "#f7f7f7"
            ],
            [
             0.6,
             "#e6f5d0"
            ],
            [
             0.7,
             "#b8e186"
            ],
            [
             0.8,
             "#7fbc41"
            ],
            [
             0.9,
             "#4d9221"
            ],
            [
             1,
             "#276419"
            ]
           ],
           "sequential": [
            [
             0,
             "#0d0887"
            ],
            [
             0.1111111111111111,
             "#46039f"
            ],
            [
             0.2222222222222222,
             "#7201a8"
            ],
            [
             0.3333333333333333,
             "#9c179e"
            ],
            [
             0.4444444444444444,
             "#bd3786"
            ],
            [
             0.5555555555555556,
             "#d8576b"
            ],
            [
             0.6666666666666666,
             "#ed7953"
            ],
            [
             0.7777777777777778,
             "#fb9f3a"
            ],
            [
             0.8888888888888888,
             "#fdca26"
            ],
            [
             1,
             "#f0f921"
            ]
           ],
           "sequentialminus": [
            [
             0,
             "#0d0887"
            ],
            [
             0.1111111111111111,
             "#46039f"
            ],
            [
             0.2222222222222222,
             "#7201a8"
            ],
            [
             0.3333333333333333,
             "#9c179e"
            ],
            [
             0.4444444444444444,
             "#bd3786"
            ],
            [
             0.5555555555555556,
             "#d8576b"
            ],
            [
             0.6666666666666666,
             "#ed7953"
            ],
            [
             0.7777777777777778,
             "#fb9f3a"
            ],
            [
             0.8888888888888888,
             "#fdca26"
            ],
            [
             1,
             "#f0f921"
            ]
           ]
          },
          "colorway": [
           "#636efa",
           "#EF553B",
           "#00cc96",
           "#ab63fa",
           "#FFA15A",
           "#19d3f3",
           "#FF6692",
           "#B6E880",
           "#FF97FF",
           "#FECB52"
          ],
          "font": {
           "color": "#2a3f5f"
          },
          "geo": {
           "bgcolor": "white",
           "lakecolor": "white",
           "landcolor": "#E5ECF6",
           "showlakes": true,
           "showland": true,
           "subunitcolor": "white"
          },
          "hoverlabel": {
           "align": "left"
          },
          "hovermode": "closest",
          "mapbox": {
           "style": "light"
          },
          "paper_bgcolor": "white",
          "plot_bgcolor": "#E5ECF6",
          "polar": {
           "angularaxis": {
            "gridcolor": "white",
            "linecolor": "white",
            "ticks": ""
           },
           "bgcolor": "#E5ECF6",
           "radialaxis": {
            "gridcolor": "white",
            "linecolor": "white",
            "ticks": ""
           }
          },
          "scene": {
           "xaxis": {
            "backgroundcolor": "#E5ECF6",
            "gridcolor": "white",
            "gridwidth": 2,
            "linecolor": "white",
            "showbackground": true,
            "ticks": "",
            "zerolinecolor": "white"
           },
           "yaxis": {
            "backgroundcolor": "#E5ECF6",
            "gridcolor": "white",
            "gridwidth": 2,
            "linecolor": "white",
            "showbackground": true,
            "ticks": "",
            "zerolinecolor": "white"
           },
           "zaxis": {
            "backgroundcolor": "#E5ECF6",
            "gridcolor": "white",
            "gridwidth": 2,
            "linecolor": "white",
            "showbackground": true,
            "ticks": "",
            "zerolinecolor": "white"
           }
          },
          "shapedefaults": {
           "line": {
            "color": "#2a3f5f"
           }
          },
          "ternary": {
           "aaxis": {
            "gridcolor": "white",
            "linecolor": "white",
            "ticks": ""
           },
           "baxis": {
            "gridcolor": "white",
            "linecolor": "white",
            "ticks": ""
           },
           "bgcolor": "#E5ECF6",
           "caxis": {
            "gridcolor": "white",
            "linecolor": "white",
            "ticks": ""
           }
          },
          "title": {
           "x": 0.05
          },
          "xaxis": {
           "automargin": true,
           "gridcolor": "white",
           "linecolor": "white",
           "ticks": "",
           "title": {
            "standoff": 15
           },
           "zerolinecolor": "white",
           "zerolinewidth": 2
          },
          "yaxis": {
           "automargin": true,
           "gridcolor": "white",
           "linecolor": "white",
           "ticks": "",
           "title": {
            "standoff": 15
           },
           "zerolinecolor": "white",
           "zerolinewidth": 2
          }
         }
        },
        "title": {
         "text": "Significance Proportion for Asia"
        },
        "width": 800
       }
      }
     },
     "metadata": {},
     "output_type": "display_data"
    }
   ],
   "source": [
    "import plotly.express as px\n",
    "\n",
    "def plot_significance_pie_charts(results_df):\n",
    "    \"\"\" \n",
    "    Cette fonction a pour but  de créer des graphiques en camembert pour chaque continent afin de visualiser la proportion de corrélations significatives\n",
    "    sur les 2 années étudiées\n",
    "\n",
    "    results_df : Le Dataframe contenant les résultats des corrélations\n",
    "    \n",
    "    \"\"\"\n",
    "    results_df = results_df.copy()\n",
    "    results_df['significant'] = results_df['significant'].map({True: 'Yes', False: 'No'})\n",
    "    significance_counts = results_df.groupby(['continent', 'significant']).size().reset_index(name='count')\n",
    "    \n",
    "    for continent in results_df['continent'].unique():\n",
    "        continent_data = significance_counts[significance_counts['continent'] == continent]\n",
    "        fig = px.pie(\n",
    "            continent_data, \n",
    "            names='significant', \n",
    "            values='count', \n",
    "            title=f'Significance Proportion for {continent}',\n",
    "            labels={'significant': 'Significant', 'count': 'Count'}\n",
    "        )\n",
    "\n",
    "        fig.update_traces(textinfo='label+value')\n",
    "        fig.update_layout(width=800, height=600, legend_title_text='Is there a correlation?')\n",
    "        fig.show()\n",
    "plot_significance_pie_charts(df_corr_global)"
   ]
  },
  {
   "cell_type": "code",
   "execution_count": 26,
   "metadata": {},
   "outputs": [
    {
     "name": "stdout",
     "output_type": "stream",
     "text": [
      "Significance by Continent:\n",
      "       continent  True  False  True_percentage  False_percentage\n",
      "0           Asia     5     15             25.0              75.0\n",
      "1         Europe     2     18             10.0              90.0\n",
      "2  North America     8     12             40.0              60.0\n",
      "\n",
      "Significance by Sector:\n",
      "                                 sector  True  False  True_percentage  \\\n",
      "0         Commercial services and media     0      6         0.000000   \n",
      "1                Consumer sectors (B2C)     2      4        33.333333   \n",
      "2          Energy and natural resources     0      6         0.000000   \n",
      "3                     Financial sectors     2      4        33.333333   \n",
      "4             Healthcare and well-being     3      3        50.000000   \n",
      "5  Industrial and manufacturing sectors     1      5        16.666667   \n",
      "6      Real estate and related services     0      6         0.000000   \n",
      "7                    Technology sectors     4      2        66.666667   \n",
      "8               Transport and logistics     3      3        50.000000   \n",
      "9                             Utilities     0      6         0.000000   \n",
      "\n",
      "   False_percentage  \n",
      "0        100.000000  \n",
      "1         66.666667  \n",
      "2        100.000000  \n",
      "3         66.666667  \n",
      "4         50.000000  \n",
      "5         83.333333  \n",
      "6        100.000000  \n",
      "7         33.333333  \n",
      "8         50.000000  \n",
      "9        100.000000  \n",
      "\n",
      "Significance by Year:\n",
      "   Year  True  False  True_percentage  False_percentage\n",
      "0  2023     7     23        23.333333         76.666667\n",
      "1  2024     8     22        26.666667         73.333333\n"
     ]
    }
   ],
   "source": [
    "def calculate_true_false_percentage(dataframe):\n",
    "    \"\"\"\n",
    "    Calcule le pourcentage de True (significatif) et False (non significatif) par continent, secteur, puis année.\n",
    "    \"\"\"\n",
    "\n",
    "    dataframe['significant'] = dataframe['significant'].astype(bool)\n",
    "\n",
    "    continent_significance = dataframe.groupby('continent')['significant'].agg([lambda x: (x==True).sum(), lambda x: (x==False).sum()])\n",
    "    continent_significance.columns = ['True', 'False']\n",
    "    continent_significance['True_percentage'] = (continent_significance['True'] / (continent_significance['True'] + continent_significance['False'])) * 100\n",
    "    continent_significance['False_percentage'] = (continent_significance['False'] / (continent_significance['True'] + continent_significance['False'])) * 100\n",
    "    continent_significance = continent_significance.reset_index()\n",
    "\n",
    "    sector_significance = dataframe.groupby('sector')['significant'].agg([lambda x: (x==True).sum(), lambda x: (x==False).sum()])\n",
    "    sector_significance.columns = ['True', 'False']\n",
    "    sector_significance['True_percentage'] = (sector_significance['True'] / (sector_significance['True'] + sector_significance['False'])) * 100\n",
    "    sector_significance['False_percentage'] = (sector_significance['False'] / (sector_significance['True'] + sector_significance['False'])) * 100\n",
    "    sector_significance = sector_significance.reset_index()\n",
    "\n",
    "    year_significance = dataframe.groupby('Year')['significant'].agg([lambda x: (x==True).sum(), lambda x: (x==False).sum()])\n",
    "    year_significance.columns = ['True', 'False']\n",
    "    year_significance['True_percentage'] = (year_significance['True'] / (year_significance['True'] + year_significance['False'])) * 100\n",
    "    year_significance['False_percentage'] = (year_significance['False'] / (year_significance['True'] + year_significance['False'])) * 100\n",
    "    year_significance = year_significance.reset_index()\n",
    "\n",
    "    return continent_significance, sector_significance, year_significance\n",
    "\n",
    "# Appliquer la fonction pour obtenir les pourcentages\n",
    "continent_results, sector_results, year_results = calculate_true_false_percentage(df_corr_global)\n",
    "\n",
    "# Afficher les résultats pour chaque niveau\n",
    "print(\"Significance by Continent:\")\n",
    "print(continent_results)\n",
    "\n",
    "print(\"\\nSignificance by Sector:\")\n",
    "print(sector_results)\n",
    "\n",
    "print(\"\\nSignificance by Year:\")\n",
    "print(year_results)\n"
   ]
  },
  {
   "cell_type": "code",
   "execution_count": 27,
   "metadata": {},
   "outputs": [
    {
     "data": {
      "text/html": [
       "<div>\n",
       "<style scoped>\n",
       "    .dataframe tbody tr th:only-of-type {\n",
       "        vertical-align: middle;\n",
       "    }\n",
       "\n",
       "    .dataframe tbody tr th {\n",
       "        vertical-align: top;\n",
       "    }\n",
       "\n",
       "    .dataframe thead th {\n",
       "        text-align: right;\n",
       "    }\n",
       "</style>\n",
       "<table border=\"1\" class=\"dataframe\">\n",
       "  <thead>\n",
       "    <tr style=\"text-align: right;\">\n",
       "      <th></th>\n",
       "      <th>continent</th>\n",
       "      <th>True</th>\n",
       "      <th>False</th>\n",
       "      <th>True_percentage</th>\n",
       "      <th>False_percentage</th>\n",
       "    </tr>\n",
       "  </thead>\n",
       "  <tbody>\n",
       "    <tr>\n",
       "      <th>2</th>\n",
       "      <td>North America</td>\n",
       "      <td>8</td>\n",
       "      <td>12</td>\n",
       "      <td>40.0</td>\n",
       "      <td>60.0</td>\n",
       "    </tr>\n",
       "    <tr>\n",
       "      <th>0</th>\n",
       "      <td>Asia</td>\n",
       "      <td>5</td>\n",
       "      <td>15</td>\n",
       "      <td>25.0</td>\n",
       "      <td>75.0</td>\n",
       "    </tr>\n",
       "    <tr>\n",
       "      <th>1</th>\n",
       "      <td>Europe</td>\n",
       "      <td>2</td>\n",
       "      <td>18</td>\n",
       "      <td>10.0</td>\n",
       "      <td>90.0</td>\n",
       "    </tr>\n",
       "  </tbody>\n",
       "</table>\n",
       "</div>"
      ],
      "text/plain": [
       "       continent  True  False  True_percentage  False_percentage\n",
       "2  North America     8     12             40.0              60.0\n",
       "0           Asia     5     15             25.0              75.0\n",
       "1         Europe     2     18             10.0              90.0"
      ]
     },
     "execution_count": 27,
     "metadata": {},
     "output_type": "execute_result"
    }
   ],
   "source": [
    "continent_results.sort_values(by='True_percentage', ascending=False, inplace=True)\n",
    "continent_results"
   ]
  },
  {
   "cell_type": "code",
   "execution_count": 28,
   "metadata": {},
   "outputs": [
    {
     "data": {
      "text/html": [
       "<div>\n",
       "<style scoped>\n",
       "    .dataframe tbody tr th:only-of-type {\n",
       "        vertical-align: middle;\n",
       "    }\n",
       "\n",
       "    .dataframe tbody tr th {\n",
       "        vertical-align: top;\n",
       "    }\n",
       "\n",
       "    .dataframe thead th {\n",
       "        text-align: right;\n",
       "    }\n",
       "</style>\n",
       "<table border=\"1\" class=\"dataframe\">\n",
       "  <thead>\n",
       "    <tr style=\"text-align: right;\">\n",
       "      <th></th>\n",
       "      <th>sector</th>\n",
       "      <th>True</th>\n",
       "      <th>False</th>\n",
       "      <th>True_percentage</th>\n",
       "      <th>False_percentage</th>\n",
       "    </tr>\n",
       "  </thead>\n",
       "  <tbody>\n",
       "    <tr>\n",
       "      <th>7</th>\n",
       "      <td>Technology sectors</td>\n",
       "      <td>4</td>\n",
       "      <td>2</td>\n",
       "      <td>66.666667</td>\n",
       "      <td>33.333333</td>\n",
       "    </tr>\n",
       "    <tr>\n",
       "      <th>4</th>\n",
       "      <td>Healthcare and well-being</td>\n",
       "      <td>3</td>\n",
       "      <td>3</td>\n",
       "      <td>50.000000</td>\n",
       "      <td>50.000000</td>\n",
       "    </tr>\n",
       "    <tr>\n",
       "      <th>8</th>\n",
       "      <td>Transport and logistics</td>\n",
       "      <td>3</td>\n",
       "      <td>3</td>\n",
       "      <td>50.000000</td>\n",
       "      <td>50.000000</td>\n",
       "    </tr>\n",
       "    <tr>\n",
       "      <th>1</th>\n",
       "      <td>Consumer sectors (B2C)</td>\n",
       "      <td>2</td>\n",
       "      <td>4</td>\n",
       "      <td>33.333333</td>\n",
       "      <td>66.666667</td>\n",
       "    </tr>\n",
       "    <tr>\n",
       "      <th>3</th>\n",
       "      <td>Financial sectors</td>\n",
       "      <td>2</td>\n",
       "      <td>4</td>\n",
       "      <td>33.333333</td>\n",
       "      <td>66.666667</td>\n",
       "    </tr>\n",
       "    <tr>\n",
       "      <th>5</th>\n",
       "      <td>Industrial and manufacturing sectors</td>\n",
       "      <td>1</td>\n",
       "      <td>5</td>\n",
       "      <td>16.666667</td>\n",
       "      <td>83.333333</td>\n",
       "    </tr>\n",
       "    <tr>\n",
       "      <th>0</th>\n",
       "      <td>Commercial services and media</td>\n",
       "      <td>0</td>\n",
       "      <td>6</td>\n",
       "      <td>0.000000</td>\n",
       "      <td>100.000000</td>\n",
       "    </tr>\n",
       "    <tr>\n",
       "      <th>2</th>\n",
       "      <td>Energy and natural resources</td>\n",
       "      <td>0</td>\n",
       "      <td>6</td>\n",
       "      <td>0.000000</td>\n",
       "      <td>100.000000</td>\n",
       "    </tr>\n",
       "    <tr>\n",
       "      <th>6</th>\n",
       "      <td>Real estate and related services</td>\n",
       "      <td>0</td>\n",
       "      <td>6</td>\n",
       "      <td>0.000000</td>\n",
       "      <td>100.000000</td>\n",
       "    </tr>\n",
       "    <tr>\n",
       "      <th>9</th>\n",
       "      <td>Utilities</td>\n",
       "      <td>0</td>\n",
       "      <td>6</td>\n",
       "      <td>0.000000</td>\n",
       "      <td>100.000000</td>\n",
       "    </tr>\n",
       "  </tbody>\n",
       "</table>\n",
       "</div>"
      ],
      "text/plain": [
       "                                 sector  True  False  True_percentage  \\\n",
       "7                    Technology sectors     4      2        66.666667   \n",
       "4             Healthcare and well-being     3      3        50.000000   \n",
       "8               Transport and logistics     3      3        50.000000   \n",
       "1                Consumer sectors (B2C)     2      4        33.333333   \n",
       "3                     Financial sectors     2      4        33.333333   \n",
       "5  Industrial and manufacturing sectors     1      5        16.666667   \n",
       "0         Commercial services and media     0      6         0.000000   \n",
       "2          Energy and natural resources     0      6         0.000000   \n",
       "6      Real estate and related services     0      6         0.000000   \n",
       "9                             Utilities     0      6         0.000000   \n",
       "\n",
       "   False_percentage  \n",
       "7         33.333333  \n",
       "4         50.000000  \n",
       "8         50.000000  \n",
       "1         66.666667  \n",
       "3         66.666667  \n",
       "5         83.333333  \n",
       "0        100.000000  \n",
       "2        100.000000  \n",
       "6        100.000000  \n",
       "9        100.000000  "
      ]
     },
     "execution_count": 28,
     "metadata": {},
     "output_type": "execute_result"
    }
   ],
   "source": [
    "sector_results.sort_values(by='True_percentage', ascending=False, inplace=True)\n",
    "sector_results"
   ]
  },
  {
   "cell_type": "code",
   "execution_count": 29,
   "metadata": {},
   "outputs": [
    {
     "data": {
      "text/html": [
       "<div>\n",
       "<style scoped>\n",
       "    .dataframe tbody tr th:only-of-type {\n",
       "        vertical-align: middle;\n",
       "    }\n",
       "\n",
       "    .dataframe tbody tr th {\n",
       "        vertical-align: top;\n",
       "    }\n",
       "\n",
       "    .dataframe thead th {\n",
       "        text-align: right;\n",
       "    }\n",
       "</style>\n",
       "<table border=\"1\" class=\"dataframe\">\n",
       "  <thead>\n",
       "    <tr style=\"text-align: right;\">\n",
       "      <th></th>\n",
       "      <th>Year</th>\n",
       "      <th>True</th>\n",
       "      <th>False</th>\n",
       "      <th>True_percentage</th>\n",
       "      <th>False_percentage</th>\n",
       "    </tr>\n",
       "  </thead>\n",
       "  <tbody>\n",
       "    <tr>\n",
       "      <th>1</th>\n",
       "      <td>2024</td>\n",
       "      <td>8</td>\n",
       "      <td>22</td>\n",
       "      <td>26.666667</td>\n",
       "      <td>73.333333</td>\n",
       "    </tr>\n",
       "    <tr>\n",
       "      <th>0</th>\n",
       "      <td>2023</td>\n",
       "      <td>7</td>\n",
       "      <td>23</td>\n",
       "      <td>23.333333</td>\n",
       "      <td>76.666667</td>\n",
       "    </tr>\n",
       "  </tbody>\n",
       "</table>\n",
       "</div>"
      ],
      "text/plain": [
       "   Year  True  False  True_percentage  False_percentage\n",
       "1  2024     8     22        26.666667         73.333333\n",
       "0  2023     7     23        23.333333         76.666667"
      ]
     },
     "execution_count": 29,
     "metadata": {},
     "output_type": "execute_result"
    }
   ],
   "source": [
    "year_results.sort_values(by='True_percentage', ascending=False, inplace=True)\n",
    "year_results"
   ]
  },
  {
   "cell_type": "code",
   "execution_count": 37,
   "metadata": {},
   "outputs": [
    {
     "name": "stderr",
     "output_type": "stream",
     "text": [
      "C:\\Users\\PC\\AppData\\Local\\Temp\\ipykernel_7184\\2978705829.py:13: FutureWarning:\n",
      "\n",
      "\n",
      "\n",
      "Passing `palette` without assigning `hue` is deprecated and will be removed in v0.14.0. Assign the `x` variable to `hue` and set `legend=False` for the same effect.\n",
      "\n",
      "\n"
     ]
    },
    {
     "data": {
      "image/png": "[encoded data removed]",
      "text/plain": [
       "<Figure size 1000x600 with 1 Axes>"
      ]
     },
     "metadata": {},
     "output_type": "display_data"
    },
    {
     "name": "stderr",
     "output_type": "stream",
     "text": [
      "C:\\Users\\PC\\AppData\\Local\\Temp\\ipykernel_7184\\2978705829.py:13: FutureWarning:\n",
      "\n",
      "\n",
      "\n",
      "Passing `palette` without assigning `hue` is deprecated and will be removed in v0.14.0. Assign the `x` variable to `hue` and set `legend=False` for the same effect.\n",
      "\n",
      "\n"
     ]
    },
    {
     "data": {
      "image/png": "[encoded data removed]",
      "text/plain": [
       "<Figure size 1000x600 with 1 Axes>"
      ]
     },
     "metadata": {},
     "output_type": "display_data"
    }
   ],
   "source": [
    "import matplotlib.pyplot as plt\n",
    "import seaborn as sns\n",
    "\n",
    "def plot_top_3_significance(dataframe, title, x_label, y_label):\n",
    "    \"\"\"\n",
    "    Fonction pour tracer les 3 premiers résultats par pourcentage de True.\n",
    "    \"\"\"\n",
    "    # Trier par pourcentage de True en ordre décroissant et prendre les 3 premiers\n",
    "    top_3 = dataframe.sort_values(by='True_percentage', ascending=False).head(3)\n",
    "\n",
    "    # Tracer les graphiques en barre\n",
    "    plt.figure(figsize=(10, 6))\n",
    "    sns.barplot(x=top_3[x_label], y=top_3['True_percentage'], palette=\"viridis\")\n",
    "    \n",
    "    # Ajouter des labels et un titre\n",
    "    plt.title(f'{title} by Significant relations')\n",
    "    plt.xlabel(x_label)\n",
    "    plt.ylabel('Percentage of Significant Relation')\n",
    "    plt.xticks(rotation=45)\n",
    "    plt.show()\n",
    "\n",
    "# Pour les continents\n",
    "plot_top_3_significance(continent_results, 'Continents', 'continent', 'True_percentage')\n",
    "\n",
    "# Pour les secteurs\n",
    "plot_top_3_significance(sector_results, 'Sectors', 'sector', 'True_percentage')\n"
   ]
  }
 ],
 "metadata": {
  "kernelspec": {
   "display_name": ".venv",
   "language": "python",
   "name": "python3"
  },
  "language_info": {
   "codemirror_mode": {
    "name": "ipython",
    "version": 3
   },
   "file_extension": ".py",
   "mimetype": "text/x-python",
   "name": "python",
   "nbconvert_exporter": "python",
   "pygments_lexer": "ipython3",
   "version": "3.13.0"
  }
 },
 "nbformat": 4,
 "nbformat_minor": 2
}
