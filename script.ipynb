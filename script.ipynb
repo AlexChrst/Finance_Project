{
 "cells": [
  {
   "cell_type": "code",
   "execution_count": 4,
   "metadata": {},
   "outputs": [],
   "source": [
    "import pandas as pd\n",
    "input_file = \"/Users/issameabdeljalil/Desktop/M2_MOSEF/Finance/Projet_Webscrapping/real_tabulation_scraped_data.csv\"  # Remplacez par le chemin vers votre fichier CSV\n",
    "data = pd.read_csv(input_file, delimiter=\"\\t\", on_bad_lines='skip')"
   ]
  },
  {
   "cell_type": "code",
   "execution_count": 5,
   "metadata": {},
   "outputs": [
    {
     "data": {
      "text/html": [
       "<div>\n",
       "<style scoped>\n",
       "    .dataframe tbody tr th:only-of-type {\n",
       "        vertical-align: middle;\n",
       "    }\n",
       "\n",
       "    .dataframe tbody tr th {\n",
       "        vertical-align: top;\n",
       "    }\n",
       "\n",
       "    .dataframe thead th {\n",
       "        text-align: right;\n",
       "    }\n",
       "</style>\n",
       "<table border=\"1\" class=\"dataframe\">\n",
       "  <thead>\n",
       "    <tr style=\"text-align: right;\">\n",
       "      <th></th>\n",
       "      <th>name</th>\n",
       "      <th>grade</th>\n",
       "      <th>country</th>\n",
       "      <th>date</th>\n",
       "      <th>industry</th>\n",
       "      <th>employees</th>\n",
       "    </tr>\n",
       "  </thead>\n",
       "  <tbody>\n",
       "    <tr>\n",
       "      <th>0</th>\n",
       "      <td>1-800-FLOWERS.COM, Inc.</td>\n",
       "      <td>22.6</td>\n",
       "      <td>United States of America</td>\n",
       "      <td>Apr 8, 2024</td>\n",
       "      <td>Retailing</td>\n",
       "      <td>4,000</td>\n",
       "    </tr>\n",
       "    <tr>\n",
       "      <th>1</th>\n",
       "      <td>1&amp;1 AG</td>\n",
       "      <td>27.7</td>\n",
       "      <td>Germany</td>\n",
       "      <td>Oct 14, 2024</td>\n",
       "      <td>Telecommunication Services</td>\n",
       "      <td>3,280</td>\n",
       "    </tr>\n",
       "    <tr>\n",
       "      <th>2</th>\n",
       "      <td>10X Genomics, Inc.</td>\n",
       "      <td>22.5</td>\n",
       "      <td>United States of America</td>\n",
       "      <td>Apr 10, 2024</td>\n",
       "      <td>Pharmaceuticals</td>\n",
       "      <td>1,259</td>\n",
       "    </tr>\n",
       "    <tr>\n",
       "      <th>3</th>\n",
       "      <td>11 Bit Studios SA</td>\n",
       "      <td>16.3</td>\n",
       "      <td>Poland</td>\n",
       "      <td>Jan 31, 2023</td>\n",
       "      <td>Software &amp; Services</td>\n",
       "      <td>299</td>\n",
       "    </tr>\n",
       "    <tr>\n",
       "      <th>4</th>\n",
       "      <td>1st Source Corp.</td>\n",
       "      <td>35.0</td>\n",
       "      <td>United States of America</td>\n",
       "      <td>Oct 1, 2024</td>\n",
       "      <td>Banks</td>\n",
       "      <td>1,170</td>\n",
       "    </tr>\n",
       "  </tbody>\n",
       "</table>\n",
       "</div>"
      ],
      "text/plain": [
       "                      name  grade                   country          date  \\\n",
       "0  1-800-FLOWERS.COM, Inc.   22.6  United States of America   Apr 8, 2024   \n",
       "1                   1&1 AG   27.7                   Germany  Oct 14, 2024   \n",
       "2       10X Genomics, Inc.   22.5  United States of America  Apr 10, 2024   \n",
       "3        11 Bit Studios SA   16.3                    Poland  Jan 31, 2023   \n",
       "4         1st Source Corp.   35.0  United States of America   Oct 1, 2024   \n",
       "\n",
       "                     industry employees  \n",
       "0                   Retailing     4,000  \n",
       "1  Telecommunication Services     3,280  \n",
       "2             Pharmaceuticals     1,259  \n",
       "3         Software & Services       299  \n",
       "4                       Banks     1,170  "
      ]
     },
     "execution_count": 5,
     "metadata": {},
     "output_type": "execute_result"
    }
   ],
   "source": [
    "data.head()"
   ]
  },
  {
   "cell_type": "code",
   "execution_count": 3,
   "metadata": {},
   "outputs": [
    {
     "name": "stdout",
     "output_type": "stream",
     "text": [
      "Index(['name\\tgrade\\tcountry\\tdate\\tindustry\\temployees'], dtype='object')\n"
     ]
    }
   ],
   "source": [
    "print(data.columns)"
   ]
  },
  {
   "cell_type": "code",
   "execution_count": null,
   "metadata": {},
   "outputs": [],
   "source": []
  }
 ],
 "metadata": {
  "kernelspec": {
   "display_name": ".venv",
   "language": "python",
   "name": "python3"
  },
  "language_info": {
   "codemirror_mode": {
    "name": "ipython",
    "version": 3
   },
   "file_extension": ".py",
   "mimetype": "text/x-python",
   "name": "python",
   "nbconvert_exporter": "python",
   "pygments_lexer": "ipython3",
   "version": "3.11.4"
  }
 },
 "nbformat": 4,
 "nbformat_minor": 2
}
